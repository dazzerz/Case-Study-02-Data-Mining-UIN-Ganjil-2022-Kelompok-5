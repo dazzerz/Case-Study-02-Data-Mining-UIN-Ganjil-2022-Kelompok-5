{
  "nbformat": 4,
  "nbformat_minor": 0,
  "metadata": {
    "colab": {
      "provenance": []
    },
    "kernelspec": {
      "name": "python3",
      "display_name": "Python 3"
    },
    "language_info": {
      "name": "python"
    }
  },
  "cells": [
    {
      "cell_type": "code",
      "source": [
        "import warnings; warnings.simplefilter('ignore')\n",
        "import pandas as pd\n",
        "import numpy as np\n",
        "import matplotlib as mp\n",
        "import seaborn as sns\n",
        "import matplotlib.pyplot as plt\n",
        "import matplotlib.cm as cm"
      ],
      "metadata": {
        "id": "wdfOmFazAB1V"
      },
      "execution_count": null,
      "outputs": []
    },
    {
      "cell_type": "code",
      "source": [
        "# Running in Google Colab\n",
        "!mkdir data\n",
        "!wget -P data/ https://raw.githubusercontent.com/SalikFillah/Case-Study-02-Data-Mining_Kelompok-5/main/data/MixlTup.csv\n",
        "df = pd.read_csv(\"data/MixlTup.csv\")\n",
        "df"
      ],
      "metadata": {
        "colab": {
          "base_uri": "https://localhost:8080/",
          "height": 632
        },
        "id": "tca3zIPEOW1n",
        "outputId": "cd17f125-a554-466e-aad0-97246dd046fa"
      },
      "execution_count": null,
      "outputs": [
        {
          "output_type": "stream",
          "name": "stdout",
          "text": [
            "mkdir: cannot create directory ‘data’: File exists\n",
            "--2022-10-12 08:06:53--  https://raw.githubusercontent.com/SalikFillah/Case-Study-02-Data-Mining_Kelompok-5/main/data/MixlTup.csv\n",
            "Resolving raw.githubusercontent.com (raw.githubusercontent.com)... 185.199.108.133, 185.199.109.133, 185.199.110.133, ...\n",
            "Connecting to raw.githubusercontent.com (raw.githubusercontent.com)|185.199.108.133|:443... connected.\n",
            "HTTP request sent, awaiting response... 200 OK\n",
            "Length: 10239 (10.0K) [text/plain]\n",
            "Saving to: ‘data/MixlTup.csv.1’\n",
            "\n",
            "MixlTup.csv.1       100%[===================>]  10.00K  --.-KB/s    in 0s      \n",
            "\n",
            "2022-10-12 08:06:53 (25.5 MB/s) - ‘data/MixlTup.csv.1’ saved [10239/10239]\n",
            "\n"
          ]
        },
        {
          "output_type": "execute_result",
          "data": {
            "text/plain": [
              "      ID Jenis Kelamin Umur Pendapatan-per-bulan  skor-pengeluaran Menikah  \\\n",
              "0    101        Wanita   49         Rp13,114,754                52       1   \n",
              "1    102        Wanita   32         Rp33,606,557                86       1   \n",
              "2    103          Pria   51         Rp15,983,606                41       1   \n",
              "3    104          Pria   19         Rp12,704,918                55       0   \n",
              "4    105        Wanita   38         Rp20,081,967                42       1   \n",
              "..   ...           ...  ...                  ...               ...     ...   \n",
              "195  296          Pria   31          Rp4,098,360                73       1   \n",
              "196  297          Pria   57         Rp15,983,606                51       1   \n",
              "197  298        Wanita   35         Rp43,032,786                79       1   \n",
              "198  299        Wanita   23          Rp1,229,508                94       1   \n",
              "199  300          Pria   50          Rp1,639,344                14       1   \n",
              "\n",
              "          Kota  Promo HariFav  FavFlavor  \n",
              "0      Jakarta    1.0   Sabtu          2  \n",
              "1        Depok    1.0  Minggu          6  \n",
              "2      Jakarta    2.0  Minggu          3  \n",
              "3      Jakarta    1.0    Rabu          7  \n",
              "4      Jakarta    2.0   Senin          8  \n",
              "..         ...    ...     ...        ...  \n",
              "195      Depok    1.0   Senin          0  \n",
              "196    Jakarta    1.0  Minggu          5  \n",
              "197      Depok    1.0   Senin          7  \n",
              "198      Depok    0.0  Selasa          0  \n",
              "199  Tangerang    3.0  Minggu          6  \n",
              "\n",
              "[200 rows x 10 columns]"
            ],
            "text/html": [
              "\n",
              "  <div id=\"df-1a0e4898-f2eb-42f3-955c-bbc52bd36a2e\">\n",
              "    <div class=\"colab-df-container\">\n",
              "      <div>\n",
              "<style scoped>\n",
              "    .dataframe tbody tr th:only-of-type {\n",
              "        vertical-align: middle;\n",
              "    }\n",
              "\n",
              "    .dataframe tbody tr th {\n",
              "        vertical-align: top;\n",
              "    }\n",
              "\n",
              "    .dataframe thead th {\n",
              "        text-align: right;\n",
              "    }\n",
              "</style>\n",
              "<table border=\"1\" class=\"dataframe\">\n",
              "  <thead>\n",
              "    <tr style=\"text-align: right;\">\n",
              "      <th></th>\n",
              "      <th>ID</th>\n",
              "      <th>Jenis Kelamin</th>\n",
              "      <th>Umur</th>\n",
              "      <th>Pendapatan-per-bulan</th>\n",
              "      <th>skor-pengeluaran</th>\n",
              "      <th>Menikah</th>\n",
              "      <th>Kota</th>\n",
              "      <th>Promo</th>\n",
              "      <th>HariFav</th>\n",
              "      <th>FavFlavor</th>\n",
              "    </tr>\n",
              "  </thead>\n",
              "  <tbody>\n",
              "    <tr>\n",
              "      <th>0</th>\n",
              "      <td>101</td>\n",
              "      <td>Wanita</td>\n",
              "      <td>49</td>\n",
              "      <td>Rp13,114,754</td>\n",
              "      <td>52</td>\n",
              "      <td>1</td>\n",
              "      <td>Jakarta</td>\n",
              "      <td>1.0</td>\n",
              "      <td>Sabtu</td>\n",
              "      <td>2</td>\n",
              "    </tr>\n",
              "    <tr>\n",
              "      <th>1</th>\n",
              "      <td>102</td>\n",
              "      <td>Wanita</td>\n",
              "      <td>32</td>\n",
              "      <td>Rp33,606,557</td>\n",
              "      <td>86</td>\n",
              "      <td>1</td>\n",
              "      <td>Depok</td>\n",
              "      <td>1.0</td>\n",
              "      <td>Minggu</td>\n",
              "      <td>6</td>\n",
              "    </tr>\n",
              "    <tr>\n",
              "      <th>2</th>\n",
              "      <td>103</td>\n",
              "      <td>Pria</td>\n",
              "      <td>51</td>\n",
              "      <td>Rp15,983,606</td>\n",
              "      <td>41</td>\n",
              "      <td>1</td>\n",
              "      <td>Jakarta</td>\n",
              "      <td>2.0</td>\n",
              "      <td>Minggu</td>\n",
              "      <td>3</td>\n",
              "    </tr>\n",
              "    <tr>\n",
              "      <th>3</th>\n",
              "      <td>104</td>\n",
              "      <td>Pria</td>\n",
              "      <td>19</td>\n",
              "      <td>Rp12,704,918</td>\n",
              "      <td>55</td>\n",
              "      <td>0</td>\n",
              "      <td>Jakarta</td>\n",
              "      <td>1.0</td>\n",
              "      <td>Rabu</td>\n",
              "      <td>7</td>\n",
              "    </tr>\n",
              "    <tr>\n",
              "      <th>4</th>\n",
              "      <td>105</td>\n",
              "      <td>Wanita</td>\n",
              "      <td>38</td>\n",
              "      <td>Rp20,081,967</td>\n",
              "      <td>42</td>\n",
              "      <td>1</td>\n",
              "      <td>Jakarta</td>\n",
              "      <td>2.0</td>\n",
              "      <td>Senin</td>\n",
              "      <td>8</td>\n",
              "    </tr>\n",
              "    <tr>\n",
              "      <th>...</th>\n",
              "      <td>...</td>\n",
              "      <td>...</td>\n",
              "      <td>...</td>\n",
              "      <td>...</td>\n",
              "      <td>...</td>\n",
              "      <td>...</td>\n",
              "      <td>...</td>\n",
              "      <td>...</td>\n",
              "      <td>...</td>\n",
              "      <td>...</td>\n",
              "    </tr>\n",
              "    <tr>\n",
              "      <th>195</th>\n",
              "      <td>296</td>\n",
              "      <td>Pria</td>\n",
              "      <td>31</td>\n",
              "      <td>Rp4,098,360</td>\n",
              "      <td>73</td>\n",
              "      <td>1</td>\n",
              "      <td>Depok</td>\n",
              "      <td>1.0</td>\n",
              "      <td>Senin</td>\n",
              "      <td>0</td>\n",
              "    </tr>\n",
              "    <tr>\n",
              "      <th>196</th>\n",
              "      <td>297</td>\n",
              "      <td>Pria</td>\n",
              "      <td>57</td>\n",
              "      <td>Rp15,983,606</td>\n",
              "      <td>51</td>\n",
              "      <td>1</td>\n",
              "      <td>Jakarta</td>\n",
              "      <td>1.0</td>\n",
              "      <td>Minggu</td>\n",
              "      <td>5</td>\n",
              "    </tr>\n",
              "    <tr>\n",
              "      <th>197</th>\n",
              "      <td>298</td>\n",
              "      <td>Wanita</td>\n",
              "      <td>35</td>\n",
              "      <td>Rp43,032,786</td>\n",
              "      <td>79</td>\n",
              "      <td>1</td>\n",
              "      <td>Depok</td>\n",
              "      <td>1.0</td>\n",
              "      <td>Senin</td>\n",
              "      <td>7</td>\n",
              "    </tr>\n",
              "    <tr>\n",
              "      <th>198</th>\n",
              "      <td>299</td>\n",
              "      <td>Wanita</td>\n",
              "      <td>23</td>\n",
              "      <td>Rp1,229,508</td>\n",
              "      <td>94</td>\n",
              "      <td>1</td>\n",
              "      <td>Depok</td>\n",
              "      <td>0.0</td>\n",
              "      <td>Selasa</td>\n",
              "      <td>0</td>\n",
              "    </tr>\n",
              "    <tr>\n",
              "      <th>199</th>\n",
              "      <td>300</td>\n",
              "      <td>Pria</td>\n",
              "      <td>50</td>\n",
              "      <td>Rp1,639,344</td>\n",
              "      <td>14</td>\n",
              "      <td>1</td>\n",
              "      <td>Tangerang</td>\n",
              "      <td>3.0</td>\n",
              "      <td>Minggu</td>\n",
              "      <td>6</td>\n",
              "    </tr>\n",
              "  </tbody>\n",
              "</table>\n",
              "<p>200 rows × 10 columns</p>\n",
              "</div>\n",
              "      <button class=\"colab-df-convert\" onclick=\"convertToInteractive('df-1a0e4898-f2eb-42f3-955c-bbc52bd36a2e')\"\n",
              "              title=\"Convert this dataframe to an interactive table.\"\n",
              "              style=\"display:none;\">\n",
              "        \n",
              "  <svg xmlns=\"http://www.w3.org/2000/svg\" height=\"24px\"viewBox=\"0 0 24 24\"\n",
              "       width=\"24px\">\n",
              "    <path d=\"M0 0h24v24H0V0z\" fill=\"none\"/>\n",
              "    <path d=\"M18.56 5.44l.94 2.06.94-2.06 2.06-.94-2.06-.94-.94-2.06-.94 2.06-2.06.94zm-11 1L8.5 8.5l.94-2.06 2.06-.94-2.06-.94L8.5 2.5l-.94 2.06-2.06.94zm10 10l.94 2.06.94-2.06 2.06-.94-2.06-.94-.94-2.06-.94 2.06-2.06.94z\"/><path d=\"M17.41 7.96l-1.37-1.37c-.4-.4-.92-.59-1.43-.59-.52 0-1.04.2-1.43.59L10.3 9.45l-7.72 7.72c-.78.78-.78 2.05 0 2.83L4 21.41c.39.39.9.59 1.41.59.51 0 1.02-.2 1.41-.59l7.78-7.78 2.81-2.81c.8-.78.8-2.07 0-2.86zM5.41 20L4 18.59l7.72-7.72 1.47 1.35L5.41 20z\"/>\n",
              "  </svg>\n",
              "      </button>\n",
              "      \n",
              "  <style>\n",
              "    .colab-df-container {\n",
              "      display:flex;\n",
              "      flex-wrap:wrap;\n",
              "      gap: 12px;\n",
              "    }\n",
              "\n",
              "    .colab-df-convert {\n",
              "      background-color: #E8F0FE;\n",
              "      border: none;\n",
              "      border-radius: 50%;\n",
              "      cursor: pointer;\n",
              "      display: none;\n",
              "      fill: #1967D2;\n",
              "      height: 32px;\n",
              "      padding: 0 0 0 0;\n",
              "      width: 32px;\n",
              "    }\n",
              "\n",
              "    .colab-df-convert:hover {\n",
              "      background-color: #E2EBFA;\n",
              "      box-shadow: 0px 1px 2px rgba(60, 64, 67, 0.3), 0px 1px 3px 1px rgba(60, 64, 67, 0.15);\n",
              "      fill: #174EA6;\n",
              "    }\n",
              "\n",
              "    [theme=dark] .colab-df-convert {\n",
              "      background-color: #3B4455;\n",
              "      fill: #D2E3FC;\n",
              "    }\n",
              "\n",
              "    [theme=dark] .colab-df-convert:hover {\n",
              "      background-color: #434B5C;\n",
              "      box-shadow: 0px 1px 3px 1px rgba(0, 0, 0, 0.15);\n",
              "      filter: drop-shadow(0px 1px 2px rgba(0, 0, 0, 0.3));\n",
              "      fill: #FFFFFF;\n",
              "    }\n",
              "  </style>\n",
              "\n",
              "      <script>\n",
              "        const buttonEl =\n",
              "          document.querySelector('#df-1a0e4898-f2eb-42f3-955c-bbc52bd36a2e button.colab-df-convert');\n",
              "        buttonEl.style.display =\n",
              "          google.colab.kernel.accessAllowed ? 'block' : 'none';\n",
              "\n",
              "        async function convertToInteractive(key) {\n",
              "          const element = document.querySelector('#df-1a0e4898-f2eb-42f3-955c-bbc52bd36a2e');\n",
              "          const dataTable =\n",
              "            await google.colab.kernel.invokeFunction('convertToInteractive',\n",
              "                                                     [key], {});\n",
              "          if (!dataTable) return;\n",
              "\n",
              "          const docLinkHtml = 'Like what you see? Visit the ' +\n",
              "            '<a target=\"_blank\" href=https://colab.research.google.com/notebooks/data_table.ipynb>data table notebook</a>'\n",
              "            + ' to learn more about interactive tables.';\n",
              "          element.innerHTML = '';\n",
              "          dataTable['output_type'] = 'display_data';\n",
              "          await google.colab.output.renderOutput(dataTable, element);\n",
              "          const docLink = document.createElement('div');\n",
              "          docLink.innerHTML = docLinkHtml;\n",
              "          element.appendChild(docLink);\n",
              "        }\n",
              "      </script>\n",
              "    </div>\n",
              "  </div>\n",
              "  "
            ]
          },
          "metadata": {},
          "execution_count": 40
        }
      ]
    },
    {
      "cell_type": "markdown",
      "source": [
        "# Preprocessing"
      ],
      "metadata": {
        "id": "zTOT-I-__tc8"
      }
    },
    {
      "cell_type": "markdown",
      "source": [
        "## Menghapus Variabel yang tidak digunakan"
      ],
      "metadata": {
        "id": "o2sCHAqIoq4X"
      }
    },
    {
      "cell_type": "code",
      "source": [
        "# Drop kolom pertama karena tidak berguna (hanya index)\n",
        "df.drop(\"ID\", axis=1, inplace=True)"
      ],
      "metadata": {
        "id": "ynrS_zXGot8x"
      },
      "execution_count": null,
      "outputs": []
    },
    {
      "cell_type": "code",
      "source": [
        "df.info()"
      ],
      "metadata": {
        "id": "iK7vO3ukp0tr",
        "colab": {
          "base_uri": "https://localhost:8080/"
        },
        "outputId": "43aac261-639d-43f7-d6ed-40c5b6b0c535"
      },
      "execution_count": null,
      "outputs": [
        {
          "output_type": "stream",
          "name": "stdout",
          "text": [
            "<class 'pandas.core.frame.DataFrame'>\n",
            "RangeIndex: 200 entries, 0 to 199\n",
            "Data columns (total 9 columns):\n",
            " #   Column                Non-Null Count  Dtype  \n",
            "---  ------                --------------  -----  \n",
            " 0   Jenis Kelamin         196 non-null    object \n",
            " 1   Umur                  200 non-null    object \n",
            " 2   Pendapatan-per-bulan  200 non-null    object \n",
            " 3   skor-pengeluaran      200 non-null    int64  \n",
            " 4   Menikah               188 non-null    object \n",
            " 5   Kota                  200 non-null    object \n",
            " 6   Promo                 194 non-null    float64\n",
            " 7   HariFav               200 non-null    object \n",
            " 8   FavFlavor             200 non-null    int64  \n",
            "dtypes: float64(1), int64(2), object(6)\n",
            "memory usage: 14.2+ KB\n"
          ]
        }
      ]
    },
    {
      "cell_type": "markdown",
      "source": [
        "## Mengganti Elemen yang Menyimpang"
      ],
      "metadata": {
        "id": "wesJk0ViXthP"
      }
    },
    {
      "cell_type": "code",
      "source": [
        "df.rename(columns = {'Pendapatan-per-bulan':'Pendapatanbulanan'}, inplace = True)\n",
        "df.rename(columns = {'skor-pengeluaran':'Skorpengeluaran'}, inplace = True)\n",
        "df.rename(columns = {'Jenis Kelamin':'JenisKelamin'}, inplace = True)\n",
        "df"
      ],
      "metadata": {
        "colab": {
          "base_uri": "https://localhost:8080/",
          "height": 424
        },
        "id": "V0QWoaPswM2O",
        "outputId": "b5a7d7ae-7e6c-45eb-be55-6d218be2bdae"
      },
      "execution_count": null,
      "outputs": [
        {
          "output_type": "execute_result",
          "data": {
            "text/plain": [
              "    JenisKelamin Umur Pendapatanbulanan  Skorpengeluaran Menikah       Kota  \\\n",
              "0         Wanita   49      Rp13,114,754               52       1    Jakarta   \n",
              "1         Wanita   32      Rp33,606,557               86       1      Depok   \n",
              "2           Pria   51      Rp15,983,606               41       1    Jakarta   \n",
              "3           Pria   19      Rp12,704,918               55       0    Jakarta   \n",
              "4         Wanita   38      Rp20,081,967               42       1    Jakarta   \n",
              "..           ...  ...               ...              ...     ...        ...   \n",
              "195         Pria   31       Rp4,098,360               73       1      Depok   \n",
              "196         Pria   57      Rp15,983,606               51       1    Jakarta   \n",
              "197       Wanita   35      Rp43,032,786               79       1      Depok   \n",
              "198       Wanita   23       Rp1,229,508               94       1      Depok   \n",
              "199         Pria   50       Rp1,639,344               14       1  Tangerang   \n",
              "\n",
              "     Promo HariFav  FavFlavor  \n",
              "0      1.0   Sabtu          2  \n",
              "1      1.0  Minggu          6  \n",
              "2      2.0  Minggu          3  \n",
              "3      1.0    Rabu          7  \n",
              "4      2.0   Senin          8  \n",
              "..     ...     ...        ...  \n",
              "195    1.0   Senin          0  \n",
              "196    1.0  Minggu          5  \n",
              "197    1.0   Senin          7  \n",
              "198    0.0  Selasa          0  \n",
              "199    3.0  Minggu          6  \n",
              "\n",
              "[200 rows x 9 columns]"
            ],
            "text/html": [
              "\n",
              "  <div id=\"df-a2b345cc-ff45-4976-90f4-0f5cc77a6788\">\n",
              "    <div class=\"colab-df-container\">\n",
              "      <div>\n",
              "<style scoped>\n",
              "    .dataframe tbody tr th:only-of-type {\n",
              "        vertical-align: middle;\n",
              "    }\n",
              "\n",
              "    .dataframe tbody tr th {\n",
              "        vertical-align: top;\n",
              "    }\n",
              "\n",
              "    .dataframe thead th {\n",
              "        text-align: right;\n",
              "    }\n",
              "</style>\n",
              "<table border=\"1\" class=\"dataframe\">\n",
              "  <thead>\n",
              "    <tr style=\"text-align: right;\">\n",
              "      <th></th>\n",
              "      <th>JenisKelamin</th>\n",
              "      <th>Umur</th>\n",
              "      <th>Pendapatanbulanan</th>\n",
              "      <th>Skorpengeluaran</th>\n",
              "      <th>Menikah</th>\n",
              "      <th>Kota</th>\n",
              "      <th>Promo</th>\n",
              "      <th>HariFav</th>\n",
              "      <th>FavFlavor</th>\n",
              "    </tr>\n",
              "  </thead>\n",
              "  <tbody>\n",
              "    <tr>\n",
              "      <th>0</th>\n",
              "      <td>Wanita</td>\n",
              "      <td>49</td>\n",
              "      <td>Rp13,114,754</td>\n",
              "      <td>52</td>\n",
              "      <td>1</td>\n",
              "      <td>Jakarta</td>\n",
              "      <td>1.0</td>\n",
              "      <td>Sabtu</td>\n",
              "      <td>2</td>\n",
              "    </tr>\n",
              "    <tr>\n",
              "      <th>1</th>\n",
              "      <td>Wanita</td>\n",
              "      <td>32</td>\n",
              "      <td>Rp33,606,557</td>\n",
              "      <td>86</td>\n",
              "      <td>1</td>\n",
              "      <td>Depok</td>\n",
              "      <td>1.0</td>\n",
              "      <td>Minggu</td>\n",
              "      <td>6</td>\n",
              "    </tr>\n",
              "    <tr>\n",
              "      <th>2</th>\n",
              "      <td>Pria</td>\n",
              "      <td>51</td>\n",
              "      <td>Rp15,983,606</td>\n",
              "      <td>41</td>\n",
              "      <td>1</td>\n",
              "      <td>Jakarta</td>\n",
              "      <td>2.0</td>\n",
              "      <td>Minggu</td>\n",
              "      <td>3</td>\n",
              "    </tr>\n",
              "    <tr>\n",
              "      <th>3</th>\n",
              "      <td>Pria</td>\n",
              "      <td>19</td>\n",
              "      <td>Rp12,704,918</td>\n",
              "      <td>55</td>\n",
              "      <td>0</td>\n",
              "      <td>Jakarta</td>\n",
              "      <td>1.0</td>\n",
              "      <td>Rabu</td>\n",
              "      <td>7</td>\n",
              "    </tr>\n",
              "    <tr>\n",
              "      <th>4</th>\n",
              "      <td>Wanita</td>\n",
              "      <td>38</td>\n",
              "      <td>Rp20,081,967</td>\n",
              "      <td>42</td>\n",
              "      <td>1</td>\n",
              "      <td>Jakarta</td>\n",
              "      <td>2.0</td>\n",
              "      <td>Senin</td>\n",
              "      <td>8</td>\n",
              "    </tr>\n",
              "    <tr>\n",
              "      <th>...</th>\n",
              "      <td>...</td>\n",
              "      <td>...</td>\n",
              "      <td>...</td>\n",
              "      <td>...</td>\n",
              "      <td>...</td>\n",
              "      <td>...</td>\n",
              "      <td>...</td>\n",
              "      <td>...</td>\n",
              "      <td>...</td>\n",
              "    </tr>\n",
              "    <tr>\n",
              "      <th>195</th>\n",
              "      <td>Pria</td>\n",
              "      <td>31</td>\n",
              "      <td>Rp4,098,360</td>\n",
              "      <td>73</td>\n",
              "      <td>1</td>\n",
              "      <td>Depok</td>\n",
              "      <td>1.0</td>\n",
              "      <td>Senin</td>\n",
              "      <td>0</td>\n",
              "    </tr>\n",
              "    <tr>\n",
              "      <th>196</th>\n",
              "      <td>Pria</td>\n",
              "      <td>57</td>\n",
              "      <td>Rp15,983,606</td>\n",
              "      <td>51</td>\n",
              "      <td>1</td>\n",
              "      <td>Jakarta</td>\n",
              "      <td>1.0</td>\n",
              "      <td>Minggu</td>\n",
              "      <td>5</td>\n",
              "    </tr>\n",
              "    <tr>\n",
              "      <th>197</th>\n",
              "      <td>Wanita</td>\n",
              "      <td>35</td>\n",
              "      <td>Rp43,032,786</td>\n",
              "      <td>79</td>\n",
              "      <td>1</td>\n",
              "      <td>Depok</td>\n",
              "      <td>1.0</td>\n",
              "      <td>Senin</td>\n",
              "      <td>7</td>\n",
              "    </tr>\n",
              "    <tr>\n",
              "      <th>198</th>\n",
              "      <td>Wanita</td>\n",
              "      <td>23</td>\n",
              "      <td>Rp1,229,508</td>\n",
              "      <td>94</td>\n",
              "      <td>1</td>\n",
              "      <td>Depok</td>\n",
              "      <td>0.0</td>\n",
              "      <td>Selasa</td>\n",
              "      <td>0</td>\n",
              "    </tr>\n",
              "    <tr>\n",
              "      <th>199</th>\n",
              "      <td>Pria</td>\n",
              "      <td>50</td>\n",
              "      <td>Rp1,639,344</td>\n",
              "      <td>14</td>\n",
              "      <td>1</td>\n",
              "      <td>Tangerang</td>\n",
              "      <td>3.0</td>\n",
              "      <td>Minggu</td>\n",
              "      <td>6</td>\n",
              "    </tr>\n",
              "  </tbody>\n",
              "</table>\n",
              "<p>200 rows × 9 columns</p>\n",
              "</div>\n",
              "      <button class=\"colab-df-convert\" onclick=\"convertToInteractive('df-a2b345cc-ff45-4976-90f4-0f5cc77a6788')\"\n",
              "              title=\"Convert this dataframe to an interactive table.\"\n",
              "              style=\"display:none;\">\n",
              "        \n",
              "  <svg xmlns=\"http://www.w3.org/2000/svg\" height=\"24px\"viewBox=\"0 0 24 24\"\n",
              "       width=\"24px\">\n",
              "    <path d=\"M0 0h24v24H0V0z\" fill=\"none\"/>\n",
              "    <path d=\"M18.56 5.44l.94 2.06.94-2.06 2.06-.94-2.06-.94-.94-2.06-.94 2.06-2.06.94zm-11 1L8.5 8.5l.94-2.06 2.06-.94-2.06-.94L8.5 2.5l-.94 2.06-2.06.94zm10 10l.94 2.06.94-2.06 2.06-.94-2.06-.94-.94-2.06-.94 2.06-2.06.94z\"/><path d=\"M17.41 7.96l-1.37-1.37c-.4-.4-.92-.59-1.43-.59-.52 0-1.04.2-1.43.59L10.3 9.45l-7.72 7.72c-.78.78-.78 2.05 0 2.83L4 21.41c.39.39.9.59 1.41.59.51 0 1.02-.2 1.41-.59l7.78-7.78 2.81-2.81c.8-.78.8-2.07 0-2.86zM5.41 20L4 18.59l7.72-7.72 1.47 1.35L5.41 20z\"/>\n",
              "  </svg>\n",
              "      </button>\n",
              "      \n",
              "  <style>\n",
              "    .colab-df-container {\n",
              "      display:flex;\n",
              "      flex-wrap:wrap;\n",
              "      gap: 12px;\n",
              "    }\n",
              "\n",
              "    .colab-df-convert {\n",
              "      background-color: #E8F0FE;\n",
              "      border: none;\n",
              "      border-radius: 50%;\n",
              "      cursor: pointer;\n",
              "      display: none;\n",
              "      fill: #1967D2;\n",
              "      height: 32px;\n",
              "      padding: 0 0 0 0;\n",
              "      width: 32px;\n",
              "    }\n",
              "\n",
              "    .colab-df-convert:hover {\n",
              "      background-color: #E2EBFA;\n",
              "      box-shadow: 0px 1px 2px rgba(60, 64, 67, 0.3), 0px 1px 3px 1px rgba(60, 64, 67, 0.15);\n",
              "      fill: #174EA6;\n",
              "    }\n",
              "\n",
              "    [theme=dark] .colab-df-convert {\n",
              "      background-color: #3B4455;\n",
              "      fill: #D2E3FC;\n",
              "    }\n",
              "\n",
              "    [theme=dark] .colab-df-convert:hover {\n",
              "      background-color: #434B5C;\n",
              "      box-shadow: 0px 1px 3px 1px rgba(0, 0, 0, 0.15);\n",
              "      filter: drop-shadow(0px 1px 2px rgba(0, 0, 0, 0.3));\n",
              "      fill: #FFFFFF;\n",
              "    }\n",
              "  </style>\n",
              "\n",
              "      <script>\n",
              "        const buttonEl =\n",
              "          document.querySelector('#df-a2b345cc-ff45-4976-90f4-0f5cc77a6788 button.colab-df-convert');\n",
              "        buttonEl.style.display =\n",
              "          google.colab.kernel.accessAllowed ? 'block' : 'none';\n",
              "\n",
              "        async function convertToInteractive(key) {\n",
              "          const element = document.querySelector('#df-a2b345cc-ff45-4976-90f4-0f5cc77a6788');\n",
              "          const dataTable =\n",
              "            await google.colab.kernel.invokeFunction('convertToInteractive',\n",
              "                                                     [key], {});\n",
              "          if (!dataTable) return;\n",
              "\n",
              "          const docLinkHtml = 'Like what you see? Visit the ' +\n",
              "            '<a target=\"_blank\" href=https://colab.research.google.com/notebooks/data_table.ipynb>data table notebook</a>'\n",
              "            + ' to learn more about interactive tables.';\n",
              "          element.innerHTML = '';\n",
              "          dataTable['output_type'] = 'display_data';\n",
              "          await google.colab.output.renderOutput(dataTable, element);\n",
              "          const docLink = document.createElement('div');\n",
              "          docLink.innerHTML = docLinkHtml;\n",
              "          element.appendChild(docLink);\n",
              "        }\n",
              "      </script>\n",
              "    </div>\n",
              "  </div>\n",
              "  "
            ]
          },
          "metadata": {},
          "execution_count": 43
        }
      ]
    },
    {
      "cell_type": "code",
      "source": [
        "#Mengganti nama variable agar memudahkan data cleaning\n",
        "df.rename(columns = {'Pendapatan-per-bulan':'Pendapatanbulanan'}, inplace = True)"
      ],
      "metadata": {
        "id": "UFLFEWCt5K5E"
      },
      "execution_count": null,
      "outputs": []
    },
    {
      "cell_type": "code",
      "source": [
        "#Menghapus 'Rp' pada variable Pendapatanbulanan dan membulatkan nilainya\n",
        "df['Pendapatanbulanan'] = df['Pendapatanbulanan'].str.replace('Rp', '')\n",
        "df['Pendapatanbulanan'] = df['Pendapatanbulanan'].str.replace(',', '')\n",
        "df['Pendapatanbulanan'] = df['Pendapatanbulanan'].astype('float')\n",
        "#Pembulatan\n",
        "df = df.round(decimals=0)\n",
        "#Mengubah type data variable Pendapatanbulanan menjadi Int64\n",
        "\n",
        "df['Pendapatanbulanan'] = df['Pendapatanbulanan'].astype('Int64')\n",
        "df"
      ],
      "metadata": {
        "id": "aWefdtrbxahG",
        "colab": {
          "base_uri": "https://localhost:8080/",
          "height": 424
        },
        "outputId": "251b055d-70b5-4675-e344-b3d4ec111536"
      },
      "execution_count": null,
      "outputs": [
        {
          "output_type": "execute_result",
          "data": {
            "text/plain": [
              "    JenisKelamin Umur  Pendapatanbulanan  Skorpengeluaran Menikah       Kota  \\\n",
              "0         Wanita   49           13114754               52       1    Jakarta   \n",
              "1         Wanita   32           33606557               86       1      Depok   \n",
              "2           Pria   51           15983606               41       1    Jakarta   \n",
              "3           Pria   19           12704918               55       0    Jakarta   \n",
              "4         Wanita   38           20081967               42       1    Jakarta   \n",
              "..           ...  ...                ...              ...     ...        ...   \n",
              "195         Pria   31            4098360               73       1      Depok   \n",
              "196         Pria   57           15983606               51       1    Jakarta   \n",
              "197       Wanita   35           43032786               79       1      Depok   \n",
              "198       Wanita   23            1229508               94       1      Depok   \n",
              "199         Pria   50            1639344               14       1  Tangerang   \n",
              "\n",
              "     Promo HariFav  FavFlavor  \n",
              "0      1.0   Sabtu          2  \n",
              "1      1.0  Minggu          6  \n",
              "2      2.0  Minggu          3  \n",
              "3      1.0    Rabu          7  \n",
              "4      2.0   Senin          8  \n",
              "..     ...     ...        ...  \n",
              "195    1.0   Senin          0  \n",
              "196    1.0  Minggu          5  \n",
              "197    1.0   Senin          7  \n",
              "198    0.0  Selasa          0  \n",
              "199    3.0  Minggu          6  \n",
              "\n",
              "[200 rows x 9 columns]"
            ],
            "text/html": [
              "\n",
              "  <div id=\"df-53840a58-257b-42ae-9fb1-f7a2f8735791\">\n",
              "    <div class=\"colab-df-container\">\n",
              "      <div>\n",
              "<style scoped>\n",
              "    .dataframe tbody tr th:only-of-type {\n",
              "        vertical-align: middle;\n",
              "    }\n",
              "\n",
              "    .dataframe tbody tr th {\n",
              "        vertical-align: top;\n",
              "    }\n",
              "\n",
              "    .dataframe thead th {\n",
              "        text-align: right;\n",
              "    }\n",
              "</style>\n",
              "<table border=\"1\" class=\"dataframe\">\n",
              "  <thead>\n",
              "    <tr style=\"text-align: right;\">\n",
              "      <th></th>\n",
              "      <th>JenisKelamin</th>\n",
              "      <th>Umur</th>\n",
              "      <th>Pendapatanbulanan</th>\n",
              "      <th>Skorpengeluaran</th>\n",
              "      <th>Menikah</th>\n",
              "      <th>Kota</th>\n",
              "      <th>Promo</th>\n",
              "      <th>HariFav</th>\n",
              "      <th>FavFlavor</th>\n",
              "    </tr>\n",
              "  </thead>\n",
              "  <tbody>\n",
              "    <tr>\n",
              "      <th>0</th>\n",
              "      <td>Wanita</td>\n",
              "      <td>49</td>\n",
              "      <td>13114754</td>\n",
              "      <td>52</td>\n",
              "      <td>1</td>\n",
              "      <td>Jakarta</td>\n",
              "      <td>1.0</td>\n",
              "      <td>Sabtu</td>\n",
              "      <td>2</td>\n",
              "    </tr>\n",
              "    <tr>\n",
              "      <th>1</th>\n",
              "      <td>Wanita</td>\n",
              "      <td>32</td>\n",
              "      <td>33606557</td>\n",
              "      <td>86</td>\n",
              "      <td>1</td>\n",
              "      <td>Depok</td>\n",
              "      <td>1.0</td>\n",
              "      <td>Minggu</td>\n",
              "      <td>6</td>\n",
              "    </tr>\n",
              "    <tr>\n",
              "      <th>2</th>\n",
              "      <td>Pria</td>\n",
              "      <td>51</td>\n",
              "      <td>15983606</td>\n",
              "      <td>41</td>\n",
              "      <td>1</td>\n",
              "      <td>Jakarta</td>\n",
              "      <td>2.0</td>\n",
              "      <td>Minggu</td>\n",
              "      <td>3</td>\n",
              "    </tr>\n",
              "    <tr>\n",
              "      <th>3</th>\n",
              "      <td>Pria</td>\n",
              "      <td>19</td>\n",
              "      <td>12704918</td>\n",
              "      <td>55</td>\n",
              "      <td>0</td>\n",
              "      <td>Jakarta</td>\n",
              "      <td>1.0</td>\n",
              "      <td>Rabu</td>\n",
              "      <td>7</td>\n",
              "    </tr>\n",
              "    <tr>\n",
              "      <th>4</th>\n",
              "      <td>Wanita</td>\n",
              "      <td>38</td>\n",
              "      <td>20081967</td>\n",
              "      <td>42</td>\n",
              "      <td>1</td>\n",
              "      <td>Jakarta</td>\n",
              "      <td>2.0</td>\n",
              "      <td>Senin</td>\n",
              "      <td>8</td>\n",
              "    </tr>\n",
              "    <tr>\n",
              "      <th>...</th>\n",
              "      <td>...</td>\n",
              "      <td>...</td>\n",
              "      <td>...</td>\n",
              "      <td>...</td>\n",
              "      <td>...</td>\n",
              "      <td>...</td>\n",
              "      <td>...</td>\n",
              "      <td>...</td>\n",
              "      <td>...</td>\n",
              "    </tr>\n",
              "    <tr>\n",
              "      <th>195</th>\n",
              "      <td>Pria</td>\n",
              "      <td>31</td>\n",
              "      <td>4098360</td>\n",
              "      <td>73</td>\n",
              "      <td>1</td>\n",
              "      <td>Depok</td>\n",
              "      <td>1.0</td>\n",
              "      <td>Senin</td>\n",
              "      <td>0</td>\n",
              "    </tr>\n",
              "    <tr>\n",
              "      <th>196</th>\n",
              "      <td>Pria</td>\n",
              "      <td>57</td>\n",
              "      <td>15983606</td>\n",
              "      <td>51</td>\n",
              "      <td>1</td>\n",
              "      <td>Jakarta</td>\n",
              "      <td>1.0</td>\n",
              "      <td>Minggu</td>\n",
              "      <td>5</td>\n",
              "    </tr>\n",
              "    <tr>\n",
              "      <th>197</th>\n",
              "      <td>Wanita</td>\n",
              "      <td>35</td>\n",
              "      <td>43032786</td>\n",
              "      <td>79</td>\n",
              "      <td>1</td>\n",
              "      <td>Depok</td>\n",
              "      <td>1.0</td>\n",
              "      <td>Senin</td>\n",
              "      <td>7</td>\n",
              "    </tr>\n",
              "    <tr>\n",
              "      <th>198</th>\n",
              "      <td>Wanita</td>\n",
              "      <td>23</td>\n",
              "      <td>1229508</td>\n",
              "      <td>94</td>\n",
              "      <td>1</td>\n",
              "      <td>Depok</td>\n",
              "      <td>0.0</td>\n",
              "      <td>Selasa</td>\n",
              "      <td>0</td>\n",
              "    </tr>\n",
              "    <tr>\n",
              "      <th>199</th>\n",
              "      <td>Pria</td>\n",
              "      <td>50</td>\n",
              "      <td>1639344</td>\n",
              "      <td>14</td>\n",
              "      <td>1</td>\n",
              "      <td>Tangerang</td>\n",
              "      <td>3.0</td>\n",
              "      <td>Minggu</td>\n",
              "      <td>6</td>\n",
              "    </tr>\n",
              "  </tbody>\n",
              "</table>\n",
              "<p>200 rows × 9 columns</p>\n",
              "</div>\n",
              "      <button class=\"colab-df-convert\" onclick=\"convertToInteractive('df-53840a58-257b-42ae-9fb1-f7a2f8735791')\"\n",
              "              title=\"Convert this dataframe to an interactive table.\"\n",
              "              style=\"display:none;\">\n",
              "        \n",
              "  <svg xmlns=\"http://www.w3.org/2000/svg\" height=\"24px\"viewBox=\"0 0 24 24\"\n",
              "       width=\"24px\">\n",
              "    <path d=\"M0 0h24v24H0V0z\" fill=\"none\"/>\n",
              "    <path d=\"M18.56 5.44l.94 2.06.94-2.06 2.06-.94-2.06-.94-.94-2.06-.94 2.06-2.06.94zm-11 1L8.5 8.5l.94-2.06 2.06-.94-2.06-.94L8.5 2.5l-.94 2.06-2.06.94zm10 10l.94 2.06.94-2.06 2.06-.94-2.06-.94-.94-2.06-.94 2.06-2.06.94z\"/><path d=\"M17.41 7.96l-1.37-1.37c-.4-.4-.92-.59-1.43-.59-.52 0-1.04.2-1.43.59L10.3 9.45l-7.72 7.72c-.78.78-.78 2.05 0 2.83L4 21.41c.39.39.9.59 1.41.59.51 0 1.02-.2 1.41-.59l7.78-7.78 2.81-2.81c.8-.78.8-2.07 0-2.86zM5.41 20L4 18.59l7.72-7.72 1.47 1.35L5.41 20z\"/>\n",
              "  </svg>\n",
              "      </button>\n",
              "      \n",
              "  <style>\n",
              "    .colab-df-container {\n",
              "      display:flex;\n",
              "      flex-wrap:wrap;\n",
              "      gap: 12px;\n",
              "    }\n",
              "\n",
              "    .colab-df-convert {\n",
              "      background-color: #E8F0FE;\n",
              "      border: none;\n",
              "      border-radius: 50%;\n",
              "      cursor: pointer;\n",
              "      display: none;\n",
              "      fill: #1967D2;\n",
              "      height: 32px;\n",
              "      padding: 0 0 0 0;\n",
              "      width: 32px;\n",
              "    }\n",
              "\n",
              "    .colab-df-convert:hover {\n",
              "      background-color: #E2EBFA;\n",
              "      box-shadow: 0px 1px 2px rgba(60, 64, 67, 0.3), 0px 1px 3px 1px rgba(60, 64, 67, 0.15);\n",
              "      fill: #174EA6;\n",
              "    }\n",
              "\n",
              "    [theme=dark] .colab-df-convert {\n",
              "      background-color: #3B4455;\n",
              "      fill: #D2E3FC;\n",
              "    }\n",
              "\n",
              "    [theme=dark] .colab-df-convert:hover {\n",
              "      background-color: #434B5C;\n",
              "      box-shadow: 0px 1px 3px 1px rgba(0, 0, 0, 0.15);\n",
              "      filter: drop-shadow(0px 1px 2px rgba(0, 0, 0, 0.3));\n",
              "      fill: #FFFFFF;\n",
              "    }\n",
              "  </style>\n",
              "\n",
              "      <script>\n",
              "        const buttonEl =\n",
              "          document.querySelector('#df-53840a58-257b-42ae-9fb1-f7a2f8735791 button.colab-df-convert');\n",
              "        buttonEl.style.display =\n",
              "          google.colab.kernel.accessAllowed ? 'block' : 'none';\n",
              "\n",
              "        async function convertToInteractive(key) {\n",
              "          const element = document.querySelector('#df-53840a58-257b-42ae-9fb1-f7a2f8735791');\n",
              "          const dataTable =\n",
              "            await google.colab.kernel.invokeFunction('convertToInteractive',\n",
              "                                                     [key], {});\n",
              "          if (!dataTable) return;\n",
              "\n",
              "          const docLinkHtml = 'Like what you see? Visit the ' +\n",
              "            '<a target=\"_blank\" href=https://colab.research.google.com/notebooks/data_table.ipynb>data table notebook</a>'\n",
              "            + ' to learn more about interactive tables.';\n",
              "          element.innerHTML = '';\n",
              "          dataTable['output_type'] = 'display_data';\n",
              "          await google.colab.output.renderOutput(dataTable, element);\n",
              "          const docLink = document.createElement('div');\n",
              "          docLink.innerHTML = docLinkHtml;\n",
              "          element.appendChild(docLink);\n",
              "        }\n",
              "      </script>\n",
              "    </div>\n",
              "  </div>\n",
              "  "
            ]
          },
          "metadata": {},
          "execution_count": 45
        }
      ]
    },
    {
      "cell_type": "code",
      "source": [
        "#Mengganti value tiap data yang memiliki value yang tidak jelas\n",
        "df.Kota[df.Kota == 'JJakarta'] = 'Jakarta'\n",
        "df.Umur[df.Umur == \"35'\"] = 35\n",
        "df.JenisKelamin[df.JenisKelamin == '-'] = np.NaN\n",
        "df.FavFlavor[df.FavFlavor == 9] = np.NaN\n",
        "df.Umur[df.Umur == 2] = 20\n",
        "df.Promo[df.Promo == 5.0] = 3.0\n",
        "df.FavFlavor[df.FavFlavor == 2] = np.NaN\n",
        "df"
      ],
      "metadata": {
        "id": "0Tt8XS6mnEKc",
        "colab": {
          "base_uri": "https://localhost:8080/",
          "height": 424
        },
        "outputId": "23d30c37-a53c-448c-d80c-d0b2fdb0171f"
      },
      "execution_count": null,
      "outputs": [
        {
          "output_type": "execute_result",
          "data": {
            "text/plain": [
              "    JenisKelamin Umur  Pendapatanbulanan  Skorpengeluaran Menikah       Kota  \\\n",
              "0         Wanita   49           13114754               52       1    Jakarta   \n",
              "1         Wanita   32           33606557               86       1      Depok   \n",
              "2           Pria   51           15983606               41       1    Jakarta   \n",
              "3           Pria   19           12704918               55       0    Jakarta   \n",
              "4         Wanita   38           20081967               42       1    Jakarta   \n",
              "..           ...  ...                ...              ...     ...        ...   \n",
              "195         Pria   31            4098360               73       1      Depok   \n",
              "196         Pria   57           15983606               51       1    Jakarta   \n",
              "197       Wanita   35           43032786               79       1      Depok   \n",
              "198       Wanita   23            1229508               94       1      Depok   \n",
              "199         Pria   50            1639344               14       1  Tangerang   \n",
              "\n",
              "     Promo HariFav  FavFlavor  \n",
              "0      1.0   Sabtu        NaN  \n",
              "1      1.0  Minggu        6.0  \n",
              "2      2.0  Minggu        3.0  \n",
              "3      1.0    Rabu        7.0  \n",
              "4      2.0   Senin        8.0  \n",
              "..     ...     ...        ...  \n",
              "195    1.0   Senin        0.0  \n",
              "196    1.0  Minggu        5.0  \n",
              "197    1.0   Senin        7.0  \n",
              "198    0.0  Selasa        0.0  \n",
              "199    3.0  Minggu        6.0  \n",
              "\n",
              "[200 rows x 9 columns]"
            ],
            "text/html": [
              "\n",
              "  <div id=\"df-4fe2bf2e-f405-493f-a8a1-59ab76ea0a03\">\n",
              "    <div class=\"colab-df-container\">\n",
              "      <div>\n",
              "<style scoped>\n",
              "    .dataframe tbody tr th:only-of-type {\n",
              "        vertical-align: middle;\n",
              "    }\n",
              "\n",
              "    .dataframe tbody tr th {\n",
              "        vertical-align: top;\n",
              "    }\n",
              "\n",
              "    .dataframe thead th {\n",
              "        text-align: right;\n",
              "    }\n",
              "</style>\n",
              "<table border=\"1\" class=\"dataframe\">\n",
              "  <thead>\n",
              "    <tr style=\"text-align: right;\">\n",
              "      <th></th>\n",
              "      <th>JenisKelamin</th>\n",
              "      <th>Umur</th>\n",
              "      <th>Pendapatanbulanan</th>\n",
              "      <th>Skorpengeluaran</th>\n",
              "      <th>Menikah</th>\n",
              "      <th>Kota</th>\n",
              "      <th>Promo</th>\n",
              "      <th>HariFav</th>\n",
              "      <th>FavFlavor</th>\n",
              "    </tr>\n",
              "  </thead>\n",
              "  <tbody>\n",
              "    <tr>\n",
              "      <th>0</th>\n",
              "      <td>Wanita</td>\n",
              "      <td>49</td>\n",
              "      <td>13114754</td>\n",
              "      <td>52</td>\n",
              "      <td>1</td>\n",
              "      <td>Jakarta</td>\n",
              "      <td>1.0</td>\n",
              "      <td>Sabtu</td>\n",
              "      <td>NaN</td>\n",
              "    </tr>\n",
              "    <tr>\n",
              "      <th>1</th>\n",
              "      <td>Wanita</td>\n",
              "      <td>32</td>\n",
              "      <td>33606557</td>\n",
              "      <td>86</td>\n",
              "      <td>1</td>\n",
              "      <td>Depok</td>\n",
              "      <td>1.0</td>\n",
              "      <td>Minggu</td>\n",
              "      <td>6.0</td>\n",
              "    </tr>\n",
              "    <tr>\n",
              "      <th>2</th>\n",
              "      <td>Pria</td>\n",
              "      <td>51</td>\n",
              "      <td>15983606</td>\n",
              "      <td>41</td>\n",
              "      <td>1</td>\n",
              "      <td>Jakarta</td>\n",
              "      <td>2.0</td>\n",
              "      <td>Minggu</td>\n",
              "      <td>3.0</td>\n",
              "    </tr>\n",
              "    <tr>\n",
              "      <th>3</th>\n",
              "      <td>Pria</td>\n",
              "      <td>19</td>\n",
              "      <td>12704918</td>\n",
              "      <td>55</td>\n",
              "      <td>0</td>\n",
              "      <td>Jakarta</td>\n",
              "      <td>1.0</td>\n",
              "      <td>Rabu</td>\n",
              "      <td>7.0</td>\n",
              "    </tr>\n",
              "    <tr>\n",
              "      <th>4</th>\n",
              "      <td>Wanita</td>\n",
              "      <td>38</td>\n",
              "      <td>20081967</td>\n",
              "      <td>42</td>\n",
              "      <td>1</td>\n",
              "      <td>Jakarta</td>\n",
              "      <td>2.0</td>\n",
              "      <td>Senin</td>\n",
              "      <td>8.0</td>\n",
              "    </tr>\n",
              "    <tr>\n",
              "      <th>...</th>\n",
              "      <td>...</td>\n",
              "      <td>...</td>\n",
              "      <td>...</td>\n",
              "      <td>...</td>\n",
              "      <td>...</td>\n",
              "      <td>...</td>\n",
              "      <td>...</td>\n",
              "      <td>...</td>\n",
              "      <td>...</td>\n",
              "    </tr>\n",
              "    <tr>\n",
              "      <th>195</th>\n",
              "      <td>Pria</td>\n",
              "      <td>31</td>\n",
              "      <td>4098360</td>\n",
              "      <td>73</td>\n",
              "      <td>1</td>\n",
              "      <td>Depok</td>\n",
              "      <td>1.0</td>\n",
              "      <td>Senin</td>\n",
              "      <td>0.0</td>\n",
              "    </tr>\n",
              "    <tr>\n",
              "      <th>196</th>\n",
              "      <td>Pria</td>\n",
              "      <td>57</td>\n",
              "      <td>15983606</td>\n",
              "      <td>51</td>\n",
              "      <td>1</td>\n",
              "      <td>Jakarta</td>\n",
              "      <td>1.0</td>\n",
              "      <td>Minggu</td>\n",
              "      <td>5.0</td>\n",
              "    </tr>\n",
              "    <tr>\n",
              "      <th>197</th>\n",
              "      <td>Wanita</td>\n",
              "      <td>35</td>\n",
              "      <td>43032786</td>\n",
              "      <td>79</td>\n",
              "      <td>1</td>\n",
              "      <td>Depok</td>\n",
              "      <td>1.0</td>\n",
              "      <td>Senin</td>\n",
              "      <td>7.0</td>\n",
              "    </tr>\n",
              "    <tr>\n",
              "      <th>198</th>\n",
              "      <td>Wanita</td>\n",
              "      <td>23</td>\n",
              "      <td>1229508</td>\n",
              "      <td>94</td>\n",
              "      <td>1</td>\n",
              "      <td>Depok</td>\n",
              "      <td>0.0</td>\n",
              "      <td>Selasa</td>\n",
              "      <td>0.0</td>\n",
              "    </tr>\n",
              "    <tr>\n",
              "      <th>199</th>\n",
              "      <td>Pria</td>\n",
              "      <td>50</td>\n",
              "      <td>1639344</td>\n",
              "      <td>14</td>\n",
              "      <td>1</td>\n",
              "      <td>Tangerang</td>\n",
              "      <td>3.0</td>\n",
              "      <td>Minggu</td>\n",
              "      <td>6.0</td>\n",
              "    </tr>\n",
              "  </tbody>\n",
              "</table>\n",
              "<p>200 rows × 9 columns</p>\n",
              "</div>\n",
              "      <button class=\"colab-df-convert\" onclick=\"convertToInteractive('df-4fe2bf2e-f405-493f-a8a1-59ab76ea0a03')\"\n",
              "              title=\"Convert this dataframe to an interactive table.\"\n",
              "              style=\"display:none;\">\n",
              "        \n",
              "  <svg xmlns=\"http://www.w3.org/2000/svg\" height=\"24px\"viewBox=\"0 0 24 24\"\n",
              "       width=\"24px\">\n",
              "    <path d=\"M0 0h24v24H0V0z\" fill=\"none\"/>\n",
              "    <path d=\"M18.56 5.44l.94 2.06.94-2.06 2.06-.94-2.06-.94-.94-2.06-.94 2.06-2.06.94zm-11 1L8.5 8.5l.94-2.06 2.06-.94-2.06-.94L8.5 2.5l-.94 2.06-2.06.94zm10 10l.94 2.06.94-2.06 2.06-.94-2.06-.94-.94-2.06-.94 2.06-2.06.94z\"/><path d=\"M17.41 7.96l-1.37-1.37c-.4-.4-.92-.59-1.43-.59-.52 0-1.04.2-1.43.59L10.3 9.45l-7.72 7.72c-.78.78-.78 2.05 0 2.83L4 21.41c.39.39.9.59 1.41.59.51 0 1.02-.2 1.41-.59l7.78-7.78 2.81-2.81c.8-.78.8-2.07 0-2.86zM5.41 20L4 18.59l7.72-7.72 1.47 1.35L5.41 20z\"/>\n",
              "  </svg>\n",
              "      </button>\n",
              "      \n",
              "  <style>\n",
              "    .colab-df-container {\n",
              "      display:flex;\n",
              "      flex-wrap:wrap;\n",
              "      gap: 12px;\n",
              "    }\n",
              "\n",
              "    .colab-df-convert {\n",
              "      background-color: #E8F0FE;\n",
              "      border: none;\n",
              "      border-radius: 50%;\n",
              "      cursor: pointer;\n",
              "      display: none;\n",
              "      fill: #1967D2;\n",
              "      height: 32px;\n",
              "      padding: 0 0 0 0;\n",
              "      width: 32px;\n",
              "    }\n",
              "\n",
              "    .colab-df-convert:hover {\n",
              "      background-color: #E2EBFA;\n",
              "      box-shadow: 0px 1px 2px rgba(60, 64, 67, 0.3), 0px 1px 3px 1px rgba(60, 64, 67, 0.15);\n",
              "      fill: #174EA6;\n",
              "    }\n",
              "\n",
              "    [theme=dark] .colab-df-convert {\n",
              "      background-color: #3B4455;\n",
              "      fill: #D2E3FC;\n",
              "    }\n",
              "\n",
              "    [theme=dark] .colab-df-convert:hover {\n",
              "      background-color: #434B5C;\n",
              "      box-shadow: 0px 1px 3px 1px rgba(0, 0, 0, 0.15);\n",
              "      filter: drop-shadow(0px 1px 2px rgba(0, 0, 0, 0.3));\n",
              "      fill: #FFFFFF;\n",
              "    }\n",
              "  </style>\n",
              "\n",
              "      <script>\n",
              "        const buttonEl =\n",
              "          document.querySelector('#df-4fe2bf2e-f405-493f-a8a1-59ab76ea0a03 button.colab-df-convert');\n",
              "        buttonEl.style.display =\n",
              "          google.colab.kernel.accessAllowed ? 'block' : 'none';\n",
              "\n",
              "        async function convertToInteractive(key) {\n",
              "          const element = document.querySelector('#df-4fe2bf2e-f405-493f-a8a1-59ab76ea0a03');\n",
              "          const dataTable =\n",
              "            await google.colab.kernel.invokeFunction('convertToInteractive',\n",
              "                                                     [key], {});\n",
              "          if (!dataTable) return;\n",
              "\n",
              "          const docLinkHtml = 'Like what you see? Visit the ' +\n",
              "            '<a target=\"_blank\" href=https://colab.research.google.com/notebooks/data_table.ipynb>data table notebook</a>'\n",
              "            + ' to learn more about interactive tables.';\n",
              "          element.innerHTML = '';\n",
              "          dataTable['output_type'] = 'display_data';\n",
              "          await google.colab.output.renderOutput(dataTable, element);\n",
              "          const docLink = document.createElement('div');\n",
              "          docLink.innerHTML = docLinkHtml;\n",
              "          element.appendChild(docLink);\n",
              "        }\n",
              "      </script>\n",
              "    </div>\n",
              "  </div>\n",
              "  "
            ]
          },
          "metadata": {},
          "execution_count": 46
        }
      ]
    },
    {
      "cell_type": "markdown",
      "source": [
        "## Mengubah Tipe Data"
      ],
      "metadata": {
        "id": "980MWCRB1AeN"
      }
    },
    {
      "cell_type": "code",
      "source": [
        "# Tipe Datanya : DataFrame (df)\n",
        "print(type(df))\n",
        "# Ukuran Data\n",
        "N, P = df.shape\n",
        "'baris = ', N, ', Kolom = ', P\n",
        "\n",
        "# tipe data per kolom\n",
        "df.dtypes"
      ],
      "metadata": {
        "id": "jhbJ8dBM0_0y",
        "colab": {
          "base_uri": "https://localhost:8080/"
        },
        "outputId": "c06d8ac1-077f-4991-ba19-5d5af875a85b"
      },
      "execution_count": null,
      "outputs": [
        {
          "output_type": "stream",
          "name": "stdout",
          "text": [
            "<class 'pandas.core.frame.DataFrame'>\n"
          ]
        },
        {
          "output_type": "execute_result",
          "data": {
            "text/plain": [
              "JenisKelamin          object\n",
              "Umur                  object\n",
              "Pendapatanbulanan      Int64\n",
              "Skorpengeluaran        int64\n",
              "Menikah               object\n",
              "Kota                  object\n",
              "Promo                float64\n",
              "HariFav               object\n",
              "FavFlavor            float64\n",
              "dtype: object"
            ]
          },
          "metadata": {},
          "execution_count": 47
        }
      ]
    },
    {
      "cell_type": "code",
      "source": [
        "#Mengubah tipe data\n",
        "df['JenisKelamin'] = df['JenisKelamin'].astype('category')\n",
        "df['Umur'] = df['Umur'].astype('int64')\n",
        "df['Skorpengeluaran'] = df['Skorpengeluaran'].astype('int64')\n",
        "df['FavFlavor'] = df['FavFlavor'].astype('category')"
      ],
      "metadata": {
        "id": "DChIjHvj1N8g"
      },
      "execution_count": null,
      "outputs": []
    },
    {
      "cell_type": "code",
      "source": [
        "df.info()"
      ],
      "metadata": {
        "colab": {
          "base_uri": "https://localhost:8080/"
        },
        "id": "4KuHeS-I7LS5",
        "outputId": "433fbd55-5fc5-4ab5-9c73-aa18e05532ba"
      },
      "execution_count": null,
      "outputs": [
        {
          "output_type": "stream",
          "name": "stdout",
          "text": [
            "<class 'pandas.core.frame.DataFrame'>\n",
            "RangeIndex: 200 entries, 0 to 199\n",
            "Data columns (total 9 columns):\n",
            " #   Column             Non-Null Count  Dtype   \n",
            "---  ------             --------------  -----   \n",
            " 0   JenisKelamin       195 non-null    category\n",
            " 1   Umur               200 non-null    int64   \n",
            " 2   Pendapatanbulanan  200 non-null    Int64   \n",
            " 3   Skorpengeluaran    200 non-null    int64   \n",
            " 4   Menikah            188 non-null    object  \n",
            " 5   Kota               200 non-null    object  \n",
            " 6   Promo              194 non-null    float64 \n",
            " 7   HariFav            200 non-null    object  \n",
            " 8   FavFlavor          179 non-null    category\n",
            "dtypes: Int64(1), category(2), float64(1), int64(2), object(3)\n",
            "memory usage: 12.1+ KB\n"
          ]
        }
      ]
    },
    {
      "cell_type": "markdown",
      "source": [
        "## Mengatasi Missing Value"
      ],
      "metadata": {
        "id": "vN4H3T4MAQ4Q"
      }
    },
    {
      "cell_type": "code",
      "source": [
        "#Cek missing value\n",
        "df.isnull().sum()"
      ],
      "metadata": {
        "id": "f59Jqv-7_wkL",
        "colab": {
          "base_uri": "https://localhost:8080/"
        },
        "outputId": "3c4eb118-3999-4039-9fed-3c08b3a57e3a"
      },
      "execution_count": null,
      "outputs": [
        {
          "output_type": "execute_result",
          "data": {
            "text/plain": [
              "JenisKelamin          5\n",
              "Umur                  0\n",
              "Pendapatanbulanan     0\n",
              "Skorpengeluaran       0\n",
              "Menikah              12\n",
              "Kota                  0\n",
              "Promo                 6\n",
              "HariFav               0\n",
              "FavFlavor            21\n",
              "dtype: int64"
            ]
          },
          "metadata": {},
          "execution_count": 50
        }
      ]
    },
    {
      "cell_type": "code",
      "source": [
        "# Mengatasi MV\n",
        "df.bfill(inplace = True)"
      ],
      "metadata": {
        "id": "zxrlwGoqAeiM"
      },
      "execution_count": null,
      "outputs": []
    },
    {
      "cell_type": "code",
      "source": [
        "df"
      ],
      "metadata": {
        "id": "gy2u8UY1Qwgk",
        "colab": {
          "base_uri": "https://localhost:8080/",
          "height": 424
        },
        "outputId": "25b79399-206b-46cf-ff95-e622663c707e"
      },
      "execution_count": null,
      "outputs": [
        {
          "output_type": "execute_result",
          "data": {
            "text/plain": [
              "    JenisKelamin  Umur  Pendapatanbulanan  Skorpengeluaran Menikah       Kota  \\\n",
              "0         Wanita    49           13114754               52       1    Jakarta   \n",
              "1         Wanita    32           33606557               86       1      Depok   \n",
              "2           Pria    51           15983606               41       1    Jakarta   \n",
              "3           Pria    19           12704918               55       0    Jakarta   \n",
              "4         Wanita    38           20081967               42       1    Jakarta   \n",
              "..           ...   ...                ...              ...     ...        ...   \n",
              "195         Pria    31            4098360               73       1      Depok   \n",
              "196         Pria    57           15983606               51       1    Jakarta   \n",
              "197       Wanita    35           43032786               79       1      Depok   \n",
              "198       Wanita    23            1229508               94       1      Depok   \n",
              "199         Pria    50            1639344               14       1  Tangerang   \n",
              "\n",
              "     Promo HariFav FavFlavor  \n",
              "0      1.0   Sabtu       6.0  \n",
              "1      1.0  Minggu       6.0  \n",
              "2      2.0  Minggu       3.0  \n",
              "3      1.0    Rabu       7.0  \n",
              "4      2.0   Senin       8.0  \n",
              "..     ...     ...       ...  \n",
              "195    1.0   Senin       0.0  \n",
              "196    1.0  Minggu       5.0  \n",
              "197    1.0   Senin       7.0  \n",
              "198    0.0  Selasa       0.0  \n",
              "199    3.0  Minggu       6.0  \n",
              "\n",
              "[200 rows x 9 columns]"
            ],
            "text/html": [
              "\n",
              "  <div id=\"df-15af3bb1-e233-46ce-a3f3-d16dfe659d74\">\n",
              "    <div class=\"colab-df-container\">\n",
              "      <div>\n",
              "<style scoped>\n",
              "    .dataframe tbody tr th:only-of-type {\n",
              "        vertical-align: middle;\n",
              "    }\n",
              "\n",
              "    .dataframe tbody tr th {\n",
              "        vertical-align: top;\n",
              "    }\n",
              "\n",
              "    .dataframe thead th {\n",
              "        text-align: right;\n",
              "    }\n",
              "</style>\n",
              "<table border=\"1\" class=\"dataframe\">\n",
              "  <thead>\n",
              "    <tr style=\"text-align: right;\">\n",
              "      <th></th>\n",
              "      <th>JenisKelamin</th>\n",
              "      <th>Umur</th>\n",
              "      <th>Pendapatanbulanan</th>\n",
              "      <th>Skorpengeluaran</th>\n",
              "      <th>Menikah</th>\n",
              "      <th>Kota</th>\n",
              "      <th>Promo</th>\n",
              "      <th>HariFav</th>\n",
              "      <th>FavFlavor</th>\n",
              "    </tr>\n",
              "  </thead>\n",
              "  <tbody>\n",
              "    <tr>\n",
              "      <th>0</th>\n",
              "      <td>Wanita</td>\n",
              "      <td>49</td>\n",
              "      <td>13114754</td>\n",
              "      <td>52</td>\n",
              "      <td>1</td>\n",
              "      <td>Jakarta</td>\n",
              "      <td>1.0</td>\n",
              "      <td>Sabtu</td>\n",
              "      <td>6.0</td>\n",
              "    </tr>\n",
              "    <tr>\n",
              "      <th>1</th>\n",
              "      <td>Wanita</td>\n",
              "      <td>32</td>\n",
              "      <td>33606557</td>\n",
              "      <td>86</td>\n",
              "      <td>1</td>\n",
              "      <td>Depok</td>\n",
              "      <td>1.0</td>\n",
              "      <td>Minggu</td>\n",
              "      <td>6.0</td>\n",
              "    </tr>\n",
              "    <tr>\n",
              "      <th>2</th>\n",
              "      <td>Pria</td>\n",
              "      <td>51</td>\n",
              "      <td>15983606</td>\n",
              "      <td>41</td>\n",
              "      <td>1</td>\n",
              "      <td>Jakarta</td>\n",
              "      <td>2.0</td>\n",
              "      <td>Minggu</td>\n",
              "      <td>3.0</td>\n",
              "    </tr>\n",
              "    <tr>\n",
              "      <th>3</th>\n",
              "      <td>Pria</td>\n",
              "      <td>19</td>\n",
              "      <td>12704918</td>\n",
              "      <td>55</td>\n",
              "      <td>0</td>\n",
              "      <td>Jakarta</td>\n",
              "      <td>1.0</td>\n",
              "      <td>Rabu</td>\n",
              "      <td>7.0</td>\n",
              "    </tr>\n",
              "    <tr>\n",
              "      <th>4</th>\n",
              "      <td>Wanita</td>\n",
              "      <td>38</td>\n",
              "      <td>20081967</td>\n",
              "      <td>42</td>\n",
              "      <td>1</td>\n",
              "      <td>Jakarta</td>\n",
              "      <td>2.0</td>\n",
              "      <td>Senin</td>\n",
              "      <td>8.0</td>\n",
              "    </tr>\n",
              "    <tr>\n",
              "      <th>...</th>\n",
              "      <td>...</td>\n",
              "      <td>...</td>\n",
              "      <td>...</td>\n",
              "      <td>...</td>\n",
              "      <td>...</td>\n",
              "      <td>...</td>\n",
              "      <td>...</td>\n",
              "      <td>...</td>\n",
              "      <td>...</td>\n",
              "    </tr>\n",
              "    <tr>\n",
              "      <th>195</th>\n",
              "      <td>Pria</td>\n",
              "      <td>31</td>\n",
              "      <td>4098360</td>\n",
              "      <td>73</td>\n",
              "      <td>1</td>\n",
              "      <td>Depok</td>\n",
              "      <td>1.0</td>\n",
              "      <td>Senin</td>\n",
              "      <td>0.0</td>\n",
              "    </tr>\n",
              "    <tr>\n",
              "      <th>196</th>\n",
              "      <td>Pria</td>\n",
              "      <td>57</td>\n",
              "      <td>15983606</td>\n",
              "      <td>51</td>\n",
              "      <td>1</td>\n",
              "      <td>Jakarta</td>\n",
              "      <td>1.0</td>\n",
              "      <td>Minggu</td>\n",
              "      <td>5.0</td>\n",
              "    </tr>\n",
              "    <tr>\n",
              "      <th>197</th>\n",
              "      <td>Wanita</td>\n",
              "      <td>35</td>\n",
              "      <td>43032786</td>\n",
              "      <td>79</td>\n",
              "      <td>1</td>\n",
              "      <td>Depok</td>\n",
              "      <td>1.0</td>\n",
              "      <td>Senin</td>\n",
              "      <td>7.0</td>\n",
              "    </tr>\n",
              "    <tr>\n",
              "      <th>198</th>\n",
              "      <td>Wanita</td>\n",
              "      <td>23</td>\n",
              "      <td>1229508</td>\n",
              "      <td>94</td>\n",
              "      <td>1</td>\n",
              "      <td>Depok</td>\n",
              "      <td>0.0</td>\n",
              "      <td>Selasa</td>\n",
              "      <td>0.0</td>\n",
              "    </tr>\n",
              "    <tr>\n",
              "      <th>199</th>\n",
              "      <td>Pria</td>\n",
              "      <td>50</td>\n",
              "      <td>1639344</td>\n",
              "      <td>14</td>\n",
              "      <td>1</td>\n",
              "      <td>Tangerang</td>\n",
              "      <td>3.0</td>\n",
              "      <td>Minggu</td>\n",
              "      <td>6.0</td>\n",
              "    </tr>\n",
              "  </tbody>\n",
              "</table>\n",
              "<p>200 rows × 9 columns</p>\n",
              "</div>\n",
              "      <button class=\"colab-df-convert\" onclick=\"convertToInteractive('df-15af3bb1-e233-46ce-a3f3-d16dfe659d74')\"\n",
              "              title=\"Convert this dataframe to an interactive table.\"\n",
              "              style=\"display:none;\">\n",
              "        \n",
              "  <svg xmlns=\"http://www.w3.org/2000/svg\" height=\"24px\"viewBox=\"0 0 24 24\"\n",
              "       width=\"24px\">\n",
              "    <path d=\"M0 0h24v24H0V0z\" fill=\"none\"/>\n",
              "    <path d=\"M18.56 5.44l.94 2.06.94-2.06 2.06-.94-2.06-.94-.94-2.06-.94 2.06-2.06.94zm-11 1L8.5 8.5l.94-2.06 2.06-.94-2.06-.94L8.5 2.5l-.94 2.06-2.06.94zm10 10l.94 2.06.94-2.06 2.06-.94-2.06-.94-.94-2.06-.94 2.06-2.06.94z\"/><path d=\"M17.41 7.96l-1.37-1.37c-.4-.4-.92-.59-1.43-.59-.52 0-1.04.2-1.43.59L10.3 9.45l-7.72 7.72c-.78.78-.78 2.05 0 2.83L4 21.41c.39.39.9.59 1.41.59.51 0 1.02-.2 1.41-.59l7.78-7.78 2.81-2.81c.8-.78.8-2.07 0-2.86zM5.41 20L4 18.59l7.72-7.72 1.47 1.35L5.41 20z\"/>\n",
              "  </svg>\n",
              "      </button>\n",
              "      \n",
              "  <style>\n",
              "    .colab-df-container {\n",
              "      display:flex;\n",
              "      flex-wrap:wrap;\n",
              "      gap: 12px;\n",
              "    }\n",
              "\n",
              "    .colab-df-convert {\n",
              "      background-color: #E8F0FE;\n",
              "      border: none;\n",
              "      border-radius: 50%;\n",
              "      cursor: pointer;\n",
              "      display: none;\n",
              "      fill: #1967D2;\n",
              "      height: 32px;\n",
              "      padding: 0 0 0 0;\n",
              "      width: 32px;\n",
              "    }\n",
              "\n",
              "    .colab-df-convert:hover {\n",
              "      background-color: #E2EBFA;\n",
              "      box-shadow: 0px 1px 2px rgba(60, 64, 67, 0.3), 0px 1px 3px 1px rgba(60, 64, 67, 0.15);\n",
              "      fill: #174EA6;\n",
              "    }\n",
              "\n",
              "    [theme=dark] .colab-df-convert {\n",
              "      background-color: #3B4455;\n",
              "      fill: #D2E3FC;\n",
              "    }\n",
              "\n",
              "    [theme=dark] .colab-df-convert:hover {\n",
              "      background-color: #434B5C;\n",
              "      box-shadow: 0px 1px 3px 1px rgba(0, 0, 0, 0.15);\n",
              "      filter: drop-shadow(0px 1px 2px rgba(0, 0, 0, 0.3));\n",
              "      fill: #FFFFFF;\n",
              "    }\n",
              "  </style>\n",
              "\n",
              "      <script>\n",
              "        const buttonEl =\n",
              "          document.querySelector('#df-15af3bb1-e233-46ce-a3f3-d16dfe659d74 button.colab-df-convert');\n",
              "        buttonEl.style.display =\n",
              "          google.colab.kernel.accessAllowed ? 'block' : 'none';\n",
              "\n",
              "        async function convertToInteractive(key) {\n",
              "          const element = document.querySelector('#df-15af3bb1-e233-46ce-a3f3-d16dfe659d74');\n",
              "          const dataTable =\n",
              "            await google.colab.kernel.invokeFunction('convertToInteractive',\n",
              "                                                     [key], {});\n",
              "          if (!dataTable) return;\n",
              "\n",
              "          const docLinkHtml = 'Like what you see? Visit the ' +\n",
              "            '<a target=\"_blank\" href=https://colab.research.google.com/notebooks/data_table.ipynb>data table notebook</a>'\n",
              "            + ' to learn more about interactive tables.';\n",
              "          element.innerHTML = '';\n",
              "          dataTable['output_type'] = 'display_data';\n",
              "          await google.colab.output.renderOutput(dataTable, element);\n",
              "          const docLink = document.createElement('div');\n",
              "          docLink.innerHTML = docLinkHtml;\n",
              "          element.appendChild(docLink);\n",
              "        }\n",
              "      </script>\n",
              "    </div>\n",
              "  </div>\n",
              "  "
            ]
          },
          "metadata": {},
          "execution_count": 52
        }
      ]
    },
    {
      "cell_type": "code",
      "source": [
        "df.isna().sum()"
      ],
      "metadata": {
        "id": "a_Sk77MWQ19j",
        "colab": {
          "base_uri": "https://localhost:8080/"
        },
        "outputId": "dcfe6265-7a6d-4675-8ef1-77c349dcf4f1"
      },
      "execution_count": null,
      "outputs": [
        {
          "output_type": "execute_result",
          "data": {
            "text/plain": [
              "JenisKelamin         0\n",
              "Umur                 0\n",
              "Pendapatanbulanan    0\n",
              "Skorpengeluaran      0\n",
              "Menikah              0\n",
              "Kota                 0\n",
              "Promo                0\n",
              "HariFav              0\n",
              "FavFlavor            0\n",
              "dtype: int64"
            ]
          },
          "metadata": {},
          "execution_count": 53
        }
      ]
    },
    {
      "cell_type": "markdown",
      "source": [
        "## Mengatasi Outlier"
      ],
      "metadata": {
        "id": "yFLGEq7oAxIG"
      }
    },
    {
      "cell_type": "code",
      "source": [
        "#Cek adanya outlier pada variabel Skorpengeluaran\n",
        "plt.figure(figsize = (20, 10))\n",
        "sns.boxplot(df['Skorpengeluaran'])\n",
        "plt.axvline(df['Skorpengeluaran'].describe()['25%'], color = 'red', label = 'Q1')\n",
        "plt.axvline(df['Skorpengeluaran'].describe()['50%'], color = 'yellow', label = 'Q2')\n",
        "plt.axvline(df['Skorpengeluaran'].describe()['75%'], color = 'blue', label = 'Q3')\n",
        "plt.annotate('Outlier', (df['Skorpengeluaran'].describe()['max'],0.1), xytext = (df['Skorpengeluaran'].describe()['max'],0.3),\n",
        "             arrowprops = dict(facecolor = 'blue'), fontsize = 13 )\n",
        "IQR = df['Skorpengeluaran'].describe()['75%'] - df['Skorpengeluaran'].describe()['25%']\n",
        "plt.annotate('Batas Atas', (df['Skorpengeluaran'].describe()['75%'] + 1.5*IQR, 0.2), \n",
        "             xytext = (df['Skorpengeluaran'].describe()['75%'] + 1.5*IQR, 0.4),\n",
        "             arrowprops = dict(facecolor = 'blue'), fontsize = 13 )\n",
        "plt.annotate('Batas Bawah', (df['Skorpengeluaran'].describe()['min'], 0.2), \n",
        "             xytext = (df['Skorpengeluaran'].describe()['min'], 0.4),\n",
        "             arrowprops = dict(facecolor = 'blue'), fontsize = 13 )\n",
        "plt.legend()"
      ],
      "metadata": {
        "id": "Var01TsCT-PQ",
        "colab": {
          "base_uri": "https://localhost:8080/",
          "height": 613
        },
        "outputId": "03217341-4906-4ace-b3bb-95a7bb704f0a"
      },
      "execution_count": null,
      "outputs": [
        {
          "output_type": "execute_result",
          "data": {
            "text/plain": [
              "<matplotlib.legend.Legend at 0x7f4a48e61150>"
            ]
          },
          "metadata": {},
          "execution_count": 54
        },
        {
          "output_type": "display_data",
          "data": {
            "text/plain": [
              "<Figure size 1440x720 with 1 Axes>"
            ],
            "image/png": "[encoded data removed]"
          },
          "metadata": {}
        }
      ]
    },
    {
      "cell_type": "code",
      "source": [
        "#Cek adanya outlier pada variabel Umur\n",
        "plt.figure(figsize = (20, 10))\n",
        "sns.boxplot(df['Umur'])\n",
        "plt.axvline(df['Umur'].describe()['25%'], color = 'red', label = 'Q1')\n",
        "plt.axvline(df['Umur'].describe()['50%'], color = 'yellow', label = 'Q2')\n",
        "plt.axvline(df['Umur'].describe()['75%'], color = 'blue', label = 'Q3')\n",
        "plt.annotate('Outlier', (df['Umur'].describe()['max'],0.1), xytext = (df['Umur'].describe()['max'],0.3),\n",
        "             arrowprops = dict(facecolor = 'blue'), fontsize = 13 )\n",
        "IQR = df['Umur'].describe()['75%'] - df['Umur'].describe()['25%']\n",
        "plt.annotate('Batas Atas', (df['Umur'].describe()['75%'] + 1.5*IQR, 0.2), \n",
        "             xytext = (df['Umur'].describe()['75%'] + 1.5*IQR, 0.4),\n",
        "             arrowprops = dict(facecolor = 'blue'), fontsize = 13 )\n",
        "plt.annotate('Batas Bawah', (df['Umur'].describe()['min'], 0.2), \n",
        "             xytext = (df['Umur'].describe()['min'], 0.4),\n",
        "             arrowprops = dict(facecolor = 'blue'), fontsize = 13 )\n",
        "plt.legend()"
      ],
      "metadata": {
        "id": "SE1qv39QxtfW",
        "colab": {
          "base_uri": "https://localhost:8080/",
          "height": 614
        },
        "outputId": "490f7957-4587-4e1a-ea57-422348b16cc0"
      },
      "execution_count": null,
      "outputs": [
        {
          "output_type": "execute_result",
          "data": {
            "text/plain": [
              "<matplotlib.legend.Legend at 0x7f4a48d6da10>"
            ]
          },
          "metadata": {},
          "execution_count": 55
        },
        {
          "output_type": "display_data",
          "data": {
            "text/plain": [
              "<Figure size 1440x720 with 1 Axes>"
            ],
            "image/png": "[encoded data removed]"
          },
          "metadata": {}
        }
      ]
    },
    {
      "cell_type": "code",
      "source": [
        "#Cek adanya outlier pada variabel Pendapatanbulanan\n",
        "plt.figure(figsize = (20, 10))\n",
        "sns.boxplot(df['Pendapatanbulanan'])\n",
        "plt.axvline(df['Pendapatanbulanan'].describe()['25%'], color = 'red', label = 'Q1')\n",
        "plt.axvline(df['Pendapatanbulanan'].describe()['50%'], color = 'yellow', label = 'Q2')\n",
        "plt.axvline(df['Pendapatanbulanan'].describe()['75%'], color = 'blue', label = 'Q3')\n",
        "plt.annotate('Outlier', (df['Pendapatanbulanan'].describe()['max'],0.1), xytext = (df['Pendapatanbulanan'].describe()['max'],0.3),\n",
        "             arrowprops = dict(facecolor = 'blue'), fontsize = 13 )\n",
        "IQR = df['Pendapatanbulanan'].describe()['75%'] - df['Pendapatanbulanan'].describe()['25%']\n",
        "plt.annotate('Batas Atas', (df['Pendapatanbulanan'].describe()['75%'] + 1.5*IQR, 0.2), \n",
        "             xytext = (df['Pendapatanbulanan'].describe()['75%'] + 1.5*IQR, 0.4),\n",
        "             arrowprops = dict(facecolor = 'blue'), fontsize = 13 )\n",
        "plt.annotate('Batas Bawah', (df['Pendapatanbulanan'].describe()['min'], 0.2), \n",
        "             xytext = (df['Pendapatanbulanan'].describe()['min'], 0.4),\n",
        "             arrowprops = dict(facecolor = 'blue'), fontsize = 13 )\n",
        "plt.legend()"
      ],
      "metadata": {
        "id": "z7qcxAD2yDR_",
        "colab": {
          "base_uri": "https://localhost:8080/",
          "height": 628
        },
        "outputId": "92784981-85a6-4827-f262-edf34105ed92"
      },
      "execution_count": null,
      "outputs": [
        {
          "output_type": "execute_result",
          "data": {
            "text/plain": [
              "<matplotlib.legend.Legend at 0x7f4a48d025d0>"
            ]
          },
          "metadata": {},
          "execution_count": 56
        },
        {
          "output_type": "display_data",
          "data": {
            "text/plain": [
              "<Figure size 1440x720 with 1 Axes>"
            ],
            "image/png": "[encoded data removed]"
          },
          "metadata": {}
        }
      ]
    },
    {
      "cell_type": "code",
      "source": [
        "plt.figure(figsize = (20, 10))\n",
        "sns.boxplot(df['Skorpengeluaran'])\n",
        "plt.axvline(df['Skorpengeluaran'].describe()['25%'], color = 'red', label = 'Q1')\n",
        "plt.axvline(df['Skorpengeluaran'].describe()['50%'], color = 'yellow', label = 'Q2')\n",
        "plt.axvline(df['Skorpengeluaran'].describe()['75%'], color = 'blue', label = 'Q3')\n",
        "plt.annotate('Outlier', (df['Skorpengeluaran'].describe()['max'],0.1), xytext = (df['Skorpengeluaran'].describe()['max'],0.3),\n",
        "             arrowprops = dict(facecolor = 'blue'), fontsize = 13 )\n",
        "IQR = df['Skorpengeluaran'].describe()['75%'] - df['Skorpengeluaran'].describe()['25%']\n",
        "plt.annotate('Batas Atas', (df['Skorpengeluaran'].describe()['75%'] + 1.5*IQR, 0.2), \n",
        "             xytext = (df['Skorpengeluaran'].describe()['75%'] + 1.5*IQR, 0.4),\n",
        "             arrowprops = dict(facecolor = 'blue'), fontsize = 13 )\n",
        "plt.annotate('Batas Bawah', (df['Skorpengeluaran'].describe()['min'], 0.2), \n",
        "             xytext = (df['Skorpengeluaran'].describe()['min'], 0.4),\n",
        "             arrowprops = dict(facecolor = 'blue'), fontsize = 13 )\n",
        "plt.legend()"
      ],
      "metadata": {
        "colab": {
          "base_uri": "https://localhost:8080/",
          "height": 613
        },
        "id": "atj4V5YZDslV",
        "outputId": "985f8099-e785-46b1-f2b4-5b83004cd841"
      },
      "execution_count": null,
      "outputs": [
        {
          "output_type": "execute_result",
          "data": {
            "text/plain": [
              "<matplotlib.legend.Legend at 0x7f4a48c96050>"
            ]
          },
          "metadata": {},
          "execution_count": 57
        },
        {
          "output_type": "display_data",
          "data": {
            "text/plain": [
              "<Figure size 1440x720 with 1 Axes>"
            ],
            "image/png": "[encoded data removed]"
          },
          "metadata": {}
        }
      ]
    },
    {
      "cell_type": "code",
      "source": [
        "# Mengatasi outlier\n",
        "print(df['Skorpengeluaran'].quantile(0.10))\n",
        "print(df['Skorpengeluaran'].quantile(0.90))\n"
      ],
      "metadata": {
        "colab": {
          "base_uri": "https://localhost:8080/"
        },
        "id": "3tSQWi-yD650",
        "outputId": "50bb6cf8-72b2-4c7e-ea26-da9b98d2e153"
      },
      "execution_count": null,
      "outputs": [
        {
          "output_type": "stream",
          "name": "stdout",
          "text": [
            "13.0\n",
            "88.0\n"
          ]
        }
      ]
    },
    {
      "cell_type": "code",
      "source": [
        "# Mengatasi outlier\n",
        "df[\"Skorpengeluaran\"] = np.where(df[\"Skorpengeluaran\"] <13.0, 13.0 ,df['Skorpengeluaran'])\n",
        "df[\"Skorpengeluaran\"] = np.where(df[\"Skorpengeluaran\"] >88.0, 88.0,df['Skorpengeluaran'])\n",
        "plt.figure() # untuk membuat figure baru\n",
        "sns.boxplot(x=df['Skorpengeluaran'])\n",
        "plt.show()"
      ],
      "metadata": {
        "colab": {
          "base_uri": "https://localhost:8080/",
          "height": 285
        },
        "id": "oo-3kfuXD-uL",
        "outputId": "bea0b840-f7db-4abc-de8e-eafddb140b8f"
      },
      "execution_count": null,
      "outputs": [
        {
          "output_type": "display_data",
          "data": {
            "text/plain": [
              "<Figure size 432x288 with 1 Axes>"
            ],
            "image/png": "[encoded data removed]"
          },
          "metadata": {}
        }
      ]
    },
    {
      "cell_type": "code",
      "source": [
        "# Mengatasi outlier\n",
        "print(df['Pendapatanbulanan'].quantile(0.10))\n",
        "print(df['Pendapatanbulanan'].quantile(0.90))\n"
      ],
      "metadata": {
        "id": "cSA1NH31qb0q",
        "colab": {
          "base_uri": "https://localhost:8080/"
        },
        "outputId": "74b8ad9e-7403-434f-bc9b-f4e81c731ce3"
      },
      "execution_count": null,
      "outputs": [
        {
          "output_type": "stream",
          "name": "stdout",
          "text": [
            "3647540.400000001\n",
            "32131147.39999999\n"
          ]
        }
      ]
    },
    {
      "cell_type": "code",
      "source": [
        "df[\"Pendapatanbulanan\"] = np.where(df[\"Pendapatanbulanan\"] <3647540.400000001, 3647540.400000001,df['Pendapatanbulanan'])\n",
        "df[\"Pendapatanbulanan\"] = np.where(df[\"Pendapatanbulanan\"] >32131147.39999999, 32131147.39999999,df['Pendapatanbulanan'])\n",
        "plt.figure() # untuk membuat figure baru\n",
        "sns.boxplot(x=df['Pendapatanbulanan'])\n",
        "plt.show()"
      ],
      "metadata": {
        "id": "EfRjAwRgzwW8",
        "colab": {
          "base_uri": "https://localhost:8080/",
          "height": 285
        },
        "outputId": "f77caec7-fa8f-4640-a9cd-a6e992ad3b72"
      },
      "execution_count": null,
      "outputs": [
        {
          "output_type": "display_data",
          "data": {
            "text/plain": [
              "<Figure size 432x288 with 1 Axes>"
            ],
            "image/png": "[encoded data removed]"
          },
          "metadata": {}
        }
      ]
    },
    {
      "cell_type": "markdown",
      "source": [
        "# **EDA**"
      ],
      "metadata": {
        "id": "CjQmJfyj-uaq"
      }
    },
    {
      "cell_type": "code",
      "source": [
        "bins = np.linspace(min(df['Umur']), max(df['Umur']), 4)\n",
        "kategori = ['Muda', 'Dewasa', 'Tua']\n",
        "df['Kategori'] = pd.cut(df['Umur'], bins, labels=kategori, include_lowest=True)\n",
        "df"
      ],
      "metadata": {
        "colab": {
          "base_uri": "https://localhost:8080/",
          "height": 424
        },
        "id": "aUHIacTF39JK",
        "outputId": "1ebc3ff8-8b22-46f4-f098-55d35a1ebdc6"
      },
      "execution_count": null,
      "outputs": [
        {
          "output_type": "execute_result",
          "data": {
            "text/plain": [
              "    JenisKelamin  Umur Pendapatanbulanan  Skorpengeluaran Menikah       Kota  \\\n",
              "0         Wanita    49          13114754             52.0       1    Jakarta   \n",
              "1         Wanita    32        32131147.4             86.0       1      Depok   \n",
              "2           Pria    51          15983606             41.0       1    Jakarta   \n",
              "3           Pria    19          12704918             55.0       0    Jakarta   \n",
              "4         Wanita    38          20081967             42.0       1    Jakarta   \n",
              "..           ...   ...               ...              ...     ...        ...   \n",
              "195         Pria    31           4098360             73.0       1      Depok   \n",
              "196         Pria    57          15983606             51.0       1    Jakarta   \n",
              "197       Wanita    35        32131147.4             79.0       1      Depok   \n",
              "198       Wanita    23         3647540.4             88.0       1      Depok   \n",
              "199         Pria    50         3647540.4             14.0       1  Tangerang   \n",
              "\n",
              "     Promo HariFav FavFlavor Kategori  \n",
              "0      1.0   Sabtu       6.0      Tua  \n",
              "1      1.0  Minggu       6.0   Dewasa  \n",
              "2      2.0  Minggu       3.0      Tua  \n",
              "3      1.0    Rabu       7.0     Muda  \n",
              "4      2.0   Senin       8.0   Dewasa  \n",
              "..     ...     ...       ...      ...  \n",
              "195    1.0   Senin       0.0   Dewasa  \n",
              "196    1.0  Minggu       5.0      Tua  \n",
              "197    1.0   Senin       7.0   Dewasa  \n",
              "198    0.0  Selasa       0.0   Dewasa  \n",
              "199    3.0  Minggu       6.0      Tua  \n",
              "\n",
              "[200 rows x 10 columns]"
            ],
            "text/html": [
              "\n",
              "  <div id=\"df-fad6f0ce-796a-4065-9931-caac08158f10\">\n",
              "    <div class=\"colab-df-container\">\n",
              "      <div>\n",
              "<style scoped>\n",
              "    .dataframe tbody tr th:only-of-type {\n",
              "        vertical-align: middle;\n",
              "    }\n",
              "\n",
              "    .dataframe tbody tr th {\n",
              "        vertical-align: top;\n",
              "    }\n",
              "\n",
              "    .dataframe thead th {\n",
              "        text-align: right;\n",
              "    }\n",
              "</style>\n",
              "<table border=\"1\" class=\"dataframe\">\n",
              "  <thead>\n",
              "    <tr style=\"text-align: right;\">\n",
              "      <th></th>\n",
              "      <th>JenisKelamin</th>\n",
              "      <th>Umur</th>\n",
              "      <th>Pendapatanbulanan</th>\n",
              "      <th>Skorpengeluaran</th>\n",
              "      <th>Menikah</th>\n",
              "      <th>Kota</th>\n",
              "      <th>Promo</th>\n",
              "      <th>HariFav</th>\n",
              "      <th>FavFlavor</th>\n",
              "      <th>Kategori</th>\n",
              "    </tr>\n",
              "  </thead>\n",
              "  <tbody>\n",
              "    <tr>\n",
              "      <th>0</th>\n",
              "      <td>Wanita</td>\n",
              "      <td>49</td>\n",
              "      <td>13114754</td>\n",
              "      <td>52.0</td>\n",
              "      <td>1</td>\n",
              "      <td>Jakarta</td>\n",
              "      <td>1.0</td>\n",
              "      <td>Sabtu</td>\n",
              "      <td>6.0</td>\n",
              "      <td>Tua</td>\n",
              "    </tr>\n",
              "    <tr>\n",
              "      <th>1</th>\n",
              "      <td>Wanita</td>\n",
              "      <td>32</td>\n",
              "      <td>32131147.4</td>\n",
              "      <td>86.0</td>\n",
              "      <td>1</td>\n",
              "      <td>Depok</td>\n",
              "      <td>1.0</td>\n",
              "      <td>Minggu</td>\n",
              "      <td>6.0</td>\n",
              "      <td>Dewasa</td>\n",
              "    </tr>\n",
              "    <tr>\n",
              "      <th>2</th>\n",
              "      <td>Pria</td>\n",
              "      <td>51</td>\n",
              "      <td>15983606</td>\n",
              "      <td>41.0</td>\n",
              "      <td>1</td>\n",
              "      <td>Jakarta</td>\n",
              "      <td>2.0</td>\n",
              "      <td>Minggu</td>\n",
              "      <td>3.0</td>\n",
              "      <td>Tua</td>\n",
              "    </tr>\n",
              "    <tr>\n",
              "      <th>3</th>\n",
              "      <td>Pria</td>\n",
              "      <td>19</td>\n",
              "      <td>12704918</td>\n",
              "      <td>55.0</td>\n",
              "      <td>0</td>\n",
              "      <td>Jakarta</td>\n",
              "      <td>1.0</td>\n",
              "      <td>Rabu</td>\n",
              "      <td>7.0</td>\n",
              "      <td>Muda</td>\n",
              "    </tr>\n",
              "    <tr>\n",
              "      <th>4</th>\n",
              "      <td>Wanita</td>\n",
              "      <td>38</td>\n",
              "      <td>20081967</td>\n",
              "      <td>42.0</td>\n",
              "      <td>1</td>\n",
              "      <td>Jakarta</td>\n",
              "      <td>2.0</td>\n",
              "      <td>Senin</td>\n",
              "      <td>8.0</td>\n",
              "      <td>Dewasa</td>\n",
              "    </tr>\n",
              "    <tr>\n",
              "      <th>...</th>\n",
              "      <td>...</td>\n",
              "      <td>...</td>\n",
              "      <td>...</td>\n",
              "      <td>...</td>\n",
              "      <td>...</td>\n",
              "      <td>...</td>\n",
              "      <td>...</td>\n",
              "      <td>...</td>\n",
              "      <td>...</td>\n",
              "      <td>...</td>\n",
              "    </tr>\n",
              "    <tr>\n",
              "      <th>195</th>\n",
              "      <td>Pria</td>\n",
              "      <td>31</td>\n",
              "      <td>4098360</td>\n",
              "      <td>73.0</td>\n",
              "      <td>1</td>\n",
              "      <td>Depok</td>\n",
              "      <td>1.0</td>\n",
              "      <td>Senin</td>\n",
              "      <td>0.0</td>\n",
              "      <td>Dewasa</td>\n",
              "    </tr>\n",
              "    <tr>\n",
              "      <th>196</th>\n",
              "      <td>Pria</td>\n",
              "      <td>57</td>\n",
              "      <td>15983606</td>\n",
              "      <td>51.0</td>\n",
              "      <td>1</td>\n",
              "      <td>Jakarta</td>\n",
              "      <td>1.0</td>\n",
              "      <td>Minggu</td>\n",
              "      <td>5.0</td>\n",
              "      <td>Tua</td>\n",
              "    </tr>\n",
              "    <tr>\n",
              "      <th>197</th>\n",
              "      <td>Wanita</td>\n",
              "      <td>35</td>\n",
              "      <td>32131147.4</td>\n",
              "      <td>79.0</td>\n",
              "      <td>1</td>\n",
              "      <td>Depok</td>\n",
              "      <td>1.0</td>\n",
              "      <td>Senin</td>\n",
              "      <td>7.0</td>\n",
              "      <td>Dewasa</td>\n",
              "    </tr>\n",
              "    <tr>\n",
              "      <th>198</th>\n",
              "      <td>Wanita</td>\n",
              "      <td>23</td>\n",
              "      <td>3647540.4</td>\n",
              "      <td>88.0</td>\n",
              "      <td>1</td>\n",
              "      <td>Depok</td>\n",
              "      <td>0.0</td>\n",
              "      <td>Selasa</td>\n",
              "      <td>0.0</td>\n",
              "      <td>Dewasa</td>\n",
              "    </tr>\n",
              "    <tr>\n",
              "      <th>199</th>\n",
              "      <td>Pria</td>\n",
              "      <td>50</td>\n",
              "      <td>3647540.4</td>\n",
              "      <td>14.0</td>\n",
              "      <td>1</td>\n",
              "      <td>Tangerang</td>\n",
              "      <td>3.0</td>\n",
              "      <td>Minggu</td>\n",
              "      <td>6.0</td>\n",
              "      <td>Tua</td>\n",
              "    </tr>\n",
              "  </tbody>\n",
              "</table>\n",
              "<p>200 rows × 10 columns</p>\n",
              "</div>\n",
              "      <button class=\"colab-df-convert\" onclick=\"convertToInteractive('df-fad6f0ce-796a-4065-9931-caac08158f10')\"\n",
              "              title=\"Convert this dataframe to an interactive table.\"\n",
              "              style=\"display:none;\">\n",
              "        \n",
              "  <svg xmlns=\"http://www.w3.org/2000/svg\" height=\"24px\"viewBox=\"0 0 24 24\"\n",
              "       width=\"24px\">\n",
              "    <path d=\"M0 0h24v24H0V0z\" fill=\"none\"/>\n",
              "    <path d=\"M18.56 5.44l.94 2.06.94-2.06 2.06-.94-2.06-.94-.94-2.06-.94 2.06-2.06.94zm-11 1L8.5 8.5l.94-2.06 2.06-.94-2.06-.94L8.5 2.5l-.94 2.06-2.06.94zm10 10l.94 2.06.94-2.06 2.06-.94-2.06-.94-.94-2.06-.94 2.06-2.06.94z\"/><path d=\"M17.41 7.96l-1.37-1.37c-.4-.4-.92-.59-1.43-.59-.52 0-1.04.2-1.43.59L10.3 9.45l-7.72 7.72c-.78.78-.78 2.05 0 2.83L4 21.41c.39.39.9.59 1.41.59.51 0 1.02-.2 1.41-.59l7.78-7.78 2.81-2.81c.8-.78.8-2.07 0-2.86zM5.41 20L4 18.59l7.72-7.72 1.47 1.35L5.41 20z\"/>\n",
              "  </svg>\n",
              "      </button>\n",
              "      \n",
              "  <style>\n",
              "    .colab-df-container {\n",
              "      display:flex;\n",
              "      flex-wrap:wrap;\n",
              "      gap: 12px;\n",
              "    }\n",
              "\n",
              "    .colab-df-convert {\n",
              "      background-color: #E8F0FE;\n",
              "      border: none;\n",
              "      border-radius: 50%;\n",
              "      cursor: pointer;\n",
              "      display: none;\n",
              "      fill: #1967D2;\n",
              "      height: 32px;\n",
              "      padding: 0 0 0 0;\n",
              "      width: 32px;\n",
              "    }\n",
              "\n",
              "    .colab-df-convert:hover {\n",
              "      background-color: #E2EBFA;\n",
              "      box-shadow: 0px 1px 2px rgba(60, 64, 67, 0.3), 0px 1px 3px 1px rgba(60, 64, 67, 0.15);\n",
              "      fill: #174EA6;\n",
              "    }\n",
              "\n",
              "    [theme=dark] .colab-df-convert {\n",
              "      background-color: #3B4455;\n",
              "      fill: #D2E3FC;\n",
              "    }\n",
              "\n",
              "    [theme=dark] .colab-df-convert:hover {\n",
              "      background-color: #434B5C;\n",
              "      box-shadow: 0px 1px 3px 1px rgba(0, 0, 0, 0.15);\n",
              "      filter: drop-shadow(0px 1px 2px rgba(0, 0, 0, 0.3));\n",
              "      fill: #FFFFFF;\n",
              "    }\n",
              "  </style>\n",
              "\n",
              "      <script>\n",
              "        const buttonEl =\n",
              "          document.querySelector('#df-fad6f0ce-796a-4065-9931-caac08158f10 button.colab-df-convert');\n",
              "        buttonEl.style.display =\n",
              "          google.colab.kernel.accessAllowed ? 'block' : 'none';\n",
              "\n",
              "        async function convertToInteractive(key) {\n",
              "          const element = document.querySelector('#df-fad6f0ce-796a-4065-9931-caac08158f10');\n",
              "          const dataTable =\n",
              "            await google.colab.kernel.invokeFunction('convertToInteractive',\n",
              "                                                     [key], {});\n",
              "          if (!dataTable) return;\n",
              "\n",
              "          const docLinkHtml = 'Like what you see? Visit the ' +\n",
              "            '<a target=\"_blank\" href=https://colab.research.google.com/notebooks/data_table.ipynb>data table notebook</a>'\n",
              "            + ' to learn more about interactive tables.';\n",
              "          element.innerHTML = '';\n",
              "          dataTable['output_type'] = 'display_data';\n",
              "          await google.colab.output.renderOutput(dataTable, element);\n",
              "          const docLink = document.createElement('div');\n",
              "          docLink.innerHTML = docLinkHtml;\n",
              "          element.appendChild(docLink);\n",
              "        }\n",
              "      </script>\n",
              "    </div>\n",
              "  </div>\n",
              "  "
            ]
          },
          "metadata": {},
          "execution_count": 62
        }
      ]
    },
    {
      "cell_type": "code",
      "source": [
        "plt.figure(figsize=(8,8)) \n",
        "p = sns.countplot(x=\"FavFlavor\", hue=\"Kategori\", data=df)"
      ],
      "metadata": {
        "colab": {
          "base_uri": "https://localhost:8080/",
          "height": 502
        },
        "id": "idsyJQe-8s3o",
        "outputId": "ed8bd30f-0aa0-4caf-c262-3c1ab5430119"
      },
      "execution_count": null,
      "outputs": [
        {
          "output_type": "display_data",
          "data": {
            "text/plain": [
              "<Figure size 576x576 with 1 Axes>"
            ],
            "image/png": "[encoded data removed]"
          },
          "metadata": {}
        }
      ]
    },
    {
      "cell_type": "markdown",
      "source": [
        "### Deskripsi Rasa\n",
        "![](https://drive.google.com/uc?export=view&id=1oZc-dZG8xMRD7K_HhUP2NUTwiKxh8JFD\n",
        ")\n",
        "\n",
        "\n",
        "### Interpretasi\n",
        "Rasa vanilla menjadi rasa favorit di kalangan muda dan dewasa, sedangkan untuk kalangan tua cenderung menyukai rasa Coklat dan Caramel Pecan, rasa yang cenderung sedikit diminati oleh kalangan muda adalah Cokelat, rekomendasi yang dapat kami berikan kepada perusahaan agar rasa Cokelat ini menarik bagi kalangan muda dengan membuat inovasi kemasan yang lebih mengikuti trend anak muda zaman sekarang. \n",
        "Untuk kalangan tua rasa yang cenderung sedikit diminati adalah Cotton Candy, untuk kalangan dewasa yang cenderung sedikit diminati adalah Blueberry.\n",
        "\n",
        "Karena Mixltup ingin \"scale\" bisnis-nya ke kota lain maka kita merekomendasikan untuk memfokuskan untuk kalangan dewasa karena pembelian yang dilakukan cenderung dominan dari kalangan dewasa.\n",
        "\n",
        "\n",
        "\n"
      ],
      "metadata": {
        "id": "XzfRT5GVAaW3"
      }
    },
    {
      "cell_type": "markdown",
      "source": [
        "## Rasa Es Krim Favorit Apa Berdasarkan Gender?"
      ],
      "metadata": {
        "id": "HYrqxJgWC5eC"
      }
    },
    {
      "cell_type": "code",
      "source": [
        "plt.figure(figsize=(8,8)) \n",
        "p = sns.countplot(x=\"JenisKelamin\", hue=\"FavFlavor\", data=df)"
      ],
      "metadata": {
        "id": "6uZRWTDA-0Zz",
        "colab": {
          "base_uri": "https://localhost:8080/",
          "height": 502
        },
        "outputId": "c859d009-c40a-4976-ddaa-04d71c676e8f"
      },
      "execution_count": null,
      "outputs": [
        {
          "output_type": "display_data",
          "data": {
            "text/plain": [
              "<Figure size 576x576 with 1 Axes>"
            ],
            "image/png": "[encoded data removed]"
          },
          "metadata": {}
        }
      ]
    },
    {
      "cell_type": "code",
      "source": [
        "plt.figure(figsize=(8,8)) \n",
        "p = sns.countplot(x=\"JenisKelamin\", hue=\"FavFlavor\", data=df)"
      ],
      "metadata": {
        "colab": {
          "base_uri": "https://localhost:8080/",
          "height": 502
        },
        "id": "Jt5ZEU8S8Ygn",
        "outputId": "61bcc63f-25e3-4970-fc3f-78b7134b7b04"
      },
      "execution_count": null,
      "outputs": [
        {
          "output_type": "display_data",
          "data": {
            "text/plain": [
              "<Figure size 576x576 with 1 Axes>"
            ],
            "image/png": "[encoded data removed]"
          },
          "metadata": {}
        }
      ]
    },
    {
      "cell_type": "markdown",
      "source": [
        "### Interpretasi:\n",
        "Rasa Es Krim Favorit Apa Berdasarkan Gender?\n",
        "Rasa Es krim yang cenderung paling banyak diminati dari kalangan pria dan kalangan wanita adalah vanilla. \n",
        "Saran yang kami berikan untuk perusahaan MixITup yaitu memperbanyak stok rasa vanila agar selalu tersedia rasa vanilla di outlet dan customer tidak kehabisan untuk mendapatkan vanilla tersebut.\n",
        "Sedangkan rasa dengan peminat terendah dari kalangan pria adalah rasa bluebery dan kalangan wanita adalah rasa bubblegum/cotton candy, \n",
        "sehingga kami ingin perusahaan MixlTup meningkatkan strategi marketing dengan cara memberi promo atau diskon pada rasa blueberry dan bubblegum. Ataupun dapat digabungkan strategi keduanya.\n",
        "Sebagai contoh karena vnilla merupakan rasa terfavorit, bagi pria yng membeli bluberry akan mendapatkan gratis rsa vanilla, dan untuk wanita jika membeli rasa bubblegum/cotton candy akan mendapatkan free rasa vanilla."
      ],
      "metadata": {
        "id": "srZGiODwjc26"
      }
    },
    {
      "cell_type": "markdown",
      "source": [
        "## Rasa Es Krim Favorit Apa Berdasarkan umur?"
      ],
      "metadata": {
        "id": "OREdUf7MDEJK"
      }
    },
    {
      "cell_type": "code",
      "source": [
        "fig, ax = plt.subplots(1, 1, figsize=(12,8))\n",
        "p = sns.scatterplot(x=df['HariFav'], y=df['Umur'], hue = df['JenisKelamin'], ax=ax)"
      ],
      "metadata": {
        "id": "1Mph8a8DKC1d",
        "colab": {
          "base_uri": "https://localhost:8080/",
          "height": 502
        },
        "outputId": "723dedc5-4ea2-41be-90a6-6d8db575975a"
      },
      "execution_count": null,
      "outputs": [
        {
          "output_type": "display_data",
          "data": {
            "text/plain": [
              "<Figure size 864x576 with 1 Axes>"
            ],
            "image/png": "[encoded data removed]"
          },
          "metadata": {}
        }
      ]
    },
    {
      "cell_type": "markdown",
      "source": [
        "### Interpretasi:\n",
        "\n",
        "Kota dengan skor pengeluaran paling sedikit yang akan menjadi fokus perusahaan untuk mengembangkan outlet di kota tersebut.\n",
        "Kota tangerang cenderung memiliki skor-pengeluaran yang lebih rendah dibandingkan dengan dua kota lainnya. Oleh karena itu, saran yang dapat kami berikan untuk perusahaan MixITup yaitu lebih fokus untuk megembangkan outlet di Kota Tangerang.\n",
        "Pengembangan yang dapat dilakukan adalah meningkatkan customer experience agar skor-pengeluaran tiap individu meningkat.\n",
        "Sedangkan untuk skor pengeluaran di Kota Jakarta juga cenderung lebih rendah dari kota Depok, perusahaan MixITup dapat meningkatkannya dan menerapkan hal-hal baik yang terdapat pada outlet di Kota Depok.\n",
        "Pada skor pengeluaran di Kota Depok yang cenderung lebih banyak dari Kota Jakarta dan Kota Tangerang. Maka dari itu perusahaan dapat tetap mempertahankan penglaman yang baik terhadap customer.\n",
        "Namun di daerah Kota Depok itu sendiri masih terdapat satu pelanggan yang membuat skor pengeluaran daerah Depok dibawah 60. Jika dapat diketahui individu tersebut bisa dapat ditangani dengan cara memberitahu customer tersebut bahwa outlet MixITup memberikan promo dan benefit lain.\n",
        "sehingga, skor pengeluaran di daerah Kota Depok dapat berada diatas 60."
      ],
      "metadata": {
        "id": "os98iJ1zjqBg"
      }
    },
    {
      "cell_type": "markdown",
      "source": [
        "## Rekomendasi penjualan rasa es krim per hari menyesuaikan target jenis kelamin\n",
        "\n",
        "### Interpretasi:\n",
        "Pada dua diagram sebelumnya, pada hari Sabtu, pelanggan didominasi oleh pelanggan wanita dengan rasa yang paling diminati adalah rasa vanilla.\n",
        "Semantara pada hari Senin, pelanggan didominasi oleh pelanggan pria dengan\n",
        "rasa yang paling diminati adalah rasa vanilla. Untuk itu, saran yang dapat kami rekomendasikan adalah menambah stok rasa vanilla pada hari Senin dan Sabtu dengan harapan meningkatkan tingkat penjualan."
      ],
      "metadata": {
        "id": "KeA6pAFbKDll"
      }
    },
    {
      "cell_type": "markdown",
      "source": [
        "## Hari favorit mengunjungi mixitup dengan promo"
      ],
      "metadata": {
        "id": "XOKVyZ0lJYOJ"
      }
    },
    {
      "cell_type": "code",
      "source": [
        "plt.figure(figsize=(8,8)) \n",
        "p = sns.countplot(x=\"HariFav\", hue=\"Promo\", data=df)"
      ],
      "metadata": {
        "id": "xR5C63qfJufg",
        "colab": {
          "base_uri": "https://localhost:8080/",
          "height": 502
        },
        "outputId": "4e8be29a-c6f1-4a36-ca46-4164f3fb1b06"
      },
      "execution_count": null,
      "outputs": [
        {
          "output_type": "display_data",
          "data": {
            "text/plain": [
              "<Figure size 576x576 with 1 Axes>"
            ],
            "image/png": "[encoded data removed]"
          },
          "metadata": {}
        }
      ]
    },
    {
      "cell_type": "markdown",
      "source": [
        "### Interpretasi:\n",
        "\n",
        "Hari Favorit mengunjungi mixITup dengan promo.\n",
        "Hari favorit yang cenderung sering dikunjungi yaitu hari senin namun customer jarang memakai promo di hari tersebut.\n",
        "Hari Rabu, Kamis dan Jumat cenderung jarang dikunjungi customer.\n",
        "Saran yang kami berikan untuk perusahaan MixITup untuk memikirkan strategi marketing terbaik di hari Rabu, Kamis dan Jumat agar penjualan dapat meningkat.\n",
        "Dapat berupa penambahan kuota promo atau benefit yang lebih menarik untuk customer.\n",
        "Penggunaan promo paling banyak digunakan oleh customer ada di hari Sabtu. Oleh karena itu, perusahaan disarankan tetap mempertahankan promo atau diskon di hari tersebut."
      ],
      "metadata": {
        "id": "0op4rLbKjkV4"
      }
    },
    {
      "cell_type": "markdown",
      "source": [
        "## Kota dengan skor pengeluaran paling sedikit yang akan menjadi fokus perusahaan untuk mengembangkan outlet di kota tersebut."
      ],
      "metadata": {
        "id": "VrNeLz6tLFfp"
      }
    },
    {
      "cell_type": "code",
      "source": [
        "p= sns.catplot(x=\"Kota\", y=\"Skorpengeluaran\", kind=\"swarm\", data=df)"
      ],
      "metadata": {
        "id": "K2DovsWQspB5",
        "colab": {
          "base_uri": "https://localhost:8080/",
          "height": 365
        },
        "outputId": "0a7aacd7-74e2-41a3-bfbc-62845cd831df"
      },
      "execution_count": null,
      "outputs": [
        {
          "output_type": "display_data",
          "data": {
            "text/plain": [
              "<Figure size 360x360 with 1 Axes>"
            ],
            "image/png": "[encoded data removed]"
          },
          "metadata": {}
        }
      ]
    },
    {
      "cell_type": "markdown",
      "source": [
        "# Customer Segmentation"
      ],
      "metadata": {
        "id": "v-8TusMnDJkI"
      }
    },
    {
      "cell_type": "markdown",
      "source": [
        "## Clustering Analysis"
      ],
      "metadata": {
        "id": "yjO0IAFREPmK"
      }
    },
    {
      "cell_type": "code",
      "source": [
        "# Importing Modules untuk Notebook ini\n",
        "import warnings; warnings.simplefilter('ignore')\n",
        "from sklearn import cluster, datasets\n",
        "from sklearn.metrics import silhouette_score as siluet\n",
        "from sklearn.metrics.cluster import homogeneity_score as purity\n",
        "from sklearn.metrics import normalized_mutual_info_score as NMI \n",
        "\n",
        "sns.set(style=\"ticks\", color_codes=True)\n",
        "random_state = 99"
      ],
      "metadata": {
        "id": "cKjtbuUeER9K"
      },
      "execution_count": null,
      "outputs": []
    },
    {
      "cell_type": "code",
      "source": [
        "# Melihat sebaran data\n",
        "g = sns.pairplot(df, hue= \"Kota\")"
      ],
      "metadata": {
        "id": "fJsMVEGCETV4",
        "colab": {
          "base_uri": "https://localhost:8080/",
          "height": 724
        },
        "outputId": "d9f6e2e4-71b3-477a-959b-eaaab69e32a9"
      },
      "execution_count": null,
      "outputs": [
        {
          "output_type": "display_data",
          "data": {
            "text/plain": [
              "<Figure size 817.475x720 with 20 Axes>"
            ],
            "image/png": "[encoded data removed]"
          },
          "metadata": {}
        }
      ]
    },
    {
      "cell_type": "markdown",
      "source": [
        "## K-Means++"
      ],
      "metadata": {
        "id": "Da8luyxfEiLc"
      }
    },
    {
      "cell_type": "markdown",
      "source": [
        "### Melihat persebaran data yang akan diclustering\n"
      ],
      "metadata": {
        "id": "K9ROlujakNRC"
      }
    },
    {
      "cell_type": "code",
      "source": [
        "#Persebaran data pada variable Umur dan Pendapatanbulanan\n",
        "\n",
        "from sklearn.cluster import KMeans\n",
        "from sklearn.preprocessing import StandardScaler\n",
        "from sklearn.preprocessing import MinMaxScaler\n",
        "from sklearn.cluster import DBSCAN\n",
        "plt.scatter(df['Umur'], df['Pendapatanbulanan'])\n",
        "plt.xlabel('Umur')\n",
        "plt.ylabel('Pendapatanperbulan')"
      ],
      "metadata": {
        "colab": {
          "base_uri": "https://localhost:8080/",
          "height": 313
        },
        "id": "_6oWwn-2A3ua",
        "outputId": "3681ae5a-7bad-4de9-88cf-e6decdf2eddc"
      },
      "execution_count": null,
      "outputs": [
        {
          "output_type": "execute_result",
          "data": {
            "text/plain": [
              "Text(0, 0.5, 'Pendapatanperbulan')"
            ]
          },
          "metadata": {},
          "execution_count": 71
        },
        {
          "output_type": "display_data",
          "data": {
            "text/plain": [
              "<Figure size 432x288 with 1 Axes>"
            ],
            "image/png": "[encoded data removed]"
          },
          "metadata": {}
        }
      ]
    },
    {
      "cell_type": "code",
      "source": [
        "#Standarisasi menggunakan Zscore\n",
        "\n",
        "df_numerik1 = df[['Umur', 'Pendapatanbulanan']]\n",
        "dfzcore = (df_numerik1 - df_numerik1.mean()) / df_numerik1.std()\n",
        "dfzcore"
      ],
      "metadata": {
        "colab": {
          "base_uri": "https://localhost:8080/",
          "height": 424
        },
        "id": "hKtEs8LAqMuB",
        "outputId": "4a914024-b4d6-4eab-b552-05a5753f7155"
      },
      "execution_count": null,
      "outputs": [
        {
          "output_type": "execute_result",
          "data": {
            "text/plain": [
              "         Umur Pendapatanbulanan\n",
              "0    0.971030         -0.558339\n",
              "1   -0.446532          1.524211\n",
              "2    1.137802         -0.244161\n",
              "3   -1.530551         -0.603221\n",
              "4    0.053784          0.204664\n",
              "..        ...               ...\n",
              "195 -0.529918         -1.545754\n",
              "196  1.638118         -0.244161\n",
              "197 -0.196374          1.524211\n",
              "198 -1.197006         -1.595125\n",
              "199  1.054416         -1.595125\n",
              "\n",
              "[200 rows x 2 columns]"
            ],
            "text/html": [
              "\n",
              "  <div id=\"df-6a1d4b69-df2f-4148-b645-d53c7dff1eea\">\n",
              "    <div class=\"colab-df-container\">\n",
              "      <div>\n",
              "<style scoped>\n",
              "    .dataframe tbody tr th:only-of-type {\n",
              "        vertical-align: middle;\n",
              "    }\n",
              "\n",
              "    .dataframe tbody tr th {\n",
              "        vertical-align: top;\n",
              "    }\n",
              "\n",
              "    .dataframe thead th {\n",
              "        text-align: right;\n",
              "    }\n",
              "</style>\n",
              "<table border=\"1\" class=\"dataframe\">\n",
              "  <thead>\n",
              "    <tr style=\"text-align: right;\">\n",
              "      <th></th>\n",
              "      <th>Umur</th>\n",
              "      <th>Pendapatanbulanan</th>\n",
              "    </tr>\n",
              "  </thead>\n",
              "  <tbody>\n",
              "    <tr>\n",
              "      <th>0</th>\n",
              "      <td>0.971030</td>\n",
              "      <td>-0.558339</td>\n",
              "    </tr>\n",
              "    <tr>\n",
              "      <th>1</th>\n",
              "      <td>-0.446532</td>\n",
              "      <td>1.524211</td>\n",
              "    </tr>\n",
              "    <tr>\n",
              "      <th>2</th>\n",
              "      <td>1.137802</td>\n",
              "      <td>-0.244161</td>\n",
              "    </tr>\n",
              "    <tr>\n",
              "      <th>3</th>\n",
              "      <td>-1.530551</td>\n",
              "      <td>-0.603221</td>\n",
              "    </tr>\n",
              "    <tr>\n",
              "      <th>4</th>\n",
              "      <td>0.053784</td>\n",
              "      <td>0.204664</td>\n",
              "    </tr>\n",
              "    <tr>\n",
              "      <th>...</th>\n",
              "      <td>...</td>\n",
              "      <td>...</td>\n",
              "    </tr>\n",
              "    <tr>\n",
              "      <th>195</th>\n",
              "      <td>-0.529918</td>\n",
              "      <td>-1.545754</td>\n",
              "    </tr>\n",
              "    <tr>\n",
              "      <th>196</th>\n",
              "      <td>1.638118</td>\n",
              "      <td>-0.244161</td>\n",
              "    </tr>\n",
              "    <tr>\n",
              "      <th>197</th>\n",
              "      <td>-0.196374</td>\n",
              "      <td>1.524211</td>\n",
              "    </tr>\n",
              "    <tr>\n",
              "      <th>198</th>\n",
              "      <td>-1.197006</td>\n",
              "      <td>-1.595125</td>\n",
              "    </tr>\n",
              "    <tr>\n",
              "      <th>199</th>\n",
              "      <td>1.054416</td>\n",
              "      <td>-1.595125</td>\n",
              "    </tr>\n",
              "  </tbody>\n",
              "</table>\n",
              "<p>200 rows × 2 columns</p>\n",
              "</div>\n",
              "      <button class=\"colab-df-convert\" onclick=\"convertToInteractive('df-6a1d4b69-df2f-4148-b645-d53c7dff1eea')\"\n",
              "              title=\"Convert this dataframe to an interactive table.\"\n",
              "              style=\"display:none;\">\n",
              "        \n",
              "  <svg xmlns=\"http://www.w3.org/2000/svg\" height=\"24px\"viewBox=\"0 0 24 24\"\n",
              "       width=\"24px\">\n",
              "    <path d=\"M0 0h24v24H0V0z\" fill=\"none\"/>\n",
              "    <path d=\"M18.56 5.44l.94 2.06.94-2.06 2.06-.94-2.06-.94-.94-2.06-.94 2.06-2.06.94zm-11 1L8.5 8.5l.94-2.06 2.06-.94-2.06-.94L8.5 2.5l-.94 2.06-2.06.94zm10 10l.94 2.06.94-2.06 2.06-.94-2.06-.94-.94-2.06-.94 2.06-2.06.94z\"/><path d=\"M17.41 7.96l-1.37-1.37c-.4-.4-.92-.59-1.43-.59-.52 0-1.04.2-1.43.59L10.3 9.45l-7.72 7.72c-.78.78-.78 2.05 0 2.83L4 21.41c.39.39.9.59 1.41.59.51 0 1.02-.2 1.41-.59l7.78-7.78 2.81-2.81c.8-.78.8-2.07 0-2.86zM5.41 20L4 18.59l7.72-7.72 1.47 1.35L5.41 20z\"/>\n",
              "  </svg>\n",
              "      </button>\n",
              "      \n",
              "  <style>\n",
              "    .colab-df-container {\n",
              "      display:flex;\n",
              "      flex-wrap:wrap;\n",
              "      gap: 12px;\n",
              "    }\n",
              "\n",
              "    .colab-df-convert {\n",
              "      background-color: #E8F0FE;\n",
              "      border: none;\n",
              "      border-radius: 50%;\n",
              "      cursor: pointer;\n",
              "      display: none;\n",
              "      fill: #1967D2;\n",
              "      height: 32px;\n",
              "      padding: 0 0 0 0;\n",
              "      width: 32px;\n",
              "    }\n",
              "\n",
              "    .colab-df-convert:hover {\n",
              "      background-color: #E2EBFA;\n",
              "      box-shadow: 0px 1px 2px rgba(60, 64, 67, 0.3), 0px 1px 3px 1px rgba(60, 64, 67, 0.15);\n",
              "      fill: #174EA6;\n",
              "    }\n",
              "\n",
              "    [theme=dark] .colab-df-convert {\n",
              "      background-color: #3B4455;\n",
              "      fill: #D2E3FC;\n",
              "    }\n",
              "\n",
              "    [theme=dark] .colab-df-convert:hover {\n",
              "      background-color: #434B5C;\n",
              "      box-shadow: 0px 1px 3px 1px rgba(0, 0, 0, 0.15);\n",
              "      filter: drop-shadow(0px 1px 2px rgba(0, 0, 0, 0.3));\n",
              "      fill: #FFFFFF;\n",
              "    }\n",
              "  </style>\n",
              "\n",
              "      <script>\n",
              "        const buttonEl =\n",
              "          document.querySelector('#df-6a1d4b69-df2f-4148-b645-d53c7dff1eea button.colab-df-convert');\n",
              "        buttonEl.style.display =\n",
              "          google.colab.kernel.accessAllowed ? 'block' : 'none';\n",
              "\n",
              "        async function convertToInteractive(key) {\n",
              "          const element = document.querySelector('#df-6a1d4b69-df2f-4148-b645-d53c7dff1eea');\n",
              "          const dataTable =\n",
              "            await google.colab.kernel.invokeFunction('convertToInteractive',\n",
              "                                                     [key], {});\n",
              "          if (!dataTable) return;\n",
              "\n",
              "          const docLinkHtml = 'Like what you see? Visit the ' +\n",
              "            '<a target=\"_blank\" href=https://colab.research.google.com/notebooks/data_table.ipynb>data table notebook</a>'\n",
              "            + ' to learn more about interactive tables.';\n",
              "          element.innerHTML = '';\n",
              "          dataTable['output_type'] = 'display_data';\n",
              "          await google.colab.output.renderOutput(dataTable, element);\n",
              "          const docLink = document.createElement('div');\n",
              "          docLink.innerHTML = docLinkHtml;\n",
              "          element.appendChild(docLink);\n",
              "        }\n",
              "      </script>\n",
              "    </div>\n",
              "  </div>\n",
              "  "
            ]
          },
          "metadata": {},
          "execution_count": 72
        }
      ]
    },
    {
      "cell_type": "code",
      "source": [
        "km = KMeans(n_clusters=8)\n",
        "km\n",
        " \n",
        "y_predicted = km.fit_predict(dfzcore[['Umur','Pendapatanbulanan']])\n",
        "y_predicted\n",
        " \n",
        "dfzcore['FavFlavor'] = y_predicted\n",
        "dfzcore"
      ],
      "metadata": {
        "colab": {
          "base_uri": "https://localhost:8080/",
          "height": 424
        },
        "id": "CZ14LVYEDDdd",
        "outputId": "b0d5c2c1-66fe-41ee-d384-95ef0c84275f"
      },
      "execution_count": null,
      "outputs": [
        {
          "output_type": "execute_result",
          "data": {
            "text/plain": [
              "         Umur Pendapatanbulanan  FavFlavor\n",
              "0    0.971030         -0.558339          3\n",
              "1   -0.446532          1.524211          7\n",
              "2    1.137802         -0.244161          0\n",
              "3   -1.530551         -0.603221          4\n",
              "4    0.053784          0.204664          2\n",
              "..        ...               ...        ...\n",
              "195 -0.529918         -1.545754          6\n",
              "196  1.638118         -0.244161          3\n",
              "197 -0.196374          1.524211          7\n",
              "198 -1.197006         -1.595125          1\n",
              "199  1.054416         -1.595125          3\n",
              "\n",
              "[200 rows x 3 columns]"
            ],
            "text/html": [
              "\n",
              "  <div id=\"df-e49a1ca7-a65e-4c54-87ab-ed5c025a3a04\">\n",
              "    <div class=\"colab-df-container\">\n",
              "      <div>\n",
              "<style scoped>\n",
              "    .dataframe tbody tr th:only-of-type {\n",
              "        vertical-align: middle;\n",
              "    }\n",
              "\n",
              "    .dataframe tbody tr th {\n",
              "        vertical-align: top;\n",
              "    }\n",
              "\n",
              "    .dataframe thead th {\n",
              "        text-align: right;\n",
              "    }\n",
              "</style>\n",
              "<table border=\"1\" class=\"dataframe\">\n",
              "  <thead>\n",
              "    <tr style=\"text-align: right;\">\n",
              "      <th></th>\n",
              "      <th>Umur</th>\n",
              "      <th>Pendapatanbulanan</th>\n",
              "      <th>FavFlavor</th>\n",
              "    </tr>\n",
              "  </thead>\n",
              "  <tbody>\n",
              "    <tr>\n",
              "      <th>0</th>\n",
              "      <td>0.971030</td>\n",
              "      <td>-0.558339</td>\n",
              "      <td>3</td>\n",
              "    </tr>\n",
              "    <tr>\n",
              "      <th>1</th>\n",
              "      <td>-0.446532</td>\n",
              "      <td>1.524211</td>\n",
              "      <td>7</td>\n",
              "    </tr>\n",
              "    <tr>\n",
              "      <th>2</th>\n",
              "      <td>1.137802</td>\n",
              "      <td>-0.244161</td>\n",
              "      <td>0</td>\n",
              "    </tr>\n",
              "    <tr>\n",
              "      <th>3</th>\n",
              "      <td>-1.530551</td>\n",
              "      <td>-0.603221</td>\n",
              "      <td>4</td>\n",
              "    </tr>\n",
              "    <tr>\n",
              "      <th>4</th>\n",
              "      <td>0.053784</td>\n",
              "      <td>0.204664</td>\n",
              "      <td>2</td>\n",
              "    </tr>\n",
              "    <tr>\n",
              "      <th>...</th>\n",
              "      <td>...</td>\n",
              "      <td>...</td>\n",
              "      <td>...</td>\n",
              "    </tr>\n",
              "    <tr>\n",
              "      <th>195</th>\n",
              "      <td>-0.529918</td>\n",
              "      <td>-1.545754</td>\n",
              "      <td>6</td>\n",
              "    </tr>\n",
              "    <tr>\n",
              "      <th>196</th>\n",
              "      <td>1.638118</td>\n",
              "      <td>-0.244161</td>\n",
              "      <td>3</td>\n",
              "    </tr>\n",
              "    <tr>\n",
              "      <th>197</th>\n",
              "      <td>-0.196374</td>\n",
              "      <td>1.524211</td>\n",
              "      <td>7</td>\n",
              "    </tr>\n",
              "    <tr>\n",
              "      <th>198</th>\n",
              "      <td>-1.197006</td>\n",
              "      <td>-1.595125</td>\n",
              "      <td>1</td>\n",
              "    </tr>\n",
              "    <tr>\n",
              "      <th>199</th>\n",
              "      <td>1.054416</td>\n",
              "      <td>-1.595125</td>\n",
              "      <td>3</td>\n",
              "    </tr>\n",
              "  </tbody>\n",
              "</table>\n",
              "<p>200 rows × 3 columns</p>\n",
              "</div>\n",
              "      <button class=\"colab-df-convert\" onclick=\"convertToInteractive('df-e49a1ca7-a65e-4c54-87ab-ed5c025a3a04')\"\n",
              "              title=\"Convert this dataframe to an interactive table.\"\n",
              "              style=\"display:none;\">\n",
              "        \n",
              "  <svg xmlns=\"http://www.w3.org/2000/svg\" height=\"24px\"viewBox=\"0 0 24 24\"\n",
              "       width=\"24px\">\n",
              "    <path d=\"M0 0h24v24H0V0z\" fill=\"none\"/>\n",
              "    <path d=\"M18.56 5.44l.94 2.06.94-2.06 2.06-.94-2.06-.94-.94-2.06-.94 2.06-2.06.94zm-11 1L8.5 8.5l.94-2.06 2.06-.94-2.06-.94L8.5 2.5l-.94 2.06-2.06.94zm10 10l.94 2.06.94-2.06 2.06-.94-2.06-.94-.94-2.06-.94 2.06-2.06.94z\"/><path d=\"M17.41 7.96l-1.37-1.37c-.4-.4-.92-.59-1.43-.59-.52 0-1.04.2-1.43.59L10.3 9.45l-7.72 7.72c-.78.78-.78 2.05 0 2.83L4 21.41c.39.39.9.59 1.41.59.51 0 1.02-.2 1.41-.59l7.78-7.78 2.81-2.81c.8-.78.8-2.07 0-2.86zM5.41 20L4 18.59l7.72-7.72 1.47 1.35L5.41 20z\"/>\n",
              "  </svg>\n",
              "      </button>\n",
              "      \n",
              "  <style>\n",
              "    .colab-df-container {\n",
              "      display:flex;\n",
              "      flex-wrap:wrap;\n",
              "      gap: 12px;\n",
              "    }\n",
              "\n",
              "    .colab-df-convert {\n",
              "      background-color: #E8F0FE;\n",
              "      border: none;\n",
              "      border-radius: 50%;\n",
              "      cursor: pointer;\n",
              "      display: none;\n",
              "      fill: #1967D2;\n",
              "      height: 32px;\n",
              "      padding: 0 0 0 0;\n",
              "      width: 32px;\n",
              "    }\n",
              "\n",
              "    .colab-df-convert:hover {\n",
              "      background-color: #E2EBFA;\n",
              "      box-shadow: 0px 1px 2px rgba(60, 64, 67, 0.3), 0px 1px 3px 1px rgba(60, 64, 67, 0.15);\n",
              "      fill: #174EA6;\n",
              "    }\n",
              "\n",
              "    [theme=dark] .colab-df-convert {\n",
              "      background-color: #3B4455;\n",
              "      fill: #D2E3FC;\n",
              "    }\n",
              "\n",
              "    [theme=dark] .colab-df-convert:hover {\n",
              "      background-color: #434B5C;\n",
              "      box-shadow: 0px 1px 3px 1px rgba(0, 0, 0, 0.15);\n",
              "      filter: drop-shadow(0px 1px 2px rgba(0, 0, 0, 0.3));\n",
              "      fill: #FFFFFF;\n",
              "    }\n",
              "  </style>\n",
              "\n",
              "      <script>\n",
              "        const buttonEl =\n",
              "          document.querySelector('#df-e49a1ca7-a65e-4c54-87ab-ed5c025a3a04 button.colab-df-convert');\n",
              "        buttonEl.style.display =\n",
              "          google.colab.kernel.accessAllowed ? 'block' : 'none';\n",
              "\n",
              "        async function convertToInteractive(key) {\n",
              "          const element = document.querySelector('#df-e49a1ca7-a65e-4c54-87ab-ed5c025a3a04');\n",
              "          const dataTable =\n",
              "            await google.colab.kernel.invokeFunction('convertToInteractive',\n",
              "                                                     [key], {});\n",
              "          if (!dataTable) return;\n",
              "\n",
              "          const docLinkHtml = 'Like what you see? Visit the ' +\n",
              "            '<a target=\"_blank\" href=https://colab.research.google.com/notebooks/data_table.ipynb>data table notebook</a>'\n",
              "            + ' to learn more about interactive tables.';\n",
              "          element.innerHTML = '';\n",
              "          dataTable['output_type'] = 'display_data';\n",
              "          await google.colab.output.renderOutput(dataTable, element);\n",
              "          const docLink = document.createElement('div');\n",
              "          docLink.innerHTML = docLinkHtml;\n",
              "          element.appendChild(docLink);\n",
              "        }\n",
              "      </script>\n",
              "    </div>\n",
              "  </div>\n",
              "  "
            ]
          },
          "metadata": {},
          "execution_count": 73
        }
      ]
    },
    {
      "cell_type": "code",
      "source": [
        "#Visualisasi Clustering\n",
        "\n",
        "df1 = dfzcore[dfzcore.FavFlavor==0]\n",
        "df2 = dfzcore[dfzcore.FavFlavor==1]\n",
        "df3 = dfzcore[dfzcore.FavFlavor==2]\n",
        "df4 = dfzcore[dfzcore.FavFlavor==3]\n",
        "df5 = dfzcore[dfzcore.FavFlavor==4]\n",
        "df6 = dfzcore[dfzcore.FavFlavor==5]\n",
        "df7 = dfzcore[dfzcore.FavFlavor==6]\n",
        "df8 = dfzcore[dfzcore.FavFlavor==7]\n",
        "\n",
        " \n",
        "plt.scatter(df1.Pendapatanbulanan,df1['Umur'],color='green')\n",
        "plt.scatter(df2.Pendapatanbulanan,df2['Umur'],color='red')\n",
        "plt.scatter(df3.Pendapatanbulanan,df3['Umur'],color='black')\n",
        "plt.scatter(df4.Pendapatanbulanan,df4['Umur'],color='gray')\n",
        "plt.scatter(df5.Pendapatanbulanan,df5['Umur'],color='blue')\n",
        "plt.scatter(df6.Pendapatanbulanan,df6['Umur'],color='yellow')\n",
        "plt.scatter(df7.Pendapatanbulanan,df7['Umur'],color='pink')\n",
        "plt.scatter(df8.Pendapatanbulanan,df8['Umur'],color='brown')\n",
        "\n",
        " \n",
        "plt.xlabel('Umur')\n",
        "plt.ylabel('Pendapatanbulanan')\n",
        "plt.grid()\n",
        "display(dfzcore.FavFlavor.value_counts())"
      ],
      "metadata": {
        "id": "Fv9PAf8gEmLr",
        "colab": {
          "base_uri": "https://localhost:8080/",
          "height": 441
        },
        "outputId": "02552552-5c0f-46b4-b44d-f8e87862e615"
      },
      "execution_count": null,
      "outputs": [
        {
          "output_type": "display_data",
          "data": {
            "text/plain": [
              "0    32\n",
              "2    31\n",
              "3    30\n",
              "7    27\n",
              "4    24\n",
              "6    23\n",
              "1    17\n",
              "5    16\n",
              "Name: FavFlavor, dtype: int64"
            ]
          },
          "metadata": {}
        },
        {
          "output_type": "display_data",
          "data": {
            "text/plain": [
              "<Figure size 432x288 with 1 Axes>"
            ],
            "image/png": "[encoded data removed]"
          },
          "metadata": {}
        }
      ]
    },
    {
      "cell_type": "markdown",
      "source": [
        "\n",
        "![interpretasi1.jpeg](data:image/jpeg;base64,/9j/4AAQSkZJRgABAQAAAQABAAD/2wBDAAMCAgICAgMCAgIDAwMDBAYEBAQEBAgGBgUGCQgKCgkICQkKDA8MCgsOCwkJDRENDg8QEBEQCgwSExIQEw8QEBD/2wBDAQMDAwQDBAgEBAgQCwkLEBAQEBAQEBAQEBAQEBAQEBAQEBAQEBAQEBAQEBAQEBAQEBAQEBAQEBAQEBAQEBAQEBD/wAARCADcAX4DASIAAhEBAxEB/8QAHQABAQADAQEBAQEAAAAAAAAAAAcFBggEAwIJAf/EAEYQAAAFAwMDAgIGCAUBBwUBAAECAwQGAAUHEljVEReVCBMUIRgiVpOU0wkVMTY4dXezFiMyM7V2JEJDUWGGtCU0QVK2cv/EABwBAQADAQEBAQEAAAAAAAAAAAABAgMEBQYIB//EAEURAAEDAQQFBwcKBAcBAAAAAAEAAhEDBBIhMQZBUWGRBRMicYGh0QcUFTKSscEXGEJSVFViotPwI0NygggWM4Oy4fHC/9oADAMBAAIRAxEAPwDv25Ddgkjlo3kD1umRi2U+omgImEyi4D11Jj/+ofs/9a/z2759rLl9y1/Jr63D97Xn8uZ/3XNfl60Sfs12K51ipuUjJHMisdFQCmAQESqEEDkN0H5GKIGAfmAgNfjDysaf6S8iaY2uwWC2vp0Wc3DWxAmkwmOsknNfRWCy0Ktna57ZOPvK/Ht3z7WXL7lr+TT2759rLl9y1/JqK+ixxc7j6f7Peb1f73ebg/uF0Mu7u92c3BY3tvVkSFA7g5zFKCaRAApRAvUBHp1MYRy+UczzbGCBpTcMUkUhzO7tLW+fq30hLgBHDlNArtBomkomojqVL8lF0lOgD1TD5dflq+munTeVavJNm5Se97HlmLmNvEG70Q4iSTkASTsWws9m5vnHM952+Cqft3z7WXL7lr+TT2759rLl9y1/Jrm9Mkgivq2yc4xfjy0XW63SGR9+7I5uRbW3WWBy/IJ1ViIrHFY5CEKUfaEB9voY5OgCO4tvUmzkESgVwhsSUfSfIizprbLG/fFaFbKtAP8AHC5cFIpoTQFMxRMmmoYxjEApR1dQ3tOlunrCx1l5RqPa5rDN5gul9PnCHCTdAAd0nQCGl2GIDzeyh7muYBHgDxxyz2Sq/wC3fPtZcvuWv5NPbvn2suX3LX8muUPUPN7flTBrhzfok2tslg+SbDZ3zU6hHhWL4tyZ9VGzgSFMYijdwUSn0JmEiolMUvzCtmZ281p9X2VXcUstvC6PccWd2YgrfBFdu/iXpCnVXTSUMU2lNMvue2cwAQvyHSAV1N0o02FjdaK3KlRr2h/R6JEsdRA6d6IcKwcHZYawZEGhZr9wMH0e97mHtBb/AOLon2759rLl9y1/Jp7d8+1ly+5a/k1znAM5SKOYhwa8t0RuMlbT8yNnO5vMq9+6t3B0FVUzqqmbFI6AQQU1qCKRg+rpIfr0DaE/UqNliWTLzPoWW23jGDxJncLbarn8em8FdBFVqZBdRJAeinvlKOtMukQN16gHWuWvpR5RqVV1Nlte6HFoh9OT/E5qbskjp9HKJIxggk2hZC1pc0CQDxBOfYeCsnt3z7WXL7lr+TT2759rLl9y1/JqTRLL2VbjmUuJJpiuNWMQsISE79lLln4mbiqZHSmkNvSAyhVQIBwMcgAB+pRP0EK0T1OXaNWPPWHiTjJt5iMVvjW/oXkyc1fWFksLdBI7X3DIuUSFOCipuhuoGN1KURMAFAFj0v07rW5thr8o1AXU3VBcLKktaxz8LhgkhpAEzMTCk0LLBIZiCBkRnG3cZXSnt3z7WXL7lr+TT2759rLl9y1/JqDenO+T1pF8gPkwlE2jDSRqlgitxeEUf3G2iml1Ejp0cnvNwVFUU1lTiJiAIgZQNPXZLXnO/wBulsvhWR8ektdyi8aLLUP1Dcz3clxt4mWIYqetu3OC4HQEvt6RARMHQ1Z2rTHT2jaK1Ghyk+pzcTDmh0G79A9KQXAOABuukE4EqWWazPyZrjdndGOwnLbIVV9u+fay5fctfyae3fPtZcvuWv5NR7FGepnks1uuxMY25aM3ywOb1bbrHpMW6dFkjIgFvdAZugk2dmBf5E94xdSaga+hBMGUtmYJi2yrYcaz3GzWxElttfXCyvGl8+OUAzX2hVQdpewmRFQCrAP+UquTqAgBhDoNZVtMvKHQqvovtzr7AXEc5TJhsl2AJJLQ0yBJEGQqto2N7Q9rcDrg648R+wVTfbvn2suX3LX8mtOxRJ5XM4u+u9ykjlBZvJZFaSlbt24EFJleHjRIw6kzDrMm3IYw9egmEwgBQ6FDeqmnp6/cK6/9czT/APpblXLS8p+l55Oq1TyhUvB9MAyMi2qSMtcDgtDYrPfAuDI/BUL2759rLl9y1/Jp7d8+1ly+5a/k16aV53yqaZfeNTiPBX8xs/1AvN7d8+1ly+5a/k09u+fay5fctfya9NKfKppl941OI8E8xs/1AvN7d8+1ly+5a/k09u+fay5fctfya9NKfKppl941OI8E8xs/1AvN7d8+1ly+5a/k09u+fay5fctfya9NKfKppl941OI8E8xs/wBQLze3fPtZcvuWv5NPbvn2suX3LX8mvTSnyqaZfeNTiPBPMbP9QLze3fPtZcvuWv5NPbvn2suX3LX8mvTUByGg+iXqwxjJHEmkxY/L2d0satuC/PCWtO7JIAs1VM1BX2ROdEjogFEmkTFA/TWBTV6XJflF0y5Sqvpek6jSGPeMjNxpeRqiQDjjjqKpUslnpsLrgw8fhmdwKuvt3z7WXL7lr+TT2759rLl9y1/Jrl3GGVr+xzJkO65Gkz4IdL446lkfSVen9m32+2Olmawt/r/5fut/hXQiQA+avXr1DrW94atWS4BhuNt2Nnv0wk8iTPd3ysplqx0badYoKEbLOV/fXIQhBIiUEUFAEyYmOBRMY4+tyhpbpvycCKnKr73Qu4tDSXNJeLzoA5stLHbXRGYWfm9mvFvN5E8AAQRtkOB7VZ/bvn2suX3LX8mnt3z7WXL7lr+TUIe+qS9M8VEyL2uKd9bpoWF3+zBeuh2rn48rIx2qvsdHP1zpmApwQ6lMPUSiHQcnIM35WiL+KspNhFg2GVSlWNNyIywiyoFFuZdu6KANgIJDAksByGOQ5BIGkFQMFYf5q8o4Jabc4GXtxq0gZYJdEuxgQZGBBEEyFJoWRsy3IScDgMRj2tPBWT2759rLl9y1/Jp7d8+1ly+5a/k1NoNmKRyck5s1zx17csglySt7qz2i8JO03YLN0l0VUXDgjYAKJFfrAcpBDQbpqHoA/WD5Xk93yfe8SzyDsbDebbZ21+aL2y8nuTV4yWWVR6idRu3MmoU6QgJNBg+fUDDXJU048oFIVL1vf/DAc4X6ZN0hpDgAZcCHNMtkQZ1GLebWUfQ1xkc5j34Kie3fPtZcvuWv5NPbvn2suX3LX8mvTSvJ+VTTL7xqcR4LTzGz/UC83t3z7WXL7lr+TT2759rLl9y1/Jr00p8qmmX3jU4jwTzGz/UC83t3z7WXL7lr+TT2759rLl9y1/Jr00p8qmmX3jU4jwTzGz/UC83t3z7WXL7lr+TT2759rLl9y1/Jr00p8qmmX3jU4jwTzGz/AFAvN7d8+1ly+5a/k09u+fay5fctfya9NKfKppl941OI8E8xs/1AvN7d8+1ly+5a/k1zX6+M/ZK9N+HrPOIXdGtzevpK3tKiV4aJqIlSO1dKiYoIgkbXqRKACJhDoJvl16CHTtcO/pev4a41/wBcs/8A4D+vtPJ35RNKeVdKbFY7ZbnvpveA5pIgiDgcFzWuyUKdBzmtEwu3rh+9rz+XM/7rmvy9O8TZrntyCK7sqRhQSWVFJM6nQdJTHAphIUR6AJgKYQD59B/ZXgvuNrxOpW5Lb8sy6Jixt7UTjZULUcXWtRx0BT41k46aNA6dGj/WbVq+rp+P0dpVukyr+CjHD1/QvKH5FeX9LdJrTyzYqtEUqlyA9zw7o02NMhtMjNpyOWwrlsfKVKz0W03AyPHrXPEDxX6qIRhu24dtTPHluMhcTLOb+1ltwM4K1VuBnK5EkAtxOigpnOkBveD5jq+X7A8GSPS5k6d2eVsH9ux5fL2tJC3yPSu9OF1Lmm1B8kuW3/Nqf4AiaRTJAdA6hTFD5pFFQ5g6W+jtKt0mVfwUY4en0dpVukyr+CjHD1izyTac0bUbZRqWRry81CQa0l5IcSSWEwY9WbmPqzBDz+zFt0hxHZvG3XJ7til10guarPmS75ZhdshNwLIIxbLI5t10vLtqLVw2VcqisRZNor7pAFzp0CQgnAOupPp0NqV29IqSEJxuwRtUPm11gbm5unltlDPRarwa5GMo8Hp7S4tzAsJVEje2qIATSIDqEwX76O0q3SZV/BRjh6fR2lW6TKv4KMcPXJR8jenVnLDRtFmaWgAw6qC4NY6m0E83ODHubLbpxmZAIn0hZi4ucHGerYBOewD9kzCZ/wCn6YXXDJYNjnHWKYlcXsmtl9d2+1Kq2+3optHCK/T3kWYmdKnFuUnuCgiAFOHyH2/r7EhjzLzXPMvyslZ4ea3XmHNLCwQNf3QLfFtzLKlMqHwWkiZlHBiCYpjGKUgH0mE2gtU+jtKt0mVfwUY4en0dpVukyr+CjHD1B8jGmrqLqD61lcHX5l9YnpmmTjcn+WwCcYGMkkqRyjZgQ4B2EbNTi4a9pK57j+Cc4WTHeDIedlBlnOMb0S4XdQL88BNykkgsgT4cfgeomMVwc4gcCgUUylAxtQmLiMuRCXwOyZ4lEyZRA1oylc7NbrKkd6q5ATn9m3kI8Ko2Im3KcBA4qgdQEhMIhrEgCbpv6O0q3SZV/BRjh681z9MV4vdvcWm8+pPJb9i7TFJw2dWyLKpLEH9pTkNZxAwD/wCQh0rus/ki0yFrFe0VLKQXS6HVQSDWFcgTTIHTGGGWCr6Qs4aA29IAAOGEB0a/xGde8ZqNYrAmLcvW+AX3GFtt17mlncukLuznlxlLorVgKYAi4UuLdJZBv1cf5YEMZPWJvqlEeo7VkjHOQZNnnGGQrEyjikehaV1TuPxt0XReK/HpERP7SJWxyGBMqZTBqVLrEwlHQAahz8N9FFgx0DkMfZimEYB5p+J/U0ciLL3tP7NftWUurp1Hp1rZfo7SrdJlX8FGOHrjtvkP0oNu88stagXGm5ji+pXJdfa5hOLXkdB10C+4CJETAU+UaDWFhBGIIgDCI+I2KCL4BzRFrHOsa4uk1it8IvD9K9xlNS5Omrq1qGcJrPLUIIoDoZLiCxSqJqAokVUwAQ/X5f7HsAZKimSZFkCBx7GcENJISaykRsQGELddyrKqJOTF+DTI+KImT1KHBIwAGnQbSAmvX0dpVukyr+CjHD0+jtKt0mVfwUY4etPkh06LHsdWshv+sSavTMNBLhzcOJLGkkjEyfpPvWPKNmM4OzB1aje27e4xkBEGtHp+yg4lErnKQxDGV6v8NdR84w185cIvbqqYDJ3Zch27cpVUhAwE+qop0UN1VHoAV84j6eZ3ZMqY6yiEGxlY3dgZXC2yT9UvnCjy4gukiQrwzw7MqjtTqQ4+2sBRKJhH3jicRC+/R2lW6TKv4KMcPT6O0q3SZV/BRjh6O8kOnRDm8/ZYc0si9W9UsLC2ebkiDheLrpi7AwUHlCzHMO26vw7/AMI69cyZzdTT09fuFdf+uZp//S3Ktw+jtKt0mVfwUY4epvgDA8lukFujlH1H5Kt5STaZNhRbM46JDGSkdxTMqPu2o5tagkFQ4AIFA5zaCkJpIXwqf+HnSdtiqWY17Pec9jh0qkQ0PB/lZ9IR2rU8rUbwdB17N29WOlYT6O0q3SZV/BRjh6fR2lW6TKv4KMcPXF83DSr7RZ/bqfpK3pehsPd4rN0rCfR2lW6TKv4KMcPT6O0q3SZV/BRjh6fNw0q+0Wf26n6Sel6Gw93is3SsJ9HaVbpMq/goxw9Po7SrdJlX8FGOHp83DSr7RZ/bqfpJ6XobD3eKzdKwn0dpVukyr+CjHD0+jtKt0mVfwUY4enzcNKvtFn9up+knpehsPd4rN0rCfR2lW6TKv4KMcPT6O0q3SZV/BRjh6fNw0q+0Wf26n6Sel6Gw93is3Un9TGJpTl3HSFqx/fGNll1mvDG9WO5PdftNl0VQA4iJCmN80TrF6dB66gAegD1Dffo7SrdJlX8FGOHp9HaVbpMq/goxw9dnJ3+H/TDku107ZZ7RZr7CCJdUIw1EGlBByIOBGCg8r0CCIOII1a8NqkGWfTOeat8YWaK3dC22qGf/AEa7EXEwqPY+oimRw0L0KYBOoLZAo6un1ROIGAfkOw5mxvMptI4rcbMyjkhjttI9b3mKyJ4q2t773ipgk5MCaC5Vjo6D6UlUxIPuiICQxQNW/fR2lW6TKv4KMcPT6O0q3SZV/BRjh69JnkU05aaJdabM7mg8Nl1T+ZJcZFIGSSSCCCDBBCybyjZWiGtIwA1astf/AKBBwXNCXppzBYcTXfGMatWOwIrkhGX24Ubk5tzQjBO4JvCoA3TZKAgbqgRIEyicpSnE2odAFNWMywXJM2v2MLpFWEaFGJyQl/u5LhdnCBhArZVD2m4kbKAp/wDcHNqPo/2yh0+uIk3/AOjtKt0mVfwUY4en0dpVukyr+CjHD10V/I3ptaa7bRVrWUuBqH1q2JqNDHE/w9YAiIgp6Qs3SgO6QI1ZEuO38R4qEXbB+bnl2zTcbNeI7ZTz26Wm4WVZreXYKnRZFSSO1dGI2IZuVwkiJTHROoYnumANWnqbKYvwXJ4JnN1k5pB8cxmyXyLpWm4WyNqnTO2epuVFfdAQaJFeawMQBVP7JgDoXQbSAmsf0dpVukyr+CjHD0+jtKt0mVfwUY4elTyOacVLO+zc/ZQ17Qww6r6oYxg/l4wKbCCZggxg5wI8o2Z0yHYmdX1r23b3YbIzdKwn0dpVukyr+CjHD0+jtKt0mVfwUY4evmfm4aVfaLP7dT9Jbel6Gw93is3SsJ9HaVbpMq/goxw9Po7SrdJlX8FGOHp83DSr7RZ/bqfpJ6XobD3eKzdKwn0dpVukyr+CjHD0+jtKt0mVfwUY4enzcNKvtFn9up+knpehsPd4rN0rCfR2lW6TKv4KMcPT6O0q3SZV/BRjh6fNw0q+0Wf26n6Sel6Gw93is3SsJ9HaVbpMq/goxw9Po7SrdJlX8FGOHp83DSr7RZ/bqfpJ6XobD3eKzdcO/pev4a41/wBcs/8A4D+ux/o7SrdJlX8FGOHrif8AS1YpvUF9OUcu1yzNNZcktNmbYGV7b2dNBMwsHxvdKLJg3U1gBBKACcS9Dm6lEdIh9RoV5C9ItHNILLyraq1A06T7xDXVC4iDkDTAnrIWFp5To1qTqbQZPV4r+i0a/e28fy63/wB13W11qka/e28fy63/AN13W11+rV4aUpSiJSlKIlKUoigGTH92yJ6lY9gZeRX6zRhtDnstuf6juzi2O37j4tJq2SF02MRdNNPUqoJSKF1mEgG1FASj7fSRL5XIIdL4pMr09vL+ATe9RNK6PjlO5etG6wGbKKmL/qUBFVMgmH6xhJqN1MI17cmYuyD3kjWeMUHsDy8WuyPY1drLfHyzFtcGCyhFkzkdIoLmSVSWT6gAonA5TmDqT9o53A+KXmKIpc218uje5SGT31/J766bEMRuZ88V1mTRA4iYEkygmkXV8xBMBEAEegKJhsO2On+rnJaeynhOrJKuJ6O1pH9IYQ4dr8Y15qkUpSiJSlKIlKUoiVy26F0j6Lsxv7fdrpbHtuu2Tbi0eWu4rsXKDhvIruskciyByKF6HTKIgBuhg6lMAlEQHqSub7DE5RPvSnk2BwxK1nvMlkmR7O2G6PFGrZMXMluyJlDqJpKnDQU5jAUCDqEoF6lAdQYWkOdReGZwY69S3srmtrsc/KRPVKk8zyPZJBivBUOj0kzdbro4lEZY3C5um0stIv0HJy/GEXua6aSbgFOo6dSpvkP+V0AA6WtCWSsnqPydHEGb9VzboLbLhaGi0uV/VK5DLOylOLf4MRYuDKJnKoqQzjUQqQ6eoCWvDkDE2cZNiPEsVtVrgoSGFXyx3e8FcX94RkcttMX6jdQrExziqBf2nTJ7Yj/4nT55hSC5DsvqFnGZL6nFG0JuEKa2RJcLwv8AHoi0O4XMsqiZsVEpBFwcvyX+qCYG+eoSk2tjwOdcDheqmdUc0A0jdewA61y2ZhuMaRjdpiNcip0gf7cSepfLCE+nN59OWNL7BYZdJPcL7Y0nAuJRKyCDboTr1fXAEBXWOf5gB0mh+oh9YEw+dYwPVhejYtt2QzYvbovEZ8nAZHalr6Yo25yNyBgZZsqDYQdFBQ5DgBiodSCPzAQ6DPsSYhyJLvT96fXbO0xqRR22RMUb7DZU9Wa2998SkkZB4Yqbdcq6iIFNpRWTEg+8JgMQwAasnZfSdk6yYIlmKLYpArc+TyAE2ihmIro205E7km9RartiIALNMPaBPSkZYCgPUBHp0HZ4DbU4P9UOx6hUaCO1l44SdhDhCkY0QWGXEe9jiD7V0YwNxBlXCwZYu10zzKsLXKJNmaFhsVuv7K7I3MVjPUXSqyQkUQFEnsmIdup+xRQBASj1AREApNQ6C45zKz9RV5zHNEIcnaZDEbfY1GVsublZe2uWrhdXSUVGxCukzi4EfdEURL0Avtj01DcazAim2962M+06N3qxlgpJBe67lhHstn80pSlKhSlKUoiUpSiJSlKIlKUoiUpSiJSlKIlKUoiUpSiJSlKIlKUoiVwB+mr/AIWIt/UBj/x1xrv+uAP01f8ACxFv6gMf+OuNEXUz+EyWUyt4Wx5fl0PFrb2gqjZWtpVF3qUcaQU+OZOOmjSbT7ej/cNq1fV0/Ts3kXdjlXxsV4atqjX723j+XW/+67ra6IpV2byLuxyr42K8NTs3kXdjlXxsV4aqrSiKVdm8i7scq+NivDU7N5F3Y5V8bFeGqq0oilXZvIu7HKvjYrw1OzeRd2OVfGxXhqqtKIpV2byLuxyr42K8NTs3kXdjlXxsV4ata9bD6f2H08TWXwXIlwii1gsrl8KlsbpfFLql06C++oBvaT6CbV7ZQUEdOlQnQQNcrf1Bg2ATGMPsk+ZjCYR+qHzER+Yj/wCo1IEiUd0S0bZ7o8VMuzeRd2OVfGxXhqdm8i7scq+NivDVVaVCKVdm8i7scq+NivDU7N5F3Y5V8bFeGqq0oilXZvIu7HKvjYrw1OzeRd2OVfGxXhqqtKIpV2byLuxyr42K8NU09PmJ54/gd1Xa+pvJVuIWcTREUWzCNmIY6ckuRDrCKtpObWoYplDgAgQDnMBCkJpIXqCuaLckur6RMrnaXa62ty3vmS3Td7a36zJ23WSkV3UTUTWRMU5BAxCj8h6D8wEBARAc6tQUqbqh1CeC0pUzVqNpjWQOKoXZvIu7HKvjYrw1eK84Alkitq1nkHqayRc2DjT7zV5Zomsip0MBg1EPZRKPQQAQ6h+0AGo1iXL86s+EJBhi5Sm43DKFmvaESsNzuzgzp6+QuhfiLbc1jD1FQUmiiqqnzH5MVv2V7vTtlZbFvpMickv14k0+k8okrmP2v9b35Z27u9xUuK7ZuQXDk5wRTBJADn0BpKVNQwEMYeht3t5txB3AbyYgRqOIwzkxGcYNfeaHbZncBOPUYMHKASrGGGsiAAAHqwyqAB+wP1bFeGr/AHs3kXdjlXxsV4atNlHqjlcNhGU39+xbayTHEzBtebpZUZKodg9ty6Z1SLtXvwYKGMJUly6Dtif5iYl66RA9brZMk5hu7C4Pz4FO3Kqdl+oRGTNRK6RXTMY6zz6oGaFREClOVMrg46wEhT9DAFDgCdkd+X73HYYsSGwDrnuz9465EZhfjs3kXdjlXxsV4anZvIu7HKvjYrw1RL1AZFPl70weoqF5JxrbLTI8b25wk6aEeBdmQqmYldNHjVdVBE2rocBARSIYhi/If2DVWgeaJUGRIxiiZ43SsbeSxhW9R+4I3oHaypGvw5V0HjcESA2VAHCZg9tVcg/MNfUOlSwXzAzgEbwWl3uBw+OCl/RAPWO0Fo7R0s/hisv2byLuxyr42K8NTs3kXdjlXxsV4aqrSoRSrs3kXdjlXxsV4anZvIu7HKvjYrw1VWlEUq7N5F3Y5V8bFeGp2byLuxyr42K8NVVpRFKuzeRd2OVfGxXhqdm8i7scq+NivDVVaURSrs3kXdjlXxsV4anZvIu7HKvjYrw1VWlEUq7N5F3Y5V8bFeGp2byLuxyr42K8NVVpRFKuzeRd2OVfGxXhqdm8i7scq+NivDVVaURSrs3kXdjlXxsV4anZvIu7HKvjYrw1VWlEUq7N5F3Y5V8bFeGp2byLuxyr42K8NVVpRFKuzeRd2OVfGxXhqdm8i7scq+NivDVVaURSrs3kXdjlXxsV4anZvIu7HKvjYrw1VWlEUq7N5F3Y5V8bFeGriD9LtAJXFfTbG7hfc3zWYt1JwzRKxvbSypIJnFg/EFiixt7dXWAFEoAJxJ0ObqUR0iX+mlcAfpq/4WIt/UBj/wAdcaIu1I1+9t4/l1v/ALrutrqTP4TJZTK3hbHl+XQ8WtvaCqNla2lUXepRxpBT45k46aNJtPt6P9w2rV9XT9OzeRd2OVfGxXhqIqrSpV2byLuxyr42K8NTs3kXdjlXxsV4aiKq0qVdm8i7scq+NivDU7N5F3Y5V8bFeGoiqtKlXZvIu7HKvjYrw1OzeRd2OVfGxXhqIvL6qYDkrK+GZHi3G9ujKriVW9a3OHd8vDhkRkUwB0UIVFquKw9evUoin/8A6qgwlWZKR1sE8s1ltd3IAEVQtF0VftugAAAYqqrdA3z+fyFP5f8AmNaR2byLuxyr42K8NTs3kXdjlXxsV4agwkbUd0o3T3xPuHBVWlSrs3kXdjlXxsV4anZvIu7HKvjYrw1EVVpUq7N5F3Y5V8bFeGp2byLuxyr42K8NRFVaVKuzeRd2OVfGxXhqdm8i7scq+NivDURVWud4hHJRMPTDkeIQtK1nvd9k2RrYz/WjlRu1IdeS3ZLWodNNQ4AUDiboBB1CAB1L11BufZvIu7HKvjYrw1TT0+Ynnj+B3Vdr6m8lW4hZxNERRbMI2YhjpyS5EOsIq2k5tahimUOACBAOcwEKQmkhaVKbarDTdkRCvTeaTw9uYMre4/gK2tJPHs23extO5dihxY2DVveFDWlRQhTaDioLcpxMGtVMq3taiprqBoN8gqU2b0iTm4emCK4in1ugT+QwaUmktvaLrrXOx3YPiF1RbvAVapnIQ6btZIeiSmgQIoAH/wBurN2byLuxyr42K8NTs3kXdjlXxsV4atKjjUcXO2z1G8XSP7jOMjcsmNFNt0bI6xduR7OGEFTaS+m6RP8AA+SINA8MYVx7IZ1aRspGsdMdu1KmYpimXcvkmCZ1xKChjES+FKACAh7g69RdzyjjnLU2x3CLfayRstysdwaO5FGnV6dEs98bEQUTUZKPCNRVMlqORQAM2EhxTAp0xKI1luzeRd2OVfGxXhqdm8i7scq+NivDUcb3EH2cs9SmPc4e1APcBGyNqhrj0m5VtMIz9CIRGMV2Zhltm1Ts7S2vHFtZ2pQWZGzgh0EmJiiBR1qAoX5rG+ZiI6x005TGmZnua8T5EeWqFo2uIxh/Z76RO+u1HAuHhUNYtSCyKVQiZmpOhjnTE4KG6lJpDVsnZvIu7HKvjYrw1OzeRd2OVfGxXhqNN2DsjgGloHBx371Lulnv4kgk8WjduVVpUq7N5F3Y5V8bFeGp2byLuxyr42K8NUIqrSpV2byLuxyr42K8NTs3kXdjlXxsV4aiKq0qVdm8i7scq+NivDU7N5F3Y5V8bFeGoiqtKlXZvIu7HKvjYrw1OzeRd2OVfGxXhqIqrSpV2byLuxyr42K8NTs3kXdjlXxsV4aiKq0qVdm8i7scq+NivDU7N5F3Y5V8bFeGoiqtKlXZvIu7HKvjYrw1OzeRd2OVfGxXhqIqrSpV2byLuxyr42K8NTs3kXdjlXxsV4aiKq0qVdm8i7scq+NivDU7N5F3Y5V8bFeGoiqtKlXZvIu7HKvjYrw1OzeRd2OVfGxXhqIqrSpV2byLuxyr42K8NTs3kXdjlXxsV4aiKq1wB+mr/hYi39QGP/HXGuquzeRd2OVfGxXhq4g/S7QCVxX02xu4X3N81mLdScM0Ssb20sqSCZxYPxBYosbe3V1gBRKACcSdDm6lEdIlIv6Exr97bx/Lrf8A3XdbXWqRr97bx/Lrf/dd1tdESlKURKUpREpSlEUzyhjoZVeCySWZWkVhhNntC5nlptF0XswGcgbX8ctcGqqbgCJpFMHtAcE/+8br06VgfR5cMg3bAdiuORrndrk7cOXx7W9vBNNxdWf4pT4BV0HQBFU7b2jCIh1EBKJvrCNf7n2C5an96jVujMdh0ghLA5n96st7kbq1Dc3iZyi1IoKLF0CjZMQFQyQ9AUOCerqUglPveNCZQ/VD9zlkthRurm5LrNWlkeKO2zNkIFBJH31G6B1TB0MJjCmHzN8vl0AIpYBwGWPv4kmcNQaCJxACpjG2R7jhuGU7XQYwJO3UpSpRKUpREpSlESuW3QukfRdmN/b7tdLY9t12ybcWjy13Fdi5QcN5Fd1kjkWQORQvQ6ZREAN0MHUpgEoiA9SVzfYYnKJ96U8mwOGJWs95kskyPZ2w3R4o1bJi5kt2RModRNJU4aCnMYCgQdQlAvUoDqDC0hzqLwzODHXqW9lc1tdjn5SJ6pUnmeR7JIMV4Kh0ekmbrddHEojLG4XN02llpF+g5OX4wi9zXTSTcAp1HTqVN8h/yugAHSwu5rOWHqCynZrPb13FxtEEtdzszN7Llf1MsmZd0UFDNgZCLNyJ01AOcplwOQiIfV+fT55AxNnGTYjxLFbVa4KEhhV8sd3vBXF/eEZHLbTF+o3UKxMc4qgX9p0ye2I/+J0+efaYvySr6k5hka5to0nD5DD2UZbKIXVwe5JnQUXVFU7czYEuhjOjl6AsIgCZR+esSk6LTLnVObzL6pGrA0gGkbOlgBO1ctmAaxnOam0+IqS4Hb0cT2LD+nbKvqBmfp/iE5luPbJf7xfrPbV2bq3SMqYuzLJCZR0/TO0QIyTAdAiRt8Ub64gUg6fn83vqhmdqx7l6+XXE9rQlmG1Nd2sxZMoZi8ai0I7Ks2e/BAcRMicehDti/XKACIAOoNdtOA/ULa8H4/xcq8grxLHzpk1Xs/62fIMJXa26KyQpvVwbCdEDAdFQW4IrpidEQOY5T9CYgnpUyrYYbn+HQiM4rszLLTBBKytLc6cW5la1TMStXBFEEmQhpL1UUBQnzVMHUxEtY6YtTrz6zqOw3evolvVInDVjkYC0szQDTFY7L3eHcMDvwIkSqKHqKyOE9jcBPhNoV1Oo+4vkaW/xQUSFFAqArJXHo2H4UofEE6HQF11+X1eoiAb5g7Kq2YIOeTvo4FhuTG7XGx3O3FefFpoPGTpRuqCa+gnukEU9RTCQoiBg6lAanyWLs0ny9iSeOLPCUrZCoo/sd6TJIXai5nDoqACLYosSlUIQWifQxzJiYFTfVLoDXsHpkx3kjGcVklmyQ0jSLm6yy7yBp+o7ou9TKi+cnce2oZZsgIHIZQxeoFEDAAD9X9laOu33AZdLiKkN4sx7ONAXGm0n1ujPUWEng4DjwsNKUrNWSlKURKUpREpSlESlKURKUpREpSlESlKURKUpREpSlESlKURK4A/TV/wsRb+oDH/jrjXf9cAfpq/4WIt/UBj/AMdcaIupn8Jksplbwtjy/LoeLW3tBVGytbSqLvUo40gp8cycdNGk2n29H+4bVq+rp+nZvIu7HKvjYrw1bVGv3tvH8ut/913W10RSrs3kXdjlXxsV4anZvIu7HKvjYrw1VWlEUq7N5F3Y5V8bFeGp2byLuxyr42K8NVVpRFKuzeRd2OVfGxXhqdm8i7scq+NivDVVaURSrs3kXdjlXxsV4anZvIu7HKvjYrw1Yj1C2xsyMjOJnMcmDD7ewVbDGIG0uhXrq4CInK6O5tQg6KQqZDE0nMRDUYBObqIAP19H13kt/wDT/HL3J8gNZks+O7WaXNF6V4cGQuVAboLrlAPdcJJARNUw/W9whwMJhATDDJeCdniYneYkZ4ZkHBHi5G/wngMjvyBGKyXZvIu7HKvjYrw1OzeRd2OVfGxXhqqtKlFKuzeRd2OVfGxXhqdm8i7scq+NivDVVaURSrs3kXdjlXxsV4anZvIu7HKvjYrw1VWlEUq7N5F3Y5V8bFeGqaenzE88fwO6rtfU3kq3ELOJoiKLZhGzEMdOSXIh1hFW0nNrUMUyhwAQIBzmAhSE0kL1BUo9NhyJY3vKihgKQk/nhjGEegAASm6dRqCQBJTNfrs3kXdjlXxsV4anZvIu7HKvjYrw1S3CeQZ8f1FunMsv9xdxTM0bUk8SZOXAmb2v9XuQR9humPyJ77JwzcnAP2nFQR/Z1rXMdyWS4YkvqTuWMcPW272Swzcbxcmyd2TtfREbMyWcAzSKioCzjrrUEinsEMJw6KCIiASCIl2Aul2Oq64MIOyCTjlhsMqS0zdbibwb1y0uBG3IYZ47ldezeRd2OVfGxXhqdm8i7scq+NivDV57Vns99yrD4PZ4y1cWCdQxxL7Rev1mYq+lIzYBRVa+x0IAldpCBwWMPyMAkDoAjlsC5YumYoY+kd7iiEduFsv90sDpi3uQv0gVYujtzHIsKSQmKYUxMHVMBABDrVi1wN0jGCeDrh4Ow78lQOBF4ZYDi28OLcf+14ezeRd2OVfGxXhqdm8i7scq+NivDVn8gyjJ1lMZvjnGDOSKpNDO1HF1kBbWzEQEQ+HIZNFyuZcenUAFAqXQfmqA/Vrm7IM9s+Wrj6U/UBFYD7l6vshcFaN1zopukE1rO+FVsdwP7EiqpgYwgA9QT1FIY3Qo0ab5gbQD/cSBhryKsRAO4E8BOer97DFy7N5F3Y5V8bFeGp2byLuxyr42K8NWmSD1Ry2LY/yteL7iq2oTDESKT+7WQklOdk9YKo++m4avvhNZtSZVQAh25B1piURABA9bs4zLdmuaobiteHNv1bMo0+vze7luoiqgs1MgCjc7b2QASiDlMSqAr8+hgEgdAEbASYH7wLvcD2iM8EJgSf3BA95HYZyxX47N5F3Y5V8bFeGp2byLuxyr42K8NVVpUIpV2byLuxyr42K8NTs3kXdjlXxsV4aqrSiKVdm8i7scq+NivDU7N5F3Y5V8bFeGqq0oilXZvIu7HKvjYrw1OzeRd2OVfGxXhqqtKIpV2byLuxyr42K8NTs3kXdjlXxsV4aqrSiKVdm8i7scq+NivDU7N5F3Y5V8bFeGqq0oilXZvIu7HKvjYrw1OzeRd2OVfGxXhqqtKIpV2byLuxyr42K8NTs3kXdjlXxsV4aqrSiKVdm8i7scq+NivDU7N5F3Y5V8bFeGqq0oilXZvIu7HKvjYrw1OzeRd2OVfGxXhqqtKIpV2byLuxyr42K8NXEH6XaASuK+m2N3C+5vmsxbqThmiVje2llSQTOLB+ILFFjb26usAKJQATiToc3UojpEv9NK4A/TV/wsRb+oDH/jrjRF2pGv3tvH8ut/913W11Jn8Jksplbwtjy/LoeLW3tBVGytbSqLvUo40gp8cycdNGk2n29H+4bVq+rp+nZvIu7HKvjYrw1EVVpUq7N5F3Y5V8bFeGp2byLuxyr42K8NRFVaVKuzeRd2OVfGxXhqdm8i7scq+NivDURVWlSrs3kXdjlXxsV4anZvIu7HKvjYrw1EXsnjf1AMZo1v+MF4heo8e1maO47f3i1sFN57mojxJ4g1cnN9QdBkTJgX5AYDAPXr+PT5iN1huBOLBdbo2uF4vN6uUjuyzRIUmwPHzg66iaBR+YJE1AQoj8zAXUIAI9A83ZvIu7HKvjYrw1OzeRd2OVfGxXhqhouZbx2EzHGOAGQAUu6WfX2gRPCeJJxMqq0qVdm8i7scq+NivDU7N5F3Y5V8bFeGqVCqtKlXZvIu7HKvjYrw1OzeRd2OVfGxXhqIqrSpV2byLuxyr42K8NTs3kXdjlXxsV4aiKq1zFb45lCZ+mCawvEhLAW9SCbz62KuLzcl2STZotJ7sVZRM6CCxzK6R0lDSUAE2rV9XSakdm8i7scq+NivDVNPT5ieeP4HdV2vqbyVbiFnE0RFFswjZiGOnJLkQ6wiraTm1qGKZQ4AIEA5zAQpCaSFq5ocIKs1xYbwzXkm/pSuFjkuKJ76ccO4ghUgiF1C4SE7dU1u+LbGbGQXYEWbW8x3BDgqcQVVAnQUyG9sRMOnLXHDOfbbeswsIgeBKWTLlwFyFwuFxeJvLIU9uQZKH+GI2Mm8N0SE5Se8gACAdTm1fVoHZvIu7HKvjYrw1OzeRd2OVfGxXhqs6HBzXYh0gjc66SNsdEZb9ZKoAW3S0wWxB3i9B2fSPdqAWrXDA8zhEvxLJcQDHn7PHkYdQx3b788WZirb1StdLhJVBFX/ADiGZkEUzEApgMYNRPkNMN+nNZhj+/4+9Q8SgM2aupldpMxE7T49sr8Y5VWKodq6Q0t1SAscmkp1egCP+YPUa2ns3kXdjlXxsV4anZvIu7HKvjYrw1WLy4kuxJn8zg8/mx7dkRDWhoDW4AR3NLR+Ux+zOo5B9Pl9v+QGZGMTx7IcaljbexNIzI0zgxja6KhxB2ztxG6jZyJkzJk0HMgYpUSlKoBTCFadE/TbnCJ4jwfG2ZoIeSYdvK746J7o7+AujcWjpApSrA0A6BzA5+f+UcCaeoe5/pGv9m8i7scq+NivDU7N5F3Y5V8bFeGqrSW5HWD2glwPEnPMYGYCs7pSDrEdhbdI7QBlrEiCTOk3D03y+eRTNbudXOx2mWZis6dl9q0qKvGVobN2qiLYnvqJpKOR1qqKHP7af+sClKGnUb9WTF/qDfZfxdk6aNsft20Rj1zj93t9ru71UwGc/DdHbdRRoX3eotgD2DlT0AP+6p1+W6dm8i7scq+NivDU7N5F3Y5V8bFeGqWm668N3cCO8OM6znniocLwgnb33T3XWxuEZEhVWlSrs3kXdjlXxsV4anZvIu7HKvjYrw1QpVVpUq7N5F3Y5V8bFeGp2byLuxyr42K8NRFVaVKuzeRd2OVfGxXhqdm8i7scq+NivDURVWlSrs3kXdjlXxsV4anZvIu7HKvjYrw1EVVpUq7N5F3Y5V8bFeGp2byLuxyr42K8NRFVaVKuzeRd2OVfGxXhqdm8i7scq+NivDURVWlSrs3kXdjlXxsV4anZvIu7HKvjYrw1EVVpUq7N5F3Y5V8bFeGp2byLuxyr42K8NRFVaVKuzeRd2OVfGxXhqdm8i7scq+NivDURVWlSrs3kXdjlXxsV4anZvIu7HKvjYrw1EVVrgD9NX/CxFv6gMf8AjrjXVXZvIu7HKvjYrw1cQfpdoBK4r6bY3cL7m+azFupOGaJWN7aWVJBM4sH4gsUWNvbq6wAolABOJOhzdSiOkSkX9CY1+9t4/l1v/uu62utUjX723j+XW/8Auu62uiJSlKIlKUoiUpSiKU5wml9K1Ni/Hdz+Dlt7trl4q/TADmsVsTKIKPhL+z3BMIJIFN/qUMJuhipKAHl9I0qcyz0343uF5kit5vikVtbi6LunguHZllW5Ta1zGETiY/zN1N8x/b86yWYMEY0yXbbrerphjHcrl42xRpbXkmtDdQQOBTe0Q7kyCqqaYHMI/VKbp1EQDqNYz0o4U7DYUj0CuUTiNnv7JmkhenEbDUjdHKRATB2ooKCB1FTlKAmE5BEBHpqMAahmjg2oHZm73X8uwid+71VXE07uQvT23c+BjVGw52GlKVCJSlKIlKUoiVzRb0nCvpDywdndrpa3Te+ZLdNntrfrMnTdZKRXdRNRNZExTkEDkKPyHoIdQEBARAel653iEclEw9MOR4hC0rWe932TZGtjP9aOVG7Uh15Ldktah001DgBQOJugEHUIAHUvXUHPa2udQe1mZBjrjBb2YtbWYX5SJ4qKQGRfH3r0/JYtn2W7bKL0uydSk83ukiLaLxbysBUfIoJ3owoulzm0mS+CKYShqPqKQNQUoM4S3G1p9SU+XjDu9vse3tJ2raLhNFVmAsy25ut0Ym+AAzTqiYDigJFCisY/+b0HVX2JgjOc6tGH4PkVnBI5HsV3S0XpZ3ZL68ur26uLch7aKZSKsmpWpDmETHNrVHp9UA6dRHyS7AGeZFHfUfYkGEBIbMCxS2NU8iegDVH4JJkJnQAwHSYE0QVApBOAmMKfUAD3B7K75fULPx3dmdMiNgMO6Jygn6QXJZWgCnzuoMvdcPnrOIlwzwGorcJT6iMpw6yNpbIMEs2NifyGP2hksvLCC4XbXNYiAr+ym2PoVRUVTAyJjgUxTCJVeoaa3WwZYu10zzKsLXKJNmaFhsVuv7K7I3MVjPUXSqyQkUQFEnsmIdup+xRQBASj1AREAwWXsV5Ayfgi2xJmePWmZ2p1Zrwgkq7Xc2wXtvdouComXBEiopHFHSKgIgYAN10D06D5ILjnMrP1FXnMc0QhydpkMRt9jUZWy5uVl7a5auF1dJRUbEK6TOLgR90RREvQC+2PTUKG85GoOd7Nzo/nB+OBCNLuaBPrFrfav9L8h8MQVcaUpWa0SlKURKUpREpSlESlKURKUpREpSlESlKURKUpREpSlESlKURKUpRErgD9NX/CxFv6gMf+OuNd/wBcAfpq/wCFiLf1AY/8dcaIupn8Jksplbwtjy/LoeLW3tBVGytbSqLvUo40gp8cycdNGk2n29H+4bVq+rp+nZvIu7HKvjYrw1bVGv3tvH8ut/8Add1tdEUq7N5F3Y5V8bFeGp2byLuxyr42K8NVVpRFKuzeRd2OVfGxXhqdm8i7scq+NivDVVaURSrs3kXdjlXxsV4anZvIu7HKvjYrw1VWlEUq7N5F3Y5V8bFeGp2byLuxyr42K8NU59StyRRzvjG0yi65IQiDqxSFd81hjq/JquHSZ2PsCclmEHCmkDq9PkIABjCNV7CC+MHuOmFxxBfnF5jb1Vdwk9dXV3cXCixlDe97yzw53HuApqKYiptRBDSIF6dAM6bL3X3EjHZMEo/okD95Tht/97cP2byLuxyr42K8NTs3kXdjlXxsV4aqrSiKVdm8i7scq+NivDU7N5F3Y5V8bFeGqq0oilXZvIu7HKvjYrw1OzeRd2OVfGxXhqqtKIpV2byLuxyr42K8NU09PmJ54/gd1Xa+pvJVuIWcTREUWzCNmIY6ckuRDrCKtpObWoYplDgAgQDnMBCkJpIXqCuW3QukfRdmN/b7tdLY9t12ybcWjy13Fdi5QcN5Fd1kjkWQORQvQ6ZREAN0MHUpgEoiA51agpU3VDqE8FpRpmtUbTGsgcVT+zeRd2OVfGxXhqdm8i7scq+NivDVEsRu7H6lGsWgNsyFk2xtMX223vJCC0ivdovt/cvGwHKC4qKJuDshHUcFjCJjmACpCmmURUoF39TMqs0BzZKAxhbHFwwzcVmp2ASVT2ro1TZoPBWBczTUkoKC/wDtimcNZdPudB11tWAolwcfVk/2ggXuJHvyWVImsGXRi6B2kEgcB8M1tvZvIu7HKvjYrw1OzeRd2OVfGxXhqxF/zzOWOSIZj2P4vtd0/wAdRh3fra8WkhmwN12wICoi5J8IbQl/2lMAVTFU4j1/yQAOtT/IOfb3N/T+wnSMeudgc2/ILKMyNpZZeZm6YuG95TaHKg5KzODpE6nt60zkQ1oKHDUUfkK6Q8MOcx+e4eDsNnFAQWc4MokeyXAdoCq/ZvIu7HKvjYrw1OzeRd2OVfGxXhqwt/znk1rlmX4ljGI7LdnkejzOSsHriWHaIPGyyiqYprh8Ec7dbUgppAgLEMGnUdPr8vM09UCkqhuKbvjqDJ3WQZbaKO7XbLldvgWrIiDf3nQuXREVjB7f+gNCJxMYQ+RQ6iFGm82+MvEuHva6dkYqzgWuunP/AKB9xEbZwWx9m8i7scq+NivDU7N5F3Y5V8bFeGr8en3L01y/b5Q7mOP7PE1o1IHccO2YyFS6nO5bHEqxjCZogUpBAUzEEonExT/WAhgEtVirRgDtAI6iJHcVUEEkbCR2gwe9Srs3kXdjlXxsV4anZvIu7HKvjYrw1VWlQpUq7N5F3Y5V8bFeGp2byLuxyr42K8NVVpRFKuzeRd2OVfGxXhqdm8i7scq+NivDVVaURSrs3kXdjlXxsV4anZvIu7HKvjYrw1VWlEUq7N5F3Y5V8bFeGp2byLuxyr42K8NVVpRFKuzeRd2OVfGxXhqdm8i7scq+NivDVVaURSrs3kXdjlXxsV4anZvIu7HKvjYrw1VWlEUq7N5F3Y5V8bFeGp2byLuxyr42K8NVVpRFKuzeRd2OVfGxXhqdm8i7scq+NivDVVaURSrs3kXdjlXxsV4anZvIu7HKvjYrw1VWlEUq7N5F3Y5V8bFeGriD9LtAJXFfTbG7hfc3zWYt1JwzRKxvbSypIJnFg/EFiixt7dXWAFEoAJxJ0ObqUR0iX+mlcAfpq/4WIt/UBj/x1xoi7UjX723j+XW/+67ra65hg7PIuRMzZMj6OcZfGGkWTsiLYLMwspjLkcN1VTAqLtgv10n1iXTp/wBZgHV0LppPZvIu7HKvjYrw1QDOKypVW1m3m7SOBIPuVVpUq7N5F3Y5V8bFeGp2byLuxyr42K8NUrVVWlSrs3kXdjlXxsV4anZvIu7HKvjYrw1EVVpUq7N5F3Y5V8bFeGp2byLuxyr42K8NRF7MgJeoJlM7de8V/wCDbzHhtqrW4WKQP17YYrvWBknaLtBq5MP1dRDJGIACHQQEB618vT5ie6YihdxtkhvDW5XyRSC5ye7KMkzJtE3b1cyp0m5DCJgSIAlKHX5mEBMIBq6B8OzeRd2OVfGxXhqdm8i7scq+NivDUb0Mt47CbxHGOAAwEI43sDlIPaBAPAniSccVVaVKuzeRd2OVfGxXhqdm8i7scq+NivDURVWlSrs3kXdjlXxsV4anZvIu7HKvjYrw1EVVpUq7N5F3Y5V8bFeGp2byLuxyr42K8NRFVa5vsMTlE+9KeTYHDErWe8yWSZHs7Ybo8UatkxcyW7ImUOomkqcNBTmMBQIOoSgXqUB1BvfZvIu7HKvjYrw1TT0+Ynnj+B3Vdr6m8lW4hZxNERRbMI2YhjpyS5EOsIq2k5tahimUOACBAOcwEKQmkhaVGCqwsdkcFenUNJ4e3MGeC+t0wlnW0v8AEeTMesIG0n0StIRuYN3N+eJ269WcqYAVuVYjIyhjFVKVZM50i+0YTl6KAYevmnvp7zjdWeeIrD7hCErNmRqZ0g/uDt2Du2Pj25Jmq3MgRASKomBAolWBQpiajCKSnQCjT+zeRd2OVfGxXhqdm8i7scq+NivDVpUPO3730r09TiCR1XgHdc6iQc6Q5m7c+jdj+3AE74N2dkDUI1Rri3M58xYlnj60wpK0QuJvrFeU0r+7Uc/EugbgYzcosSlVTJ8IToJzJCb3TfIugNc7U9N3qHHB8jx4nb8dBer5k7/G5BNJXwtSMxuadwFEVP1dr93WkCX+3p6GE/XqHtjb+zeRd2OVfGxXhqdm8i7scq+NivDVJcS/nNeJ4vFT/kB2YI1oazmxlh3NLPcT24rXk8c5lR9QE0yoFmhZ7Pe4Qzj1uQGQOiufjG511gFYPgRIRI6jkxBOUxjFKmB9BhMJCwcmLJrE7D6fvTPIrLEbvMoywvV1KRrMLlYyHRQAqJV2t4bNQeIq/wDavrt0kh1l66z6SfW6Z7N5F3Y5V8bFeGrXpp6V1ckW5K0ZEzvNJSwRU95Nreo1D3yJFOnTUUi1kMUDf+oB1rOIAaMtnUXOB14hzie7DAixJMmcf+mtjqutjxGB9PphkNpBjLsV2/HVuibrH16C33Alqvit5ZO3LlEjs6wPl0kl11x97qsKxPc1iOoxuvWrbUVjPpwvsKsreNw31G5BsNoaAIN2FssMRatkQEeo6Ek7KBS9RER+QVlezeRd2OVfGxXhquTMdQ4xie06tWSq0XcOtVWlSrs3kXdjlXxsV4anZvIu7HKvjYrw1QpVVpUq7N5F3Y5V8bFeGp2byLuxyr42K8NRFVaVKuzeRd2OVfGxXhqdm8i7scq+NivDURVWlSrs3kXdjlXxsV4anZvIu7HKvjYrw1EVVpUq7N5F3Y5V8bFeGp2byLuxyr42K8NRFVaVKuzeRd2OVfGxXhqdm8i7scq+NivDURVWlSrs3kXdjlXxsV4anZvIu7HKvjYrw1EVVpUq7N5F3Y5V8bFeGp2byLuxyr42K8NRFVaVKuzeRd2OVfGxXhqdm8i7scq+NivDURVWlSrs3kXdjlXxsV4anZvIu7HKvjYrw1EVVrgD9NX/AAsRb+oDH/jrjXVXZvIu7HKvjYrw1cQfpdoBK4r6bY3cL7m+azFupOGaJWN7aWVJBM4sH4gsUWNvbq6wAolABOJOhzdSiOkSkXV3p+/iBzl/7Z/+ErXQ1c8+n7+IHOX/ALZ/+ErXQ1Up5dp9647B/pH+p/8AzclKUq67EpSlESlKURc6+ojNLuzZQiOCbPIbtYgv1rfSG/3Kx2xa43dK2tzETI3Yt0UVjmWWUUEBUKmcyaaShigBtJyVDC0mx3KIC0cYxk1yvlnZLLsjLXV69c3BFyQ4+6i6F8IuiLFMPQU1uhigJQ6AXoFarkTGGQUcz2TPGLAj1yurSPuIvc7Jfny7Bu6ZqLkcJrJOkUFzJKpqEEBKKJynKcQ6kEAEczg3GV8x1bZPcZXcWLm/zWRu5Nc0rcB/gmiqxE0yoICcAMcpE0UwFQxSic+s+kurSEUfUIdniT134aOq5jhgCDPSJSq43gG5YR1Xekeu/hjiRuAil0pSpRKUpREpSlESuaLckur6RMrnaXa62ty3vmS3Td7a36zJ23WSkV3UTUTWRMU5BAxCj8h6D8wEBARAel653iEclEw9MOR4hC0rWe932TZGtjP9aOVG7Uh15Ldktah001DgBQOJugEHUIAHUvXUGFqDjQeGZwY64wW1mLW1mF+UieK0DEuX51Z8ISDDFylNxuGULNe0IlYbndnBnT18hdC/EW25rGHqKgpNFFVVPmPyYrfsr3enbKy2LfSZE5JfrxJp9J5RJXMftf63vyzt3d7ipcV2zcguHJzgimCSAHPoDSUqahgIYw9DVSP4CtrSTx7Nt3sbTuXYocWNg1b3hQ1pUUIU2g4qC3KcTBrVTKt7Woqa6gaDfIKlNm9Ik5uHpgiuIp9boE/kMGlJpLb2i661zsd2D4hdUW7wFWqZyEOm7WSHokpoECKAB/8AbrrruHOOLDrEna0Ogkb4BfgM3RdN0TyUmnm2h2oEgfiLSYOIwDoaJOQJvYmN0lHqjlcNhGU39+xbayTHEzBtebpZUZKodg9ty6Z1SLtXvwYKGMJUly6Dtif5iYl66RA9brZMk5hu7C4Pz4FO3Kqdl+oRGTNRK6RXTMY6zz6oGaFREClOVMrg46wEhT9DAEzkvpukT/A+SINA8MYVx7IZ1aRspGsdMdu1KmYpimXcvkmCZ1xKChjES+FKACAh7g69RdzyjjnLU2x3CLfayRstysdwaO5FGnV6dEs98bEQUTUZKPCNRVMlqORQAM2EhxTAp0xKI1RwwI3tHVOZ1zqJ6zujQySI2O7gLo7TMdQmRnKPUBkU+XvTB6ioXknGtstMjxvbnCTpoR4F2ZCqZiV00eNV1UETauhwEBFIhiGL8h/YNVaB5olQZEjGKJnjdKxt5LGFb1H7gjegdrKka/DlXQeNwRIDZUAcJmD21VyD8w19Q6VJHHpNyraYRn6EQiMYrszDLbNqnZ2lteOLaztSgsyNnBDoJMTFECjrUBQvzWN8zER1jppymNMzPc14nyI8tULRtcRjD+z30id9dqOBcPCoaxakFkUqhEzNSdDHOmJwUN1KTSGpSzE5ENn+q4+T7V3HLsU1MQI1XsdxcyB2icMx1rZsx5gkuLpPj+yWmAtZC0nN7NYBW/XPwjhm5FuqumcEjImIqlpQU1mFUhi/LSVQR6VObp6sMkWiO5NuTvBNvG44gcCMnSTl3Vmqz+FI6BRguLMFF1vZPqFJVFAodOnuCIgFbtnfHeS5zMcVXmDM4yswhUp/xBdf1tdXDRZRMGqzcE0CpNlimN0cnP1OYgdUyl/74mLPJFgfOt5s/qQtKNvgZAy/0TsJjSF5/wBmILEjAx3XRh9QfbTKsBU9f1hFPV0/zKxl4pvIEu6V3fHN3e8vGrDsK2aKZqMDvV6M9peD3XT+4VU70Pz5ojWL0Io1UtUsibuT2+7jczAuUzdRuQ6CrX2OhQEHSYgoCxh+RgEgdAEdTj/qnc3DFxZjeselaSZ3NHUBt0eZXf4ojy6pPFGwdHRkU9KPRJRY5xS6kTIcdJhACj/j7FOZW0wxPk2xtoWte4lG3kYkNqd3Z0m1Mi5BqYy7RyVqY5zEUaFECKIkAxTiGogh1rULH6Z80W3HAWp5doYvLY1lF3kSPuiOXRWNyBZyuodB0T2dbTUm6WT+oLjSOk3U3TpXQ9rQ+AejiCdf+qII/wBo7CMMi4FczC405I6WEbP9IyD/ALgHUNYEL8YkGSW/1kZXvEjxbabFIV4DY3jtnHLmV8nd1AcvQIqRwui01qmKQqQiqQnQUwATaQA1U+zZsm7fMFgxVkbFzSPFl9pfXWxPWUg/WJ+rQURWbvEvh0yIKgVco/5Sq5BEBADj8hHTH2GvURIMkz6er36JxdWbY9Ri7FzZ7o6cOo/cEVHJ01CGO1TB0QTOdXu9UDF6dATEQ1jiYT6acgx/MeNsulx9iiPObBbrlaZQWyv3Kj25fEJoFK9M9OyIo8U6pnH21wKJdQj7ygnEQpSBbcpuyAcDsxdUIx3dHXGI1Sr1MXPeDnHc2nP/ANRrwOshdV0pSiJSlKIlKUoiUpSiJSlKIlKUoiUpSiJSlKIlcAfpq/4WIt/UBj/x1xrv+uAP01f8LEW/qAx/4640RdB2nB9w7jyu/wAVzVOoq7vLS2L3E1sQsyxXRkwXRTAQeW9fSBCp/LRp6ic2rV9XTs/ZvIu7HKvjYrw1bVGv3tvH8ut/913W11AEZKrGNpiGiMzxMnvUq7N5F3Y5V8bFeGp2byLuxyr42K8NVVpUqylXZvIu7HKvjYrw1OzeRd2OVfGxXhqqtKIpV2byLuxyr42K8NTs3kXdjlXxsV4aqrSiKVdm8i7scq+NivDU7N5F3Y5V8bFeGr95rh8FPbLjlDIsym1sssWszhw4bWWX3GyNipp6lVFjAxXQMqqIF0h7hzAAAAFABERHGekmMy2P4Rs9wnF5kL28SVRaQqt73eXNzWtaLo3uIMCrOVFFBKiiKRB6mEROBzD8zDRnSDp1R3kxxAJ7IOKO6MRr+ABJ7CQO3Ysh2byLuxyr42K8NTs3kXdjlXxsV4aqrSiKVdm8i7scq+NivDU7N5F3Y5V8bFeGqq0oilXZvIu7HKvjYrw1OzeRd2OVfGxXhqqtKIpV2byLuxyr42K8NU09PmJ54/gd1Xa+pvJVuIWcTREUWzCNmIY6ckuRDrCKtpObWoYplDgAgQDnMBCkJpIXqCuVX2VrphL0fZIyVYkUFbra5pOErcDgBFIrtxMLi3RMcA+YlKoqUwh/+QAQ+X7aq510SBO7bsA3lWY2+4N2qq9m8i7scq+NivDU7N5F3Y5V8bFeGrwxTAVyjt5h8wLmOfPbxaxOpIwuUhevGN/BRqomYosjqg1a9FjprEFBEgF9vTp6G6hq731X39tDXWbEMUJr4kZXBRqtfC37pdvhU3ItlbgW3fD6BbFUKY3zdAqKYavbAfq1cgBwZOPdnGezrjqwWYdeAcBgY68ZwjbhqkZYyt27N5F3Y5V8bFeGp2byLuxyr42K8NUScSlliX1QZ+mcVittf3VeHRV00tSawMjXy5KKPikRBQiShjLq6SkKOgwiIFAehQEQrD7N2SEr5YMZW7Fdic5LuVjVkl0s6ksOnbLQwKqCRRUfAzMooodQdBSkbCUTEU6nApQMaoMgHWdW8XpjbAaSdggmJCscHEasMdxDSJ2SXADacBKyvZvIu7HKvjYrw1OzeRd2OVfGxXhqiGRJxFsySb0sZdtkb+AfucgPbccHaSZnrE6bB+m6aCqXr9UF2/QQKOkwplN0+QdK3lnOs9xQmErumHkzwhte2VmfXFWQpkuRSOXKbcjxBkkiqmohrWJ8lHKSvTr1TD5dZbjgc713dMNIxyxvDxUON0xunfm4ERuun3ZrKdm8i7scq+NivDU7N5F3Y5V8bFeGrT7Xk7P731YS/GjWORF3ELPZLG+ImvIFUF26Dlw8Io7IBbccVVzFR6C3MqVMvtE6K9VDCXoWpAlodt+BhSei8s1iO8A/H9iCpV2byLuxyr42K8NTs3kXdjlXxsV4aqrSoRSrs3kXdjlXxsV4anZvIu7HKvjYrw1VWlEUq7N5F3Y5V8bFeGp2byLuxyr42K8NVVpRFKuzeRd2OVfGxXhqdm8i7scq+NivDVVaURSrs3kXdjlXxsV4anZvIu7HKvjYrw1VWlEUq7N5F3Y5V8bFeGp2byLuxyr42K8NVVpRFKuzeRd2OVfGxXhqdm8i7scq+NivDVVaURSrs3kXdjlXxsV4anZvIu7HKvjYrw1VWlEUq7N5F3Y5V8bFeGp2byLuxyr42K8NVVpRFKuzeRd2OVfGxXhqdm8i7scq+NivDVVaURSrs3kXdjlXxsV4auIP0u0AlcV9NsbuF9zfNZi3UnDNErG9tLKkgmcWD8QWKLG3t1dYAUSgAnEnQ5upRHSJf6aVwB+mr/hYi39QGP8Ax1xoi7UjX723j+XW/wDuu62upM/hMllMreFseX5dDxa29oKo2VraVRd6lHGkFPjmTjpo0m0+3o/3DatX1dP07N5F3Y5V8bFeGoiqtKlXZvIu7HKvjYrw1OzeRd2OVfGxXhqIqrSpV2byLuxyr42K8NTs3kXdjlXxsV4aiKq0qVdm8i7scq+NivDU7N5F3Y5V8bFeGoi++e8YX/MNij8HaXFo1jS0gZvJYmqqciz21txMsLRICkEB91ciBT9TED2vc+YiIANNAAAAAA6AH7AqV9m8i7scq+NivDU7N5F3Y5V8bFeGoMBA2z3AfD37UOJB3R3k/H3bFVaVKuzeRd2OVfGxXhqdm8i7scq+NivDURVWlSrs3kXdjlXxsV4anZvIu7HKvjYrw1EVVpUq7N5F3Y5V8bFeGp2byLuxyr42K8NRFVa50ieLrZmr0yT7Fl3fKsUJHMJ80K8RLqO1V/xVczJLFDqHUSKFIfp1Drp6dQrduzeRd2OVfGxXhqwcO9PEqi9ocWyP+qLKjNqtdbncVEwZRlTU5dvl3LhTqe0CP11llT9AHSGroUClAChVzQ9padas1xY4OGYXshtv9VJ7lEbXO3GPmVlsesL/AHC03F07eSEoNlEkwBus0TKyAVTJrG0rKm6pgUDaRN1naHpszCjh5b0rjcIgONlnCzX/ABD8c7G8lsqjoy4sgYigKQraDewDj4roAfX9rqGmqp2byLuxyr42K8NTs3kXdjlXxsV4arkkuvHPXvxnEfDLEjIkGgECG4RlGrPLXrzMnLHARIMiekuY5DzLkbJL2zQ5os/jduZwG+oXZf8AXNku1vMoo3cahZCDciiigAp7ain1EgKJVAOIF+8m9OOSJ9KIzl3KWJ8JzqXNo5/hm+2K9OVlrSoBFhWSfsnK1uVUbqazrAZEzcwCVQoe79Tqasdm8i7scq+NivDU7N5F3Y5V8bFeGqrRdAGzHtMyeshxB3RrAIsde+B2C7A6hdBHbtM6FL8BT4XOFU8dQ3GNktmPZOtI7rbrcutZ2hPcQXRFFmgi0VKcQB0c4qHFLWdP/QT3B9vR8nekjLM/sspYXG14yv8AIDSokgjsxvrpyrdgZhcEnJbb82h/1cmmkQUSmbqKkMUOntFFQ5guvZvIu7HKvjYrw1OzeRd2OVfGxXhqkSHXhnM9vR91xvZnMlRqg7hwve+86evCIEY9HG+T7X6hHeWbL/hYbTKYzarNe0XTxwZxb1mThwqItilRArkhyuTk6nOiJRAp+hg6pjZalXZvIu7HKvjYrw1OzeRd2OVfGxXhqmcABqnvJPxUR0i45mO4Ae4BVWlSrs3kXdjlXxsV4anZvIu7HKvjYrw1QpVVpUq7N5F3Y5V8bFeGp2byLuxyr42K8NRFVaVKuzeRd2OVfGxXhqdm8i7scq+NivDURVWlSrs3kXdjlXxsV4anZvIu7HKvjYrw1EVVpUq7N5F3Y5V8bFeGp2byLuxyr42K8NRFVaVKuzeRd2OVfGxXhqdm8i7scq+NivDURVWlSrs3kXdjlXxsV4anZvIu7HKvjYrw1EVVpUq7N5F3Y5V8bFeGp2byLuxyr42K8NRFVaVKuzeRd2OVfGxXhqdm8i7scq+NivDURVWlSrs3kXdjlXxsV4anZvIu7HKvjYrw1EVVrgD9NX/CxFv6gMf+OuNdVdm8i7scq+NivDVLPUX6NGec4SyiWWvUHlGRWhpdUrig1OnH2oEclRWTKprbWtM49CKqB0Ewl+t16dQAQIv/2Q==)\n",
        "\n",
        "### Interpretasi:\n",
        "\n",
        "Untuk kalangan muda dengan penghasilan cenderung rendah menyukai rasa dengan labelling warna merah muda, untuk kalangan muda dengan penghasilan menengah menyukai rasa dengan labelling warna hitam, untuk kalangan muda dengan penghasilan cenderung lebih tinggi menyukai rasa dengan labelling warna merah, untuk kalangan dewasa dengan penghasilan cenderung rendah menyukai rasa dengan labelling warna biru, untuk kalangan dewasa dengan penghasilan menengah menyukai rasa dengan labelling warna hijau, untuk dewasa dengan penghasilan cenderung lebih tinggi menyukai rasa dengan labelling warna kuning. Sementara untuk usia tua dengan penghasilan menengah menyukai rasa dengan labelling warna merah, dan untuk usia dengan penghasilan cenderung lebih tinggi menyukai rasa dengan labelling warna abu-abu.\n"
      ],
      "metadata": {
        "id": "UhUlzdiWxmiR"
      }
    },
    {
      "cell_type": "markdown",
      "source": [
        "# Penutup:\n",
        "\n",
        "Akhir kata, kami memohon maaf dari semua insight yang kami berikan kepada perusahaan MIxITup, kami belum bisa memastikan hal tersebut adalah yang terbaik.\n",
        "Diluar dari data yang kami berikan pastilah ada variabel lin yang menunjang data-data yang lain menjadi menarik.\n",
        "Dari data yg diberikan terdapat kekurangan variabel terkait harga tiap rasa. Tidak menutup kemungkinan vanilla yang cenderung paling banyak diminati karena harganya yang murah.\n",
        "Oleh karena itu, insight yang telah kami berikan belum sepenuhnya dapat menjelaskan secara menyeluruh."
      ],
      "metadata": {
        "id": "OhVm_8bLPHTR"
      }
    }
  ]
}
